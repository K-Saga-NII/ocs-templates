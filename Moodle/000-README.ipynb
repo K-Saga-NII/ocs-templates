{
 "cells": [
  {
   "cell_type": "markdown",
   "metadata": {},
   "source": [
    "# README\n",
    "\n",
    "---\n",
    "\n",
    "VCP SDKを用いてクラウド上にMoodle環境を構築します。"
   ]
  },
  {
   "cell_type": "markdown",
   "metadata": {},
   "source": [
    "## 構成について\n",
    "\n",
    "![構成](images/moodle-000-01.png)"
   ]
  },
  {
   "cell_type": "markdown",
   "metadata": {},
   "source": [
    "このアプリケーションテンプレートではDockerコンテナを用いて[Moodle](https://moodle.org/)環境の構築を行います。\n",
    "構築する環境は次の３つのコンテナで構成されます。\n",
    "\n",
    "* Moodle\n",
    "  - MoodleのPHPスクリプトを実行するコンテナ\n",
    "* [MariaDB](https://hub.docker.com/_/mariadb/)\n",
    "  - Moodleの設定を保存するデータベース\n",
    "* [Apache HTTP Server](https://hub.docker.com/_/httpd/)\n",
    "  - Moodleサーバに対するリバースプロキシ\n",
    "\n",
    "ここでは小規模構成を想定して３つのコンテナを１つのVCノードに配置する構成とします。\n",
    "またMoodleとMariaDBコンテナに対しては、データを保存するためのVCディスクをそれぞれのコンテナに割り当てます。"
   ]
  },
  {
   "cell_type": "markdown",
   "metadata": {},
   "source": [
    "## 事前の準備\n",
    "\n",
    "このアプリケーションテンプレートを実行する前に、以下のものを準備しておいてください。"
   ]
  },
  {
   "cell_type": "markdown",
   "metadata": {},
   "source": [
    "* Moodle環境を公開するときのURL\n",
    "* URLに対応するサーバ証明書とその秘密鍵\n",
    "* Moodleを構築する仮想マシンにSSHでログインする際に用いるSSHの公開鍵の秘密鍵\n",
    "\n",
    "サーバ証明書、SSHの公開鍵などは事前にこのNotebook環境にアップロードしておいてください。"
   ]
  },
  {
   "cell_type": "markdown",
   "metadata": {},
   "source": [
    "## Notebookの一覧\n",
    "\n",
    "お手本Notebookの一覧を示します。"
   ]
  },
  {
   "cell_type": "markdown",
   "metadata": {},
   "source": [
    "**注意**:\n",
    "\n",
    "この節ではお手本Notebookへのリンクを示す箇所がありますが、リンク先のNotebookは参照用となっていて**そのままでは実行できません**。\n",
    "\n",
    "> Notebook自体は実行できてしまいますが、パスなどが想定しているものと異なるため正しく処理できずエラーとなります。\n",
    "\n",
    "次のどちらかの手順で作業用Notebookを作成する必要があります。\n",
    "\n",
    "* 次節の「作業用Notebookの作成」で作業用のNotebookを作成する。\n",
    "* お手本Notebookを配置してある `notebooks/` から、この`000-README.ipynb`と同じディレクトリにNotebookをコピーする。"
   ]
  },
  {
   "cell_type": "markdown",
   "metadata": {},
   "source": [
    "### 各Notebookの関連について\n",
    "\n",
    "次のセルを実行すると、各お手本Notebookの関連を示す図を表示します。\n",
    "\n",
    "> 図が表示されずに `<IPython.core.display.SVG object>` と表示されている場合は、次のセルを `unfreeze` した後に再実行してください。\n",
    "\n",
    "図に表示される１つのブロックが１つのNotebookに対応しており、ブロックのタイトル部分にお手本Notebookへのリンクが埋め込まれています。"
   ]
  },
  {
   "cell_type": "code",
   "execution_count": null,
   "metadata": {},
   "outputs": [],
   "source": [
    "from IPython.display import SVG\n",
    "%run scripts/nb_utils.py\n",
    "setup_diag()\n",
    "SVG(filename=generate_svg_diag(diag='images/notebooks.diag'))"
   ]
  },
  {
   "cell_type": "markdown",
   "metadata": {},
   "source": [
    "### 各Notebookの目次"
   ]
  },
  {
   "cell_type": "markdown",
   "metadata": {},
   "source": [
    "次のセルを実行すると、各お手本Notebookの目次が表示されます。\n",
    "\n",
    "> 目次が表示されずに `<IPython.core.display.Markdown object>` と表示されている場合は、次のセルを `unfreeze` した後に再実行してください。\n",
    "\n",
    "リンクが表示されている項目が一つのNotebookに対応しており、そのサブ項目が各Notebook内の目次になっています。"
   ]
  },
  {
   "cell_type": "code",
   "execution_count": null,
   "metadata": {
    "scrolled": false
   },
   "outputs": [],
   "source": [
    "from IPython.display import Markdown\n",
    "%run scripts/nb_utils.py\n",
    "Markdown(notebooks_toc())"
   ]
  },
  {
   "cell_type": "markdown",
   "metadata": {},
   "source": [
    "## 作業用Notebookの作成\n",
    "\n",
    "この節のセルを実行することで、お手本Notebookから作業用Notebookを作成することができます。"
   ]
  },
  {
   "cell_type": "markdown",
   "metadata": {},
   "source": [
    "まず、作業用Notebookを配置するディレクトリを指定してください。"
   ]
  },
  {
   "cell_type": "code",
   "execution_count": null,
   "metadata": {},
   "outputs": [],
   "source": [
    "WORK_DIR = 'work'"
   ]
  },
  {
   "cell_type": "markdown",
   "metadata": {},
   "source": [
    "次のセルを実行すると、Notebook名のドロップダウンリストと「作業開始」ボタンが現れます。\n",
    "「作業開始」ボタンを押すと、お手本Notebookのコピーを作成した後、自動的にブラウザでコピーが開きます。\n",
    "Notebookの説明を確認しながら実行、適宜修正しながら実行していってください。\n",
    "\n",
    "> このNotebookを Shutdown した後に再度開いた場合、次のセルに既に表示されている「作用開始」ボタンが正しく動作しません。この節のセルをいったん unfreeze した後、セルを再実行してから「作業開始」ボタンをクリックして下さい。"
   ]
  },
  {
   "cell_type": "code",
   "execution_count": null,
   "metadata": {},
   "outputs": [],
   "source": [
    "from IPython.core.display import HTML\n",
    "%run scripts/nb_utils.py\n",
    "setup_nb_workdir(WORK_DIR)\n",
    "HTML(generate_html_work_nbs(WORK_DIR))"
   ]
  }
 ],
 "metadata": {
  "kernelspec": {
   "display_name": "Python 3",
   "language": "python",
   "name": "python3"
  },
  "language_info": {
   "file_extension": ".py",
   "mimetype": "text/x-python",
   "name": "python",
   "nbconvert_exporter": "python",
   "pygments_lexer": "ipython3",
   "version": "3.7.3"
  },
  "toc": {
   "base_numbering": 1,
   "nav_menu": {},
   "number_sections": true,
   "sideBar": true,
   "skip_h1_title": true,
   "title_cell": "Table of Contents",
   "title_sidebar": "Contents",
   "toc_cell": false,
   "toc_position": {},
   "toc_section_display": "block",
   "toc_window_display": false
  }
 },
 "nbformat": 4,
 "nbformat_minor": 2
}