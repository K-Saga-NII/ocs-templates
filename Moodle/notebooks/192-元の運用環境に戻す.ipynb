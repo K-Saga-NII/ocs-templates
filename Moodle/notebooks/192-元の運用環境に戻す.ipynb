{
 "cells": [
  {
   "cell_type": "markdown",
   "metadata": {},
   "source": [
    "# About: 元の運用環境に戻す\n",
    "\n",
    "---\n",
    "\n",
    "運用環境を移行前の元の運用環境に戻します。"
   ]
  },
  {
   "cell_type": "markdown",
   "metadata": {},
   "source": [
    "## 概要\n",
    "\n",
    "運用環境を移行前の環境に戻します。\n",
    "\n",
    "![元の運用環境に戻す](images/moodle-192-01.png)"
   ]
  },
  {
   "cell_type": "markdown",
   "metadata": {},
   "source": [
    "この Notebook は新しい運用環境に移行した後に、何らかの事情で運用環境を元の環境に戻す場合の手順です。"
   ]
  },
  {
   "cell_type": "markdown",
   "metadata": {},
   "source": [
    "> このNotebookでは運用環境の切り替えのみを行い、移行前環境のリソースの削除は行いません。移行前の環境を削除するには「193-古い環境の削除.ipynb」を実行してください。"
   ]
  },
  {
   "cell_type": "markdown",
   "metadata": {},
   "source": [
    "### グループ名の指定\n",
    "\n",
    "このNotebookの操作対象となる UnitGroup名を指定します。"
   ]
  },
  {
   "cell_type": "code",
   "execution_count": null,
   "metadata": {},
   "outputs": [],
   "source": [
    "# (例)\n",
    "# ugroup_name = 'Moodle'\n",
    "\n",
    "ugroup_name ="
   ]
  },
  {
   "cell_type": "markdown",
   "metadata": {
    "heading_collapsed": true
   },
   "source": [
    "#### チェック"
   ]
  },
  {
   "cell_type": "markdown",
   "metadata": {
    "hidden": true
   },
   "source": [
    "指定された `UnitGroup`名に対応する group_varsファイルが存在していることを確認します。エラーになる場合は、指定したUnitGroup名が正しくないか、「010-パラメータ設定.ipynb」のNotebookを実行していないことが考えられます。"
   ]
  },
  {
   "cell_type": "code",
   "execution_count": null,
   "metadata": {
    "hidden": true
   },
   "outputs": [],
   "source": [
    "from pathlib import Path\n",
    "if not (Path('group_vars') / (ugroup_name + '.yml')).exists():\n",
    "    raise RuntimeError(f\"ERROR: not exists {ugroup_name + '.yml'}\")"
   ]
  },
  {
   "cell_type": "markdown",
   "metadata": {
    "hidden": true
   },
   "source": [
    "UnitGroupに属する VCノードに対して Ansible で操作できることを確認します。"
   ]
  },
  {
   "cell_type": "code",
   "execution_count": null,
   "metadata": {
    "hidden": true,
    "scrolled": true
   },
   "outputs": [],
   "source": [
    "!ansible {ugroup_name} -m ping\n",
    "!ansible {ugroup_name} -b -a 'whoami'"
   ]
  },
  {
   "cell_type": "markdown",
   "metadata": {},
   "source": [
    "### VCCアクセストークンの入力\n",
    "\n",
    "VCCにアクセスするためのトークンを入力します。"
   ]
  },
  {
   "cell_type": "code",
   "execution_count": null,
   "metadata": {},
   "outputs": [],
   "source": [
    "from getpass import getpass\n",
    "vcc_access_token = getpass()"
   ]
  },
  {
   "cell_type": "markdown",
   "metadata": {
    "heading_collapsed": true
   },
   "source": [
    "#### チェック"
   ]
  },
  {
   "cell_type": "markdown",
   "metadata": {
    "hidden": true
   },
   "source": [
    "入力されたアクセストークンが正しいことを、VCCにアクセスして確認します。"
   ]
  },
  {
   "cell_type": "code",
   "execution_count": null,
   "metadata": {
    "hidden": true
   },
   "outputs": [],
   "source": [
    "from vcpsdk.vcpsdk import VcpSDK\n",
    "vcp = VcpSDK(vcc_access_token)"
   ]
  },
  {
   "cell_type": "markdown",
   "metadata": {
    "heading_collapsed": true
   },
   "source": [
    "### 準備\n",
    "\n",
    "これまでに他のNotebookで設定したパラメータを読み込む処理などを行います。"
   ]
  },
  {
   "cell_type": "markdown",
   "metadata": {
    "hidden": true
   },
   "source": [
    "group_varsファイルに保存されているパラメータを読み込みます。"
   ]
  },
  {
   "cell_type": "code",
   "execution_count": null,
   "metadata": {
    "hidden": true
   },
   "outputs": [],
   "source": [
    "%run scripts/group.py\n",
    "gvars = load_group_vars(ugroup_name)"
   ]
  },
  {
   "cell_type": "markdown",
   "metadata": {
    "hidden": true
   },
   "source": [
    "VCCのVault サーバにアクセスする際に必要となるパラメータを環境変数に設定します。"
   ]
  },
  {
   "cell_type": "code",
   "execution_count": null,
   "metadata": {
    "hidden": true
   },
   "outputs": [],
   "source": [
    "import os\n",
    "os.environ['VAULT_ADDR'] = vcp.vcc_info()['vault_url']\n",
    "os.environ['VAULT_TOKEN'] = vcc_access_token"
   ]
  },
  {
   "cell_type": "markdown",
   "metadata": {
    "hidden": true
   },
   "source": [
    "元に戻す環境が存在していることを確認します。"
   ]
  },
  {
   "cell_type": "code",
   "execution_count": null,
   "metadata": {
    "hidden": true
   },
   "outputs": [],
   "source": [
    "candidate = [\n",
    "    x['project_tag']\n",
    "    for x in gvars.get('previous_info_list', [])\n",
    "    if ('project_tag' in x and\n",
    "        x['project_tag'] not in gvars.get('delete_tags', []))\n",
    "]\n",
    "if len(candidate) == 0:\n",
    "    raise RuntimeError(\"ERROR\")"
   ]
  },
  {
   "cell_type": "markdown",
   "metadata": {},
   "source": [
    "## パラメータの設定\n",
    "\n",
    "元に戻す対象となる運用環境のタグの値を指定します。"
   ]
  },
  {
   "cell_type": "markdown",
   "metadata": {},
   "source": [
    "指定できるタグ名の一覧を表示します。対象となるのは、以前使用していた運用環境であり、かつ削除していないものに限られます。"
   ]
  },
  {
   "cell_type": "code",
   "execution_count": null,
   "metadata": {},
   "outputs": [],
   "source": [
    "candidate = [\n",
    "    x['project_tag']\n",
    "    for x in gvars.get('previous_info_list', [])\n",
    "    if ('project_tag' in x and\n",
    "        x['project_tag'] not in gvars.get('delete_tags', []))\n",
    "]\n",
    "\n",
    "for tag in candidate:\n",
    "    print(tag)"
   ]
  },
  {
   "cell_type": "markdown",
   "metadata": {},
   "source": [
    "上記のセルの実行結果として表示された値から、運用環境として戻す環境のタグ名を指定してください。"
   ]
  },
  {
   "cell_type": "code",
   "execution_count": null,
   "metadata": {},
   "outputs": [],
   "source": [
    "# (例)\n",
    "# target_tag = '001'\n",
    "# target_tag = '20200101XXXXXX'\n",
    "\n",
    "target_tag ="
   ]
  },
  {
   "cell_type": "markdown",
   "metadata": {},
   "source": [
    "指定したタグ名が妥当かチェックします。次のセルを実行してエラーになる場合は指定したタグの値が正しくありません。値を指定し直してください。"
   ]
  },
  {
   "cell_type": "code",
   "execution_count": null,
   "metadata": {},
   "outputs": [],
   "source": [
    "if target_tag not in candidate:\n",
    "    raise RuntimeError(\"ERROR\")"
   ]
  },
  {
   "cell_type": "markdown",
   "metadata": {
    "heading_collapsed": true
   },
   "source": [
    "## メンテナンスモードへの切り替え\n",
    "\n",
    "運用環境の切り替えを行う間に新たなデータが書き込まれないようにするために、メンテナンスモードに切り替えます。。\n",
    "\n",
    "![メンテナンスモードへの切り替え](images/moodle-192-02.png)"
   ]
  },
  {
   "cell_type": "code",
   "execution_count": null,
   "metadata": {
    "hidden": true
   },
   "outputs": [],
   "source": [
    "!ansible {ugroup_name} -a 'chdir=/opt/moodle \\\n",
    "    docker-compose exec -T moodle-{gvars[\"project_tag\"]} \\\n",
    "    /usr/bin/php /var/www/html/admin/cli/maintenance.php --enable'"
   ]
  },
  {
   "cell_type": "markdown",
   "metadata": {
    "heading_collapsed": true
   },
   "source": [
    "## 元の運用環境のコンテナを起動する\n",
    "\n",
    "![コンテナの起動](images/moodle-192-03.png)"
   ]
  },
  {
   "cell_type": "markdown",
   "metadata": {
    "hidden": true
   },
   "source": [
    "現在のコンテナ実行状態を確認します。"
   ]
  },
  {
   "cell_type": "code",
   "execution_count": null,
   "metadata": {
    "hidden": true
   },
   "outputs": [],
   "source": [
    "!ansible {ugroup_name} -a 'docker ps'"
   ]
  },
  {
   "cell_type": "markdown",
   "metadata": {
    "hidden": true
   },
   "source": [
    "次のセルを実行するとコンテナ設定を変更対象の運用環境（元の環境）の値に変更した `docker-compose.yml` をローカル環境に作成します。その後、更新前との差分を表示します。また最後に表示されたリンクから更新後の `docker-compose.yml` を編集することもできます。"
   ]
  },
  {
   "cell_type": "code",
   "execution_count": null,
   "metadata": {
    "hidden": true,
    "scrolled": true
   },
   "outputs": [],
   "source": [
    "target_info = [\n",
    "    x\n",
    "    for x in gvars.get('previous_info_list', [])\n",
    "    if ('project_tag' in x and\n",
    "        x['project_tag'] == target_tag)\n",
    "][0]\n",
    "print(target_info)\n",
    "\n",
    "%run scripts/edit_conf.py\n",
    "update_docker_compose(ugroup_name, extra_vars=target_info)"
   ]
  },
  {
   "cell_type": "markdown",
   "metadata": {
    "hidden": true
   },
   "source": [
    "更新した`docker-compose.yml`をVCノードに配置します。"
   ]
  },
  {
   "cell_type": "code",
   "execution_count": null,
   "metadata": {
    "hidden": true
   },
   "outputs": [],
   "source": [
    "upload_docker_compose(ugroup_name)"
   ]
  },
  {
   "cell_type": "markdown",
   "metadata": {
    "hidden": true
   },
   "source": [
    "`docker-compose.yml`の変更に対応するようコンテナを実行します。"
   ]
  },
  {
   "cell_type": "code",
   "execution_count": null,
   "metadata": {
    "hidden": true
   },
   "outputs": [],
   "source": [
    "!ansible {ugroup_name} -a 'chdir=/opt/moodle \\\n",
    "    docker-compose up -d'"
   ]
  },
  {
   "cell_type": "markdown",
   "metadata": {
    "hidden": true
   },
   "source": [
    "変更後のコンテナ実行状態を確認します。"
   ]
  },
  {
   "cell_type": "code",
   "execution_count": null,
   "metadata": {
    "hidden": true,
    "scrolled": true
   },
   "outputs": [],
   "source": [
    "!ansible {ugroup_name} -a 'docker ps'"
   ]
  },
  {
   "cell_type": "markdown",
   "metadata": {
    "heading_collapsed": true
   },
   "source": [
    "## 元の運用環境に切り替える\n",
    "\n",
    "リバースプロキシの設定を変更して、運用環境を切り替えます。\n",
    "\n",
    "![元の運用環境に切り替える](images/moodle-192-04.png)"
   ]
  },
  {
   "cell_type": "markdown",
   "metadata": {
    "hidden": true
   },
   "source": [
    "### リバースプロキシの設定\n",
    "\n",
    "リバースプロキシの設定を変更します。"
   ]
  },
  {
   "cell_type": "markdown",
   "metadata": {
    "hidden": true
   },
   "source": [
    "現在のリバースプロキシの設定ファイルを確認します。"
   ]
  },
  {
   "cell_type": "code",
   "execution_count": null,
   "metadata": {
    "hidden": true
   },
   "outputs": [],
   "source": [
    "!ansible {ugroup_name} -a 'cat /opt/moodle/proxy/conf/moodle-proxy.conf'"
   ]
  },
  {
   "cell_type": "markdown",
   "metadata": {
    "hidden": true
   },
   "source": [
    "次のセルを実行すると元の運用環境に切り替えるように記述したApache HTTP Serverの設定ファイル\n",
    "`moodle-proxy.conf`をローカル環境に作成します。作成後に現在の設定ファイルとの差分を表示します。\n",
    "また、ローカル環境に生成した `moodle-proxy.conf` を編集するためのリンクを最後に表示します。"
   ]
  },
  {
   "cell_type": "code",
   "execution_count": null,
   "metadata": {
    "hidden": true
   },
   "outputs": [],
   "source": [
    "%run scripts/edit_conf.py\n",
    "update_proxy_conf(ugroup_name, extra_vars=target_info)"
   ]
  },
  {
   "cell_type": "markdown",
   "metadata": {
    "hidden": true
   },
   "source": [
    "ローカル環境の変更後の `moodle-proxy.conf` をVCノードに配置します。\n",
    "その後、設定ファイルの記述内容を反映させるためにリバースプロキシコンテナを再起動します。"
   ]
  },
  {
   "cell_type": "code",
   "execution_count": null,
   "metadata": {
    "hidden": true
   },
   "outputs": [],
   "source": [
    "apply_proxy_conf(ugroup_name)"
   ]
  },
  {
   "cell_type": "markdown",
   "metadata": {
    "hidden": true
   },
   "source": [
    "再起動後のコンテナの状態を確認します。`proxy`コンテナの状態が `Up` になっていることを確認してください。"
   ]
  },
  {
   "cell_type": "code",
   "execution_count": null,
   "metadata": {
    "hidden": true
   },
   "outputs": [],
   "source": [
    "!ansible {ugroup_name} -a 'chdir=/opt/moodle \\\n",
    "    docker-compose ps'"
   ]
  },
  {
   "cell_type": "markdown",
   "metadata": {
    "hidden": true
   },
   "source": [
    "### group_vars の更新\n",
    "\n",
    "group_varsに記録している運用環境につけているタグの値を新しい環境の値に更新します。"
   ]
  },
  {
   "cell_type": "code",
   "execution_count": null,
   "metadata": {
    "hidden": true
   },
   "outputs": [],
   "source": [
    "import copy\n",
    "\n",
    "gvars = load_group_vars(ugroup_name)\n",
    "\n",
    "# 切り替え後の運用環境に関する情報（元の運用環境）\n",
    "next_info = [\n",
    "    x for x in gvars['previous_info_list']\n",
    "    if ('project_tag' in x and\n",
    "        x['project_tag'] == target_tag)\n",
    "][0]\n",
    "\n",
    "# 切り替え前の運用環境に関する情報\n",
    "previous_info = dict([(x, gvars[x]) for x in next_info.keys()])\n",
    "\n",
    "# group_varsの更新\n",
    "info_list = copy.copy(gvars['previous_info_list'])\n",
    "info_list.remove(next_info)\n",
    "info_list.insert(0, previous_info)\n",
    "update_group_vars(\n",
    "    ugroup_name,\n",
    "    previous_info_list=info_list,\n",
    "    **next_info)\n",
    "gvars = load_group_vars(ugroup_name)"
   ]
  },
  {
   "cell_type": "markdown",
   "metadata": {
    "hidden": true
   },
   "source": [
    "### 移行前の運用環境のコンテナを停止する\n",
    "\n",
    "移行前の運用環境のコンテナを停止します。"
   ]
  },
  {
   "cell_type": "markdown",
   "metadata": {
    "hidden": true
   },
   "source": [
    "コンテナを停止するまえの実行状態を確認します。"
   ]
  },
  {
   "cell_type": "code",
   "execution_count": null,
   "metadata": {
    "hidden": true
   },
   "outputs": [],
   "source": [
    "!ansible {ugroup_name} -a 'docker ps'"
   ]
  },
  {
   "cell_type": "markdown",
   "metadata": {
    "hidden": true
   },
   "source": [
    "移行前の運用環境のコンテナの停止を行います。"
   ]
  },
  {
   "cell_type": "code",
   "execution_count": null,
   "metadata": {
    "hidden": true
   },
   "outputs": [],
   "source": [
    "!ansible {ugroup_name} -a 'chdir=/opt/moodle \\\n",
    "    docker-compose up -d --remove-orphans'"
   ]
  },
  {
   "cell_type": "markdown",
   "metadata": {
    "hidden": true
   },
   "source": [
    "実行しているコンテナの一覧を表示して、古い運用環境のコンテナが表示されないことを確認します。"
   ]
  },
  {
   "cell_type": "code",
   "execution_count": null,
   "metadata": {
    "hidden": true,
    "scrolled": true
   },
   "outputs": [],
   "source": [
    "!ansible {ugroup_name} -a 'docker ps'"
   ]
  },
  {
   "cell_type": "markdown",
   "metadata": {
    "hidden": true
   },
   "source": [
    "### メンテナンスモードの解除"
   ]
  },
  {
   "cell_type": "markdown",
   "metadata": {
    "hidden": true
   },
   "source": [
    "Moodleのメンテナンスモードを解除します。"
   ]
  },
  {
   "cell_type": "code",
   "execution_count": null,
   "metadata": {
    "hidden": true,
    "scrolled": true
   },
   "outputs": [],
   "source": [
    "!ansible {ugroup_name} -a 'chdir=/opt/moodle \\\n",
    "    docker-compose exec -T moodle-{target_tag} \\\n",
    "    /usr/bin/php /var/www/html/admin/cli/maintenance.php --disable'"
   ]
  },
  {
   "cell_type": "markdown",
   "metadata": {},
   "source": [
    "## Moodle を利用できることを確認\n",
    "\n",
    "新しい運用環境のMoodle環境にアクセスして正しく動作していることを確認します。"
   ]
  },
  {
   "cell_type": "markdown",
   "metadata": {},
   "source": [
    "次のセルを実行するとMoodleのアドレスが表示されます。"
   ]
  },
  {
   "cell_type": "code",
   "execution_count": null,
   "metadata": {
    "scrolled": false
   },
   "outputs": [],
   "source": [
    "from IPython.core.display import HTML\n",
    "HTML(u'<a href=\"{0}/admin/index.php\" target=\"_blank\">{0}/admin/index.php</a>'.format(gvars['moodle_url']))"
   ]
  }
 ],
 "metadata": {
  "kernelspec": {
   "display_name": "Python 3",
   "language": "python",
   "name": "python3"
  },
  "language_info": {
   "file_extension": ".py",
   "mimetype": "text/x-python",
   "name": "python",
   "nbconvert_exporter": "python",
   "pygments_lexer": "ipython3",
   "version": "3.7.3"
  },
  "toc": {
   "base_numbering": 1,
   "nav_menu": {},
   "number_sections": true,
   "sideBar": true,
   "skip_h1_title": true,
   "title_cell": "Table of Contents",
   "title_sidebar": "Contents",
   "toc_cell": false,
   "toc_position": {},
   "toc_section_display": true,
   "toc_window_display": true
  }
 },
 "nbformat": 4,
 "nbformat_minor": 2
}
