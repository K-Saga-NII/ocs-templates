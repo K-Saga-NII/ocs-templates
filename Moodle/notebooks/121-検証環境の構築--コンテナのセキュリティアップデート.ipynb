{
 "cells": [
  {
   "cell_type": "markdown",
   "metadata": {},
   "source": [
    "# About: 検証環境の構築--コンテナのセキュリティアップデート\n",
    "\n",
    "---\n",
    "\n",
    "Moodleコンテナのパッケージを更新する。"
   ]
  },
  {
   "cell_type": "markdown",
   "metadata": {},
   "source": [
    "## 概要\n",
    "\n",
    "Moodleコンテナのパッケージをアップデートする場合の検証環境を構築します。\n",
    "\n",
    "![検証環境](images/moodle-121-01.png)"
   ]
  },
  {
   "cell_type": "markdown",
   "metadata": {},
   "source": [
    "### グループ名の指定\n",
    "\n",
    "このNotebookの操作対象となる UnitGroup名を指定します。"
   ]
  },
  {
   "cell_type": "code",
   "execution_count": null,
   "metadata": {},
   "outputs": [],
   "source": [
    "# (例)\n",
    "# ugroup_name = 'Moodle'\n",
    "\n",
    "ugroup_name ="
   ]
  },
  {
   "cell_type": "markdown",
   "metadata": {
    "heading_collapsed": true
   },
   "source": [
    "#### チェック"
   ]
  },
  {
   "cell_type": "markdown",
   "metadata": {
    "hidden": true
   },
   "source": [
    "指定された `UnitGroup`名に対応する group_varsファイルが存在していることを確認します。エラーになる場合は、指定したUnitGroup名が正しくないと考えられます。"
   ]
  },
  {
   "cell_type": "code",
   "execution_count": null,
   "metadata": {
    "hidden": true
   },
   "outputs": [],
   "source": [
    "from pathlib import Path\n",
    "if not (Path('group_vars') / (ugroup_name + '.yml')).exists():\n",
    "    raise RuntimeError(f\"ERROR: not exists {ugroup_name + '.yml'}\")"
   ]
  },
  {
   "cell_type": "markdown",
   "metadata": {
    "hidden": true
   },
   "source": [
    "UnitGroupに属する VCノードに対して Ansible で操作できることを確認します。"
   ]
  },
  {
   "cell_type": "code",
   "execution_count": null,
   "metadata": {
    "hidden": true
   },
   "outputs": [],
   "source": [
    "!ansible {ugroup_name} -m ping\n",
    "!ansible {ugroup_name} -b -a 'whoami'"
   ]
  },
  {
   "cell_type": "markdown",
   "metadata": {},
   "source": [
    "### VCCアクセストークンの入力\n",
    "\n",
    "VCCにアクセスするためのトークンを入力します。"
   ]
  },
  {
   "cell_type": "code",
   "execution_count": null,
   "metadata": {},
   "outputs": [],
   "source": [
    "from getpass import getpass\n",
    "vcc_access_token = getpass()"
   ]
  },
  {
   "cell_type": "markdown",
   "metadata": {
    "heading_collapsed": true
   },
   "source": [
    "#### チェック"
   ]
  },
  {
   "cell_type": "markdown",
   "metadata": {
    "hidden": true
   },
   "source": [
    "入力されたアクセストークンが正しいことを、VCCにアクセスして確認します。"
   ]
  },
  {
   "cell_type": "code",
   "execution_count": null,
   "metadata": {
    "hidden": true
   },
   "outputs": [],
   "source": [
    "from vcpsdk.vcpsdk import VcpSDK\n",
    "vcp = VcpSDK(vcc_access_token)"
   ]
  },
  {
   "cell_type": "markdown",
   "metadata": {
    "heading_collapsed": true
   },
   "source": [
    "### 準備\n",
    "\n",
    "これまでに他のNotebookで設定したパラメータを読み込む処理などを行います。\n",
    "\n"
   ]
  },
  {
   "cell_type": "markdown",
   "metadata": {
    "hidden": true
   },
   "source": [
    "group_varsファイルに保存されているパラメータを読み込みます。"
   ]
  },
  {
   "cell_type": "code",
   "execution_count": null,
   "metadata": {
    "hidden": true
   },
   "outputs": [],
   "source": [
    "%run scripts/group.py\n",
    "gvars = load_group_vars(ugroup_name)"
   ]
  },
  {
   "cell_type": "markdown",
   "metadata": {
    "hidden": true
   },
   "source": [
    "VCCのVault サーバにアクセスする際に必要となるパラメータを環境変数に設定します。"
   ]
  },
  {
   "cell_type": "code",
   "execution_count": null,
   "metadata": {
    "hidden": true
   },
   "outputs": [],
   "source": [
    "import os\n",
    "os.environ['VAULT_ADDR'] = vcp.vcc_info()['vault_url']\n",
    "os.environ['VAULT_TOKEN'] = vcc_access_token"
   ]
  },
  {
   "cell_type": "markdown",
   "metadata": {},
   "source": [
    "## パラメータの設定\n",
    "\n",
    "対象となるコンテナ名や、検証環境にアクセスできる条件などを設定します。"
   ]
  },
  {
   "cell_type": "markdown",
   "metadata": {},
   "source": [
    "アップデート対象となるコンテナ名を指定します。現在実行中のコンテナを確認するためにコンテナ名の一覧を表示します。"
   ]
  },
  {
   "cell_type": "code",
   "execution_count": null,
   "metadata": {
    "scrolled": true
   },
   "outputs": [],
   "source": [
    "!ansible {ugroup_name} -a 'chdir=/opt/moodle docker-compose ps --services' \\\n",
    "    | grep {gvars['project_tag']}"
   ]
  },
  {
   "cell_type": "markdown",
   "metadata": {},
   "source": [
    "アップデート対象となるコンテナ名を指定してください。"
   ]
  },
  {
   "cell_type": "code",
   "execution_count": null,
   "metadata": {},
   "outputs": [],
   "source": [
    "# (例)\n",
    "# update_container_name = 'moodle-0'\n",
    "\n",
    "update_container_name ="
   ]
  },
  {
   "cell_type": "markdown",
   "metadata": {},
   "source": [
    "ここで構築する環境では、アクセス元のIPアドレスによって検証環境と運用環境との切り替えを行います。\n",
    "検証環境を表示させることにするIPアドレスを指定してください。"
   ]
  },
  {
   "cell_type": "code",
   "execution_count": null,
   "metadata": {},
   "outputs": [],
   "source": [
    "# (例)\n",
    "# update_test_client = '192.168.10.0/24'\n",
    "# update_test_client = '192.168.10.10'\n",
    "\n",
    "update_test_client ="
   ]
  },
  {
   "cell_type": "markdown",
   "metadata": {},
   "source": [
    "現在の運用環境と、検証環境を区別するために用いるタグの値（文字列）を指定してください。\n",
    "\n",
    "> 各環境のコンテナ名や論理ボリューム名はタグ含む名前が付けられます。そのため、コンテナ名や論理ボリューム名から、どの環境に属するコンテナ、論理ボリュームであるかを判別することができます。"
   ]
  },
  {
   "cell_type": "code",
   "execution_count": null,
   "metadata": {},
   "outputs": [],
   "source": [
    "# (例)\n",
    "# update_project_tag = '001'\n",
    "# update_project_tag = '20200101XXXXXX'\n",
    "\n",
    "update_project_tag ="
   ]
  },
  {
   "cell_type": "markdown",
   "metadata": {},
   "source": [
    "タグに指定する値は、シリアルナンバーまたはタイムスタンプからなる文字列を付けることをお勧めしますが、任意の英数字からなる文字列を指定することができます。"
   ]
  },
  {
   "cell_type": "markdown",
   "metadata": {},
   "source": [
    "指定されたタグが既存のものと重複していないことをチェックします。"
   ]
  },
  {
   "cell_type": "code",
   "execution_count": null,
   "metadata": {},
   "outputs": [],
   "source": [
    "if (update_project_tag == gvars['project_tag']\n",
    "    or update_project_tag in\n",
    "    [x['project_tag']\n",
    "     for x in gvars.get('previous_info_list', [])\n",
    "     if 'project_tag' in x]):\n",
    "    raise RuntimeError(\"既に使用したタグ名です\")"
   ]
  },
  {
   "cell_type": "markdown",
   "metadata": {},
   "source": [
    "指定されたパラメータを group_vars に保存します。"
   ]
  },
  {
   "cell_type": "code",
   "execution_count": null,
   "metadata": {},
   "outputs": [],
   "source": [
    "update_container_target = update_container_name.split('-')[0]\n",
    "update_group_vars(\n",
    "    ugroup_name,\n",
    "    update_project_tag=update_project_tag,\n",
    "    update_container_target=update_container_target,\n",
    ")"
   ]
  },
  {
   "cell_type": "markdown",
   "metadata": {
    "heading_collapsed": true
   },
   "source": [
    "## 検証環境の作成\n",
    "\n",
    "現在運用中の環境を複製して、検証環境を作成します。\n",
    "\n",
    "![検証環境の作成](images/moodle-121-02.png)"
   ]
  },
  {
   "cell_type": "markdown",
   "metadata": {
    "hidden": true
   },
   "source": [
    "### 論理ボリュームの複製"
   ]
  },
  {
   "cell_type": "markdown",
   "metadata": {
    "hidden": true
   },
   "source": [
    "現在、運用環境で使用中の論理ボリュームを複製するためにスナップショットを作成します。"
   ]
  },
  {
   "cell_type": "code",
   "execution_count": null,
   "metadata": {
    "hidden": true
   },
   "outputs": [],
   "source": [
    "project_tag = gvars['project_tag']\n",
    "\n",
    "# LVとVGとの対応\n",
    "lv_map = {\n",
    "    'moodle': 'moodle',\n",
    "    'php': 'moodle',\n",
    "    'db': 'db',\n",
    "}\n",
    "\n",
    "# スナップショットを作成する\n",
    "for name, vg in lv_map.items():\n",
    "    lv = f'{project_tag}_{name}'\n",
    "    snapshot = f'{update_project_tag}_{name}_test'\n",
    "    print(f'vg={vg} lv={lv} snapshot={snapshot}')\n",
    "    !ansible {ugroup_name} -b -m lvol -a \\\n",
    "        'vg={vg} lv={lv} snapshot={snapshot} opts=\"-kn\"'"
   ]
  },
  {
   "cell_type": "markdown",
   "metadata": {
    "hidden": true
   },
   "source": [
    "スナップショットが作成されたことを確認するために、論理ボリュームの一覧を表示します。"
   ]
  },
  {
   "cell_type": "code",
   "execution_count": null,
   "metadata": {
    "hidden": true
   },
   "outputs": [],
   "source": [
    "!ansible {ugroup_name} -b -a 'lvs -S \"lv_attr=~V\" -O lv_name'"
   ]
  },
  {
   "cell_type": "markdown",
   "metadata": {
    "hidden": true
   },
   "source": [
    "作成したスナップショットをマウント可能にするために、論理ボリュームのアクティベートとUUIDの再作成を行います。"
   ]
  },
  {
   "cell_type": "code",
   "execution_count": null,
   "metadata": {
    "hidden": true,
    "scrolled": true
   },
   "outputs": [],
   "source": [
    "for name, vg in lv_map.items():\n",
    "    snapshot = f'{update_project_tag}_{name}_test'\n",
    "    dev = f'/dev/mapper/{vg}-{snapshot}'\n",
    "    print(f'dev={dev}')\n",
    "    !ansible {ugroup_name} -b -m shell -a \\\n",
    "        'lvchange -ay {vg}/{snapshot} && \\\n",
    "         mount -o nouuid {dev} /mnt && \\\n",
    "         umount /mnt && \\\n",
    "         xfs_admin -U generate {dev}'"
   ]
  },
  {
   "cell_type": "markdown",
   "metadata": {
    "hidden": true
   },
   "source": [
    "スナップショットがアクティベートされたことを確認するために、論理ボリュームの一覧を表示します。"
   ]
  },
  {
   "cell_type": "code",
   "execution_count": null,
   "metadata": {
    "hidden": true
   },
   "outputs": [],
   "source": [
    "!ansible {ugroup_name} -b -a 'lvs -S \"lv_attr=~V\" -O lv_name'"
   ]
  },
  {
   "cell_type": "markdown",
   "metadata": {
    "hidden": true
   },
   "source": [
    "作成したボリュームをマウントします。"
   ]
  },
  {
   "cell_type": "code",
   "execution_count": null,
   "metadata": {
    "hidden": true,
    "scrolled": true
   },
   "outputs": [],
   "source": [
    "mount_point = {\n",
    "    'moodle': f'/opt/moodle/moodletest-{update_project_tag}/data/moodledata',\n",
    "    'php': f'/opt/moodle/moodletest-{update_project_tag}/data/php',\n",
    "    'db': f'/opt/moodle/dbtest-{update_project_tag}/data',\n",
    "}\n",
    "\n",
    "for name, vg in lv_map.items():\n",
    "    snapshot = f'{update_project_tag}_{name}_test'\n",
    "    dev = f'/dev/mapper/{vg}-{snapshot}'\n",
    "    print(f'path={mount_point[name]} src={dev}')\n",
    "    !ansible {ugroup_name} -b -m mount -a \\\n",
    "        'path={mount_point[name]} src={dev} fstype=xfs state=mounted'"
   ]
  },
  {
   "cell_type": "markdown",
   "metadata": {
    "hidden": true
   },
   "source": [
    "### 設定ファイルの複製\n",
    "\n",
    "運用環境の設定ファイルをコピーして検証環境の設定ファイルを作成します。"
   ]
  },
  {
   "cell_type": "code",
   "execution_count": null,
   "metadata": {
    "hidden": true
   },
   "outputs": [],
   "source": [
    "for name in ['moodle', 'db']:\n",
    "    src = f'{name}-{project_tag}/conf'\n",
    "    dst = f'{name}test-{update_project_tag}'\n",
    "    print(f'cp -a {src} {dst}')\n",
    "    !ansible {ugroup_name} -b -a \\\n",
    "        'chdir=/opt/moodle cp -a {src} {dst}'"
   ]
  },
  {
   "cell_type": "markdown",
   "metadata": {
    "hidden": true
   },
   "source": [
    "コピーされた設定ファイルの一覧を確認します。"
   ]
  },
  {
   "cell_type": "code",
   "execution_count": null,
   "metadata": {
    "hidden": true,
    "scrolled": true
   },
   "outputs": [],
   "source": [
    "target_dir = [f'{x}test-{update_project_tag}/conf'\n",
    "              for x in ['moodle', 'db']]\n",
    "!ansible {ugroup_name} -b -a \\\n",
    "    'chdir=/opt/moodle tree {\" \".join(target_dir)}'"
   ]
  },
  {
   "cell_type": "markdown",
   "metadata": {
    "hidden": true
   },
   "source": [
    "### コンテナイメージ\n",
    "\n",
    "運用環境の更新対象となるコンテナから、検証環境用のベースとなるコンテナイメージを作成します。"
   ]
  },
  {
   "cell_type": "code",
   "execution_count": null,
   "metadata": {
    "hidden": true
   },
   "outputs": [],
   "source": [
    "target_image = f'local/{update_container_target}:{update_project_tag}-test'\n",
    "print(target_image)\n",
    "!ansible {ugroup_name} -a \\\n",
    "    'docker commit {update_container_name} {target_image}'"
   ]
  },
  {
   "cell_type": "markdown",
   "metadata": {
    "hidden": true
   },
   "source": [
    "コンテナイメージが作成されたことを確認します。　"
   ]
  },
  {
   "cell_type": "code",
   "execution_count": null,
   "metadata": {
    "hidden": true
   },
   "outputs": [],
   "source": [
    "!ansible {ugroup_name} -a 'docker images {target_image}'"
   ]
  },
  {
   "cell_type": "markdown",
   "metadata": {
    "hidden": true
   },
   "source": [
    "### docker-compose.yml の更新\n",
    "\n",
    "`docker-compose.yml`に検証環境のコンテナを追加します。"
   ]
  },
  {
   "cell_type": "markdown",
   "metadata": {
    "hidden": true
   },
   "source": [
    "次のセルを実行すると検証環境用コンテナを追加した `docker-compose.yml` をローカル環境に作成し更新前との差分を表示します。また最後に表示されたリンクから更新後の `docker-compose.yml` を編集することもできます。"
   ]
  },
  {
   "cell_type": "code",
   "execution_count": null,
   "metadata": {
    "hidden": true,
    "scrolled": true
   },
   "outputs": [],
   "source": [
    "%run scripts/edit_conf.py\n",
    "update_docker_compose(ugroup_name)"
   ]
  },
  {
   "cell_type": "markdown",
   "metadata": {
    "hidden": true
   },
   "source": [
    "更新した`docker-compose.yml`をVCノードに配置します。"
   ]
  },
  {
   "cell_type": "code",
   "execution_count": null,
   "metadata": {
    "hidden": true
   },
   "outputs": [],
   "source": [
    "upload_docker_compose(ugroup_name)"
   ]
  },
  {
   "cell_type": "markdown",
   "metadata": {
    "heading_collapsed": true
   },
   "source": [
    "## 検証環境の起動\n",
    "\n",
    "検証環境のコンテナを起動します。\n",
    "\n",
    "![検証環境の起動](images/moodle-121-03.png)"
   ]
  },
  {
   "cell_type": "markdown",
   "metadata": {
    "hidden": true
   },
   "source": [
    "### 検証環境コンテナの起動\n",
    "検証環境のコンテナを起動します。"
   ]
  },
  {
   "cell_type": "markdown",
   "metadata": {
    "hidden": true
   },
   "source": [
    "現在のコンテナの実行状態を確認します。　"
   ]
  },
  {
   "cell_type": "code",
   "execution_count": null,
   "metadata": {
    "hidden": true
   },
   "outputs": [],
   "source": [
    "!ansible {ugroup_name} -a 'chdir=/opt/moodle \\\n",
    "    docker-compose ps'"
   ]
  },
  {
   "cell_type": "markdown",
   "metadata": {
    "hidden": true
   },
   "source": [
    "検証用のコンテナを起動します。"
   ]
  },
  {
   "cell_type": "code",
   "execution_count": null,
   "metadata": {
    "hidden": true
   },
   "outputs": [],
   "source": [
    "!ansible {ugroup_name} -a 'chdir=/opt/moodle \\\n",
    "    docker-compose up -d'"
   ]
  },
  {
   "cell_type": "markdown",
   "metadata": {
    "hidden": true
   },
   "source": [
    "検証用コンテナを起動した後の、コンテナの実行状態を確認します。"
   ]
  },
  {
   "cell_type": "code",
   "execution_count": null,
   "metadata": {
    "hidden": true
   },
   "outputs": [],
   "source": [
    "!ansible {ugroup_name} -a 'chdir=/opt/moodle \\\n",
    "    docker-compose ps'"
   ]
  },
  {
   "cell_type": "markdown",
   "metadata": {
    "hidden": true
   },
   "source": [
    "### パッケージのアップデート"
   ]
  },
  {
   "cell_type": "markdown",
   "metadata": {
    "hidden": true
   },
   "source": [
    "検証環境のアップデート対象のコンテナでパッケージをアップデートします。"
   ]
  },
  {
   "cell_type": "code",
   "execution_count": null,
   "metadata": {
    "hidden": true,
    "scrolled": true
   },
   "outputs": [],
   "source": [
    "target_container = f'{update_container_target}test-{update_project_tag}'\n",
    "print(target_container)\n",
    "\n",
    "!ansible {ugroup_name} -a 'chdir=/opt/moodle \\\n",
    "    docker-compose exec -T {target_container} bash -c \\\n",
    "    \"( type yum && yum update -y ) || \\\n",
    "     ( type apt-get && apt-get update && apt-get -y upgrade )\"'"
   ]
  },
  {
   "cell_type": "markdown",
   "metadata": {
    "hidden": true
   },
   "source": [
    "パッケージのアップデート結果を反映させるためにコンテナの再起動を行います。"
   ]
  },
  {
   "cell_type": "code",
   "execution_count": null,
   "metadata": {
    "hidden": true,
    "scrolled": true
   },
   "outputs": [],
   "source": [
    "!ansible {ugroup_name} -a 'chdir=/opt/moodle \\\n",
    "    docker-compose restart {target_container}'"
   ]
  },
  {
   "cell_type": "markdown",
   "metadata": {
    "hidden": true
   },
   "source": [
    "### アップデートされたパッケージの確認\n",
    "\n",
    "運用環境と検証環境のパッケージの一覧を取得して比較することで、更新されたパッケージを確認します。"
   ]
  },
  {
   "cell_type": "markdown",
   "metadata": {
    "hidden": true
   },
   "source": [
    "運用環境のコンテナのパッケージ一覧を取得します。"
   ]
  },
  {
   "cell_type": "code",
   "execution_count": null,
   "metadata": {
    "hidden": true
   },
   "outputs": [],
   "source": [
    "current_container = f'{update_container_target}-{gvars[\"project_tag\"]}'\n",
    "package_current = !ansible {ugroup_name} -m shell -a 'chdir=/opt/moodle \\\n",
    "    docker-compose exec -T {current_container} \\\n",
    "    bash -c \"( type rpm > /dev/null 2>&1 && rpm -qa ) || \\\n",
    "             ( type dpkg > /dev/null 2>&1 && dpkg -l )\" | sort'"
   ]
  },
  {
   "cell_type": "markdown",
   "metadata": {
    "hidden": true
   },
   "source": [
    "検証環境のコンテナのパッケージ一覧を取得します。"
   ]
  },
  {
   "cell_type": "code",
   "execution_count": null,
   "metadata": {
    "hidden": true
   },
   "outputs": [],
   "source": [
    "package_new = !ansible {ugroup_name} -m shell -a 'chdir=/opt/moodle \\\n",
    "    docker-compose exec -T {target_container} \\\n",
    "    bash -c \"( type rpm > /dev/null 2>&1 && rpm -qa ) || \\\n",
    "             ( type dpkg > /dev/null 2>&1 && dpkg -l )\" | sort'"
   ]
  },
  {
   "cell_type": "markdown",
   "metadata": {
    "hidden": true
   },
   "source": [
    "パッケージ一覧の差分を確認します。"
   ]
  },
  {
   "cell_type": "code",
   "execution_count": null,
   "metadata": {
    "hidden": true,
    "scrolled": true
   },
   "outputs": [],
   "source": [
    "from difflib import unified_diff\n",
    "\n",
    "for line in unified_diff(package_current, package_new, fromfile=current_container,\n",
    "                         tofile=target_container):\n",
    "    print(line)"
   ]
  },
  {
   "cell_type": "markdown",
   "metadata": {
    "hidden": true
   },
   "source": [
    "### リバースプロキシの設定\n",
    "\n",
    "アクセス元のIPアドレスによって運用環境と検証環境を切り替えるようにリバースプロキシを設定します。"
   ]
  },
  {
   "cell_type": "markdown",
   "metadata": {
    "hidden": true
   },
   "source": [
    "現在のリバースプロキシの設定ファイルを確認します。"
   ]
  },
  {
   "cell_type": "code",
   "execution_count": null,
   "metadata": {
    "hidden": true
   },
   "outputs": [],
   "source": [
    "!ansible {ugroup_name} -a 'cat /opt/moodle/proxy/conf/moodle-proxy.conf'"
   ]
  },
  {
   "cell_type": "markdown",
   "metadata": {
    "hidden": true
   },
   "source": [
    "次のセルを実行すると運用環境と検証環境を切り替えるように記述したApache HTTP Serverの設定ファイル\n",
    "`moodle-proxy.conf`をローカル環境に作成します。作成後に現在の設定ファイルとの差分を表示します。\n",
    "また、ローカル環境に生成した `moodle-proxy.conf` を編集するためのリンクを最後に表示します。"
   ]
  },
  {
   "cell_type": "code",
   "execution_count": null,
   "metadata": {
    "hidden": true,
    "scrolled": true
   },
   "outputs": [],
   "source": [
    "%run scripts/edit_conf.py\n",
    "update_proxy_conf(\n",
    "    ugroup_name,\n",
    "    extra_vars={'update_test_client': update_test_client})"
   ]
  },
  {
   "cell_type": "markdown",
   "metadata": {
    "hidden": true
   },
   "source": [
    "ローカル環境の変更後の `moodle-proxy.conf` をVCノードに配置します。\n",
    "その後、設定ファイルの記述内容を反映させるためにリバースプロキシコンテナを再起動します。"
   ]
  },
  {
   "cell_type": "code",
   "execution_count": null,
   "metadata": {
    "hidden": true
   },
   "outputs": [],
   "source": [
    "apply_proxy_conf(ugroup_name)"
   ]
  },
  {
   "cell_type": "markdown",
   "metadata": {
    "hidden": true
   },
   "source": [
    "再起動後のコンテナの状態を確認します。`proxy`コンテナの状態が `Up` になっていることを確認してください。"
   ]
  },
  {
   "cell_type": "code",
   "execution_count": null,
   "metadata": {
    "hidden": true
   },
   "outputs": [],
   "source": [
    "!ansible {ugroup_name} -a 'chdir=/opt/moodle \\\n",
    "    docker-compose ps'"
   ]
  },
  {
   "cell_type": "markdown",
   "metadata": {},
   "source": [
    "## Moodle を利用できることを確認\n",
    "\n",
    "検証用のMoodle環境にアクセスして正しく動作していることを確認します。"
   ]
  },
  {
   "cell_type": "markdown",
   "metadata": {},
   "source": [
    "次のセルを実行するとMoodleのアドレスが表示されます。"
   ]
  },
  {
   "cell_type": "code",
   "execution_count": null,
   "metadata": {},
   "outputs": [],
   "source": [
    "from IPython.core.display import HTML\n",
    "HTML(u'<a href=\"{0}/admin/index.php\" target=\"_blank\">{0}/admin/index.php</a>'.format(gvars['moodle_url']))"
   ]
  }
 ],
 "metadata": {
  "kernelspec": {
   "display_name": "Python 3",
   "language": "python",
   "name": "python3"
  },
  "language_info": {
   "file_extension": ".py",
   "mimetype": "text/x-python",
   "name": "python",
   "nbconvert_exporter": "python",
   "pygments_lexer": "ipython3",
   "version": "3.7.3"
  },
  "toc": {
   "base_numbering": 1,
   "nav_menu": {},
   "number_sections": true,
   "sideBar": true,
   "skip_h1_title": true,
   "title_cell": "Table of Contents",
   "title_sidebar": "Contents",
   "toc_cell": false,
   "toc_position": {},
   "toc_section_display": true,
   "toc_window_display": true
  }
 },
 "nbformat": 4,
 "nbformat_minor": 2
}