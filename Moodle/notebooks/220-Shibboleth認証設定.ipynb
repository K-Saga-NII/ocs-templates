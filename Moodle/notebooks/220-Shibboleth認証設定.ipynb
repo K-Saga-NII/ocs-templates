{
 "cells": [
  {
   "cell_type": "markdown",
   "metadata": {},
   "source": [
    "# About: Shibboleth認証設定\n",
    "\n",
    "---\n",
    "\n",
    "構築したMoodle環境でShibboleth認証を利用できるようにします。"
   ]
  },
  {
   "cell_type": "markdown",
   "metadata": {},
   "source": [
    "## 概要\n",
    "\n",
    "構築済のMoodle環境にShibbolethコンテナを追加し、MoodleのShibboleth認証の機能を有効にします。\n",
    "\n",
    "![構成](images/moodle-220-01.png)"
   ]
  },
  {
   "cell_type": "markdown",
   "metadata": {},
   "source": [
    "このNotebookではShibboleth認証の設定を行うために以下の手順で設定を行います。\n",
    "\n",
    "1. 既存のMoodle環境にShibbolethコンテナを追加する\n",
    "2. 設定ファイルの編集と反映を行う\n",
    "3. MoodleのShibboleth認証プラグインの設定を行う"
   ]
  },
  {
   "cell_type": "markdown",
   "metadata": {},
   "source": [
    "ここでは，MoodleがShibboleth SPとなり，Moodle利用時のユーザ認証にShibbolethを利用するようにします。\n",
    "Shibboleth SPの構築にはIdPのメタデータが必要になるので，以下のどちらかを行っている必要があります。\n",
    "\n",
    "* 学術認証フェデレーションへ参加しIdPが登録されている[参加申請](https://www.gakunin.jp/join)\n",
    "* IdPのメタデータをIdP管理者や学内のDSを経由して取得している（IdPが学認に参加せず、学内システムとして構築する場合）\n",
    "\n",
    "> 必要となる準備事項は環境毎に異なります。\n",
    "\n",
    "また，IdPにはShibboleth SPのメタデータを登録する必要があります。これには，SP自体を学認に参加させてIdP読み込んでもらうか，IdPに対してSPのメタデータを送付するなどの方法があります。詳しくは，学内のIdP管理ポリシーに従ってください。"
   ]
  },
  {
   "cell_type": "markdown",
   "metadata": {},
   "source": [
    "## 準備"
   ]
  },
  {
   "cell_type": "markdown",
   "metadata": {},
   "source": [
    "### UnitGroup名の指定\n",
    "\n",
    "このNotebookの操作対象となるAnsibleのグループ名を設定します。"
   ]
  },
  {
   "cell_type": "markdown",
   "metadata": {},
   "source": [
    "Moodle環境を構築した際に「010-パラメータの設定.ipynb」で指定したUnitGroup名と同じ値を次のセルで指定してください。"
   ]
  },
  {
   "cell_type": "code",
   "execution_count": null,
   "metadata": {},
   "outputs": [],
   "source": [
    "# (例)\n",
    "# ugroup_name = 'Moodle'\n",
    "\n",
    "ugroup_name ="
   ]
  },
  {
   "cell_type": "markdown",
   "metadata": {
    "heading_collapsed": true
   },
   "source": [
    "#### チェック\n",
    "\n",
    "指定された `ugroup_name` の値が適切なものかチェックします。"
   ]
  },
  {
   "cell_type": "markdown",
   "metadata": {
    "hidden": true
   },
   "source": [
    "`ugroup_name` に対応する `group_vars` ファイルが存在していることを確認します。"
   ]
  },
  {
   "cell_type": "code",
   "execution_count": null,
   "metadata": {
    "hidden": true
   },
   "outputs": [],
   "source": [
    "from pathlib import Path\n",
    "if not (Path('group_vars') / (ugroup_name + '.yml')).exists():\n",
    "    raise RuntimeError(f\"ERROR: not exists {ugroup_name + '.yml'}\")"
   ]
  },
  {
   "cell_type": "markdown",
   "metadata": {
    "hidden": true
   },
   "source": [
    "`ugroup_name`に対応する VCノードが実行中であり Ansible で操作できることを確認します。"
   ]
  },
  {
   "cell_type": "code",
   "execution_count": null,
   "metadata": {
    "hidden": true
   },
   "outputs": [],
   "source": [
    "!ansible {ugroup_name} -m ping"
   ]
  },
  {
   "cell_type": "markdown",
   "metadata": {
    "hidden": true
   },
   "source": [
    "Moodleコンテナが起動していることを確認します。"
   ]
  },
  {
   "cell_type": "code",
   "execution_count": null,
   "metadata": {
    "hidden": true
   },
   "outputs": [],
   "source": [
    "!ansible {ugroup_name} -a 'chdir=/opt/moodle docker-compose ps'"
   ]
  },
  {
   "cell_type": "markdown",
   "metadata": {},
   "source": [
    "### VCCアクセストークンの入力\n",
    "\n",
    "VCCにアクセスするためのトークンを入力します。"
   ]
  },
  {
   "cell_type": "code",
   "execution_count": null,
   "metadata": {},
   "outputs": [],
   "source": [
    "from getpass import getpass\n",
    "vcc_access_token = getpass()"
   ]
  },
  {
   "cell_type": "markdown",
   "metadata": {
    "heading_collapsed": true
   },
   "source": [
    "#### チェック"
   ]
  },
  {
   "cell_type": "markdown",
   "metadata": {
    "hidden": true
   },
   "source": [
    "入力されたアクセストークンが正しいことを、実際にVCCにアクセスして確認します。"
   ]
  },
  {
   "cell_type": "code",
   "execution_count": null,
   "metadata": {
    "hidden": true
   },
   "outputs": [],
   "source": [
    "from vcpsdk.vcpsdk import VcpSDK\n",
    "vcp = VcpSDK(vcc_access_token)"
   ]
  },
  {
   "cell_type": "markdown",
   "metadata": {
    "heading_collapsed": true
   },
   "source": [
    "### 準備\n",
    "\n",
    "これまでに他のNotebookで設定したパラメータを読み込む処理などを行います。"
   ]
  },
  {
   "cell_type": "markdown",
   "metadata": {
    "hidden": true
   },
   "source": [
    "group_varsファイルに保存されているパラメータを読み込みます。"
   ]
  },
  {
   "cell_type": "code",
   "execution_count": null,
   "metadata": {
    "hidden": true
   },
   "outputs": [],
   "source": [
    "%run scripts/group.py\n",
    "gvars = load_group_vars(ugroup_name)"
   ]
  },
  {
   "cell_type": "markdown",
   "metadata": {
    "hidden": true
   },
   "source": [
    "VCCのVault サーバにアクセスする際に必要となるパラメータを環境変数に設定します。"
   ]
  },
  {
   "cell_type": "code",
   "execution_count": null,
   "metadata": {
    "hidden": true
   },
   "outputs": [],
   "source": [
    "import os\n",
    "os.environ['VAULT_ADDR'] = vcp.vcc_info()['vault_url']\n",
    "os.environ['VAULT_TOKEN'] = vcc_access_token"
   ]
  },
  {
   "cell_type": "markdown",
   "metadata": {
    "heading_collapsed": true
   },
   "source": [
    "## Shibbolethコンテナの追加\n",
    "\n",
    "現在のMoodle環境に Shibboleth コンテナを追加します。\n",
    "\n",
    "![Shibbolethコンテナの追加](images/moodle-220-02.png)"
   ]
  },
  {
   "cell_type": "markdown",
   "metadata": {
    "hidden": true
   },
   "source": [
    "ここではコンテナ構成を記述している `docker-compose.yml` を編集し Shibboleth コンテナを追加します。Shibboleth関連の設定ファイルなどは環境に合わせた変更が必要となります。Shibbolethコンテナに設定ファイルなど環境毎に異なるファイルを持たせないようにするために、コンテナの外側に設定ファイルをコピーする対応を併せて行います。\n",
    "\n",
    "この節で行う操作の手順を以下に示します。\n",
    "\n",
    "1. docker-compose.ymlの更新\n",
    "    * Shibbolethコンテナの追加\n",
    "    * プロキシコンテナから公開ポート(443)の設定を削除\n",
    "2. コンテナ構成変更の反映\n",
    "    * プロキシコンテナの再作成\n",
    "    * Shibbolethコンテナの起動\n",
    "3. Shibbolethコンテナから設定ファイルをコンテナの外側にコピーする"
   ]
  },
  {
   "cell_type": "markdown",
   "metadata": {
    "hidden": true
   },
   "source": [
    "### docker-compose.yml の更新\n",
    "\n",
    "`docker-compose.yml` にShibbolethコンテナを追加します。あわせてプロキシコンテナから公開ポートの削除も行います。"
   ]
  },
  {
   "cell_type": "markdown",
   "metadata": {
    "hidden": true
   },
   "source": [
    "次のセルを実行するとShibbolethコンテナを追加した `docker-compose.yml` をローカル環境に作成し更新前との差分を表示します。また最後に表示されたリンクから更新後の `docker-compose.yml` を編集することもできます。"
   ]
  },
  {
   "cell_type": "code",
   "execution_count": null,
   "metadata": {
    "hidden": true,
    "scrolled": true
   },
   "outputs": [],
   "source": [
    "%run scripts/edit_conf.py\n",
    "append_shibboleth_container(\n",
    "    ugroup_name, gvars['moodle_url'])"
   ]
  },
  {
   "cell_type": "markdown",
   "metadata": {
    "hidden": true
   },
   "source": [
    "更新した`docker-compose.yml`をVCノードに配置します。"
   ]
  },
  {
   "cell_type": "code",
   "execution_count": null,
   "metadata": {
    "hidden": true
   },
   "outputs": [],
   "source": [
    "upload_docker_compose(ugroup_name)"
   ]
  },
  {
   "cell_type": "markdown",
   "metadata": {
    "hidden": true
   },
   "source": [
    "### コンテナ構成変更の反映\n",
    "\n",
    "変更した`docker-compose.yml`をMoodle環境に適用します。"
   ]
  },
  {
   "cell_type": "markdown",
   "metadata": {
    "hidden": true
   },
   "source": [
    "まずShibbolethコンテナのイメージを取得します。"
   ]
  },
  {
   "cell_type": "code",
   "execution_count": null,
   "metadata": {
    "hidden": true
   },
   "outputs": [],
   "source": [
    "!ansible {ugroup_name} -a 'chdir=/opt/moodle/ docker-compose pull shibboleth'"
   ]
  },
  {
   "cell_type": "markdown",
   "metadata": {
    "hidden": true
   },
   "source": [
    "`docker-compose.yml`の変更を適用します。あわせてプロキシコンテナから公開ポートを削除するので、いったんプロキシコンテナを削除しています。"
   ]
  },
  {
   "cell_type": "code",
   "execution_count": null,
   "metadata": {
    "hidden": true
   },
   "outputs": [],
   "source": [
    "!ansible {ugroup_name} -m shell -a 'chdir=/opt/moodle/ \\\n",
    "    docker-compose rm -s -f proxy && \\\n",
    "    docker-compose up -d'"
   ]
  },
  {
   "cell_type": "markdown",
   "metadata": {
    "hidden": true
   },
   "source": [
    "コンテナが追加されたことを確認します。`shibboleth`コンテナが追加されたことと、すべてのコンテナの状態が `Up`となっていることを確認してください。"
   ]
  },
  {
   "cell_type": "code",
   "execution_count": null,
   "metadata": {
    "hidden": true
   },
   "outputs": [],
   "source": [
    "!ansible {ugroup_name} -a 'chdir=/opt/moodle/ \\\n",
    "    docker-compose ps'"
   ]
  },
  {
   "cell_type": "markdown",
   "metadata": {
    "hidden": true
   },
   "source": [
    "### Shibbolethコンテナから設定ファイルをコンテナの外側にコピーする"
   ]
  },
  {
   "cell_type": "markdown",
   "metadata": {
    "hidden": true
   },
   "source": [
    "Shibbolethコンテナでは Apache HTTP serverと shibd が実行されています。それらに関する設定ファイルをコンテナの外側にコピーします。"
   ]
  },
  {
   "cell_type": "code",
   "execution_count": null,
   "metadata": {
    "hidden": true
   },
   "outputs": [],
   "source": [
    "!ansible {ugroup_name} -m shell -a 'chdir=/opt/moodle \\\n",
    "    mkdir -p shibboleth/conf/httpd && \\\n",
    "    docker cp shibboleth:/etc/shibboleth shibboleth/conf && \\\n",
    "    docker cp shibboleth:/etc/httpd/conf shibboleth/conf/httpd && \\\n",
    "    docker cp shibboleth:/etc/httpd/conf.d shibboleth/conf/httpd && \\\n",
    "    docker cp shibboleth:/etc/httpd/conf.modules.d shibboleth/conf/httpd'"
   ]
  },
  {
   "cell_type": "markdown",
   "metadata": {
    "hidden": true
   },
   "source": [
    "コピーしたファイルを確認します。"
   ]
  },
  {
   "cell_type": "code",
   "execution_count": null,
   "metadata": {
    "hidden": true,
    "scrolled": true
   },
   "outputs": [],
   "source": [
    "!ansible {ugroup_name} -a 'chdir=/opt/moodle tree shibboleth/conf'"
   ]
  },
  {
   "cell_type": "markdown",
   "metadata": {
    "hidden": true
   },
   "source": [
    "### Shibbolethコンテナに volume を追加する\n",
    "\n",
    "コンテナ外にコピーした設定ファイルをShibbolethコンテナから参照できるようにするために`docker-compose.yml`にbind mountの設定を追加します。"
   ]
  },
  {
   "cell_type": "markdown",
   "metadata": {
    "hidden": true
   },
   "source": [
    "次のセルを実行するとShibbolethコンテナにvolumeを追加した `docker-compose.yml` をローカル環境に作成し更新前との差分を表示します。また最後に表示されたリンクから更新後の `docker-compose.yml` を編集することもできます。"
   ]
  },
  {
   "cell_type": "code",
   "execution_count": null,
   "metadata": {
    "hidden": true,
    "scrolled": true
   },
   "outputs": [],
   "source": [
    "%run scripts/edit_conf.py\n",
    "append_shibboleth_container(\n",
    "    ugroup_name, gvars['moodle_url'],\n",
    "    volumes=[\n",
    "        '/opt/moodle/shibboleth/conf/shibboleth:/etc/shibboleth',\n",
    "        '/opt/moodle/shibboleth/conf/httpd/conf:/etc/httpd/conf',\n",
    "        '/opt/moodle/shibboleth/conf/httpd/conf.d:/etc/httpd/conf.d',\n",
    "        '/opt/moodle/shibboleth/conf/httpd/conf.modules.d:/etc/httpd/conf.modules.d',\n",
    "        '/opt/moodle/shibboleth/conf/httpd/cert:/etc/httpd/cert',\n",
    "    ],\n",
    ")"
   ]
  },
  {
   "cell_type": "markdown",
   "metadata": {
    "hidden": true
   },
   "source": [
    "更新した`docker-compose.yml`をVCノードに配置して、コンテナ構成の変更を反映します。"
   ]
  },
  {
   "cell_type": "code",
   "execution_count": null,
   "metadata": {
    "hidden": true
   },
   "outputs": [],
   "source": [
    "upload_docker_compose(ugroup_name, apply=True)"
   ]
  },
  {
   "cell_type": "markdown",
   "metadata": {
    "hidden": true
   },
   "source": [
    "コンテナ構成変更後にすべてのコンテナの状態が `Up`となっていることを確認します。"
   ]
  },
  {
   "cell_type": "code",
   "execution_count": null,
   "metadata": {
    "hidden": true
   },
   "outputs": [],
   "source": [
    "!ansible {ugroup_name} -a 'chdir=/opt/moodle/ \\\n",
    "    docker-compose ps'"
   ]
  },
  {
   "cell_type": "markdown",
   "metadata": {},
   "source": [
    "## 設定ファイルの編集と反映を行う\n",
    "\n",
    "Shibbolethに関する設定ファイルの編集とその反映をおこないます。\n",
    "\n",
    "![設定ファイルの編集](images/moodle-220-03.png)"
   ]
  },
  {
   "cell_type": "markdown",
   "metadata": {},
   "source": [
    "ここでは、前節でコピーしたShibbolethに関する設定ファイルの編集を行います。編集対象となるファイルのShibbolethコンテナにおけるパスとVCノード（コンテナ外）におけるパスの対応関係を以下の表に示します。"
   ]
  },
  {
   "cell_type": "markdown",
   "metadata": {},
   "source": [
    "<table>\n",
    "  <tr>\n",
    "    <th style=\"text-align:left;\">コンテナ内のパス</th>\n",
    "    <th style=\"text-align:left;\">VCノードのパス</th>\n",
    "  </tr>\n",
    "  <tr>\n",
    "    <td style=\"text-align:left;\">/etc/shibboleth/</td>\n",
    "    <td style=\"text-align:left;\">/opt/moodle/shibboleth/conf/shibboleth/</td>\n",
    "  </tr>\n",
    "  <tr>\n",
    "    <td style=\"text-align:left;\">/etc/httpd/conf/</td>\n",
    "    <td style=\"text-align:left;\">/opt/moodle/shibboleth/conf/httpd/conf/</td>\n",
    "  </tr>\n",
    "  <tr>\n",
    "    <td style=\"text-align:left;\">/etc/httpd/conf.d/</td>\n",
    "    <td style=\"text-align:left;\">/opt/moodle/shibboleth/conf/httpd/conf.d/</td>\n",
    "  </tr>\n",
    "  <tr>\n",
    "    <td style=\"text-align:left;\">/etc/httpd/conf.modules.d/</td>\n",
    "    <td style=\"text-align:left;\">/opt/moodle/shibboleth/conf/httpd/conf.modules.d/</td>\n",
    "  </tr>\n",
    "  <tr>\n",
    "    <td style=\"text-align:left;\">/etc/httpd/cert/</td>\n",
    "    <td style=\"text-align:left;\">/opt/moodle/shibboleth/conf/httpd/cert/</td>\n",
    "  </tr>\n",
    "</table>"
   ]
  },
  {
   "cell_type": "markdown",
   "metadata": {},
   "source": [
    "具体的な例として `shibboleth2.xml`, `shib.conf`, `httpd.conf`, `ssl.conf` の対応関係を以下の表に示します。"
   ]
  },
  {
   "cell_type": "markdown",
   "metadata": {},
   "source": [
    "<table>\n",
    "  <tr>\n",
    "    <th style=\"text-align:left;\">コンテナ内のパス</th>\n",
    "    <th style=\"text-align:left;\">VCノードのパス</th>\n",
    "  </tr>\n",
    "  <tr>\n",
    "    <td style=\"text-align:left;\">/etc/shibboleth/shibboleth2.xml</td>\n",
    "    <td style=\"text-align:left;\">/opt/moodle/shibboleth/conf/shibboleth/shibboleth2.xml</td>\n",
    "  <tr>\n",
    "    <td style=\"text-align:left;\">/etc/httpd/conf.d/shib.conf</td>\n",
    "    <td style=\"text-align:left;\">/opt/moodle/shibboleth/conf/httpd/conf.d/shib.conf</td>\n",
    "  <tr>\n",
    "    <td style=\"text-align:left;\">/etc/httpd/conf/httpd.conf</td>\n",
    "    <td style=\"text-align:left;\">/opt/moodle/shibboleth/conf/httpd/conf/httpd.conf</td>\n",
    "  <tr>\n",
    "    <td style=\"text-align:left;\">/etc/httpd/conf.d/ssl.conf</td>\n",
    "    <td style=\"text-align:left;\">/opt/moodle/shibboleth/conf/httpd/conf.d/ssl.conf</td>\n",
    "</table>"
   ]
  },
  {
   "cell_type": "markdown",
   "metadata": {},
   "source": [
    "Shibbolethに関する設定は環境や関連するサーバ構成などによって設定内容がおおきく異なるためこのNotebookでは詳細な説明を行いません。以下の資料などを参照して設定を行ってください。\n",
    "\n",
    "* [SPセッティング](https://meatwiki.nii.ac.jp/confluence/pages/viewpage.action?pageId=12158187)\n",
    "* [学内システムとして構築する場合の設定](https://meatwiki.nii.ac.jp/confluence/pages/viewpage.action?pageId=12158282)\n",
    "\n",
    "以下のような設定ファイルを編集、配置する必要があります。\n",
    "\n",
    "* /etc/shibboleth/shibboleth2.xmlの編集\n",
    "* サーバ証明書の配置\n",
    "* IdPメタデータの配置(学内システムとして構築する場合)\n",
    "* /etc/httpd/conf.d/ssl.confの編集\n",
    "    - サーバ証明書の設定\n",
    "    - ホスト名の設定"
   ]
  },
  {
   "cell_type": "markdown",
   "metadata": {},
   "source": [
    "### 設定ファイルの編集"
   ]
  },
  {
   "cell_type": "markdown",
   "metadata": {},
   "source": [
    "編集が必要となる設定ファイルは環境毎に異なるので、例としてここでは以下の操作を行う手順を示します。\n",
    "\n",
    "* /etc/shibboleth/shibboleth2.xmlの編集\n",
    "* サーバ証明書の配置\n",
    "* IdPメタデータの配置(学内システムとして構築する場合)\n",
    "* /etc/httpd/conf.d/ssl.confの編集\n",
    "\n",
    "その他の設定ファイル（proxy.confやnative.logger, shibd.logger, attribute-map.xmlなど）を変更が必要な場合は以下のセルをコピーして同様の操作を行ってください。"
   ]
  },
  {
   "cell_type": "markdown",
   "metadata": {},
   "source": [
    "#### shibboleth2.xml の編集"
   ]
  },
  {
   "cell_type": "markdown",
   "metadata": {},
   "source": [
    "「030-設定ファイルの変更.ipynb」で行っているのと同様の手順で設定ファイルの編集を行います。\n",
    "操作手順は以下のようになります。\n",
    "\n",
    "1. VCノードに配置されている設定ファイルをNotebook環境に取得する\n",
    "2. 取得したファイルのバックアップを作成する\n",
    "3. Notebookの編集機能を利用して設定ファイルの変更をおこなう\n",
    "4. 変更した設定ファイルをVCノードに配置する"
   ]
  },
  {
   "cell_type": "markdown",
   "metadata": {},
   "source": [
    "> `shibboleth2.xml`の記述方法については学認の「[shibboleth2.xml ファイル](https://meatwiki.nii.ac.jp/confluence/pages/viewpage.action?pageId=12158266)」、「[学内システムとして構築する場合の設定](https://meatwiki.nii.ac.jp/confluence/pages/viewpage.action?pageId=12158282)」などを参照してください。"
   ]
  },
  {
   "cell_type": "markdown",
   "metadata": {},
   "source": [
    "まず対象となるコンテナを指定します。ここではShibbolethコンテナを対象としているので `shibboleth` を指定します。"
   ]
  },
  {
   "cell_type": "code",
   "execution_count": null,
   "metadata": {},
   "outputs": [],
   "source": [
    "target_container = 'shibboleth'"
   ]
  },
  {
   "cell_type": "markdown",
   "metadata": {},
   "source": [
    "次に編集対象となる設定ファイルのパスを指定します。指定するのはコンテナ内のパスとなります。"
   ]
  },
  {
   "cell_type": "code",
   "execution_count": null,
   "metadata": {},
   "outputs": [],
   "source": [
    "target_file = '/etc/shibboleth/shibboleth2.xml'"
   ]
  },
  {
   "cell_type": "markdown",
   "metadata": {},
   "source": [
    "設定ファイル`shibboleth2.xml`をローカル環境に取得しJupyter Notebookの編集機能を用いて編集を行います。次のセルを実行するとリンクが表示されるのでクリックして編集を行ってください。\n",
    "\n",
    "> ファイルの編集後は**必ず**、メニューの[File]-[Save]を選択してファイルの保存を行ってください。"
   ]
  },
  {
   "cell_type": "code",
   "execution_count": null,
   "metadata": {
    "scrolled": true
   },
   "outputs": [],
   "source": [
    "%run scripts/edit_conf.py\n",
    "fetch_conf(ugroup_name, target_container, target_file)"
   ]
  },
  {
   "cell_type": "markdown",
   "metadata": {},
   "source": [
    "ローカル環境に取得したファイルは、以下のパスに格納されています。\n",
    "\n",
    "`./edit/{ugroup_name}/{YYYYMMDDHHmmssffffff}/shibboleth2.xml`\n",
    "\n",
    "`{ugroup_name}` には UnitGroup名が、`{YYYYMMDDHHmmssfffff}` にはファイルを取得したタイムスタンプが入ります。\n",
    "\n",
    "また、バックアップファイルは以下のパスに格納されます。\n",
    "\n",
    "`./edit/{ugroup_name}/{YYYYMMDDHHmmssffffff}/shibboleth2.xml.orig`"
   ]
  },
  {
   "cell_type": "markdown",
   "metadata": {},
   "source": [
    "次のセルを実行すると編集の前後での差分を確認することができます。"
   ]
  },
  {
   "cell_type": "code",
   "execution_count": null,
   "metadata": {
    "scrolled": true
   },
   "outputs": [],
   "source": [
    "show_local_conf_diff(ugroup_name, target_container, target_file)"
   ]
  },
  {
   "cell_type": "markdown",
   "metadata": {},
   "source": [
    "設定ファイルの配置を行います。次のセルを実行すると以下の手順が実行されます。\n",
    "\n",
    "1. 編集前と編集後の設定ファイルの差分を表示する\n",
    "2. 編集した設定ファイル(`shibboleth2.xml`)をVCノードに配置する"
   ]
  },
  {
   "cell_type": "code",
   "execution_count": null,
   "metadata": {
    "scrolled": true
   },
   "outputs": [],
   "source": [
    "apply_conf(ugroup_name, target_container, target_file, restart=False)"
   ]
  },
  {
   "cell_type": "markdown",
   "metadata": {},
   "source": [
    "#### サーバ証明書の配置"
   ]
  },
  {
   "cell_type": "markdown",
   "metadata": {},
   "source": [
    "まず対象となるコンテナを指定します。ここではShibbolethコンテナを対象としているので `shibboleth` を指定します。"
   ]
  },
  {
   "cell_type": "code",
   "execution_count": null,
   "metadata": {},
   "outputs": [],
   "source": [
    "target_container = 'shibboleth'"
   ]
  },
  {
   "cell_type": "markdown",
   "metadata": {},
   "source": [
    "次に編集対象となる設定ファイルのパスを指定します。指定するのはコンテナ内のパスとなります。"
   ]
  },
  {
   "cell_type": "code",
   "execution_count": null,
   "metadata": {},
   "outputs": [],
   "source": [
    "target_file = '/etc/httpd/cert/server.crt'"
   ]
  },
  {
   "cell_type": "markdown",
   "metadata": {},
   "source": [
    "空のサーバ証明書`server.crt`ファイルをローカル環境に作成しJupyter Notebookの編集機能を用いて編集を行います。次のセルを実行するとリンクが表示されるのでクリックして編集を行ってください。\n",
    "\n",
    "> ファイルの編集後は**必ず**、メニューの[File]-[Save]を選択してファイルの保存を行ってください。"
   ]
  },
  {
   "cell_type": "code",
   "execution_count": null,
   "metadata": {
    "scrolled": true
   },
   "outputs": [],
   "source": [
    "%run scripts/edit_conf.py\n",
    "create_conf(ugroup_name, target_container, target_file)"
   ]
  },
  {
   "cell_type": "markdown",
   "metadata": {},
   "source": [
    "作成したファイルは、以下のパスに格納されています。\n",
    "\n",
    "`./edit/{ugroup_name}/{YYYYMMDDHHmmssffffff}/shibboleth2.xml`\n",
    "\n",
    "`{ugroup_name}` には UnitGroup名が、`{YYYYMMDDHHmmssfffff}` にはファイルを取得したタイムスタンプが入ります。"
   ]
  },
  {
   "cell_type": "markdown",
   "metadata": {},
   "source": [
    "設定ファイルの配置を行います。次のセルを実行すると以下の手順が実行されます。\n",
    "\n",
    "1. 編集前と編集後の設定ファイルの差分を表示する\n",
    "2. 編集した設定ファイルをVCノードに配置する"
   ]
  },
  {
   "cell_type": "code",
   "execution_count": null,
   "metadata": {
    "scrolled": true
   },
   "outputs": [],
   "source": [
    "%run scripts/edit_conf.py\n",
    "apply_conf(ugroup_name, target_container, target_file, restart=False)"
   ]
  },
  {
   "cell_type": "markdown",
   "metadata": {},
   "source": [
    "#### サーバ証明書の秘密鍵の配置"
   ]
  },
  {
   "cell_type": "markdown",
   "metadata": {},
   "source": [
    "まず対象となるコンテナを指定します。ここではShibbolethコンテナを対象としているので `shibboleth` を指定します。"
   ]
  },
  {
   "cell_type": "code",
   "execution_count": null,
   "metadata": {},
   "outputs": [],
   "source": [
    "target_container = 'shibboleth'"
   ]
  },
  {
   "cell_type": "markdown",
   "metadata": {},
   "source": [
    "次に編集対象となる設定ファイルのパスを指定します。指定するのはコンテナ内のパスとなります。"
   ]
  },
  {
   "cell_type": "code",
   "execution_count": null,
   "metadata": {},
   "outputs": [],
   "source": [
    "target_file = '/etc/httpd/cert/server.key'"
   ]
  },
  {
   "cell_type": "markdown",
   "metadata": {},
   "source": [
    "空の秘密鍵ファイル`server.key`をローカル環境に作成しJupyter Notebookの編集機能を用いて編集を行います。次のセルを実行するとリンクが表示されるのでクリックして編集を行ってください。\n",
    "\n",
    "> ファイルの編集後は**必ず**、メニューの[File]-[Save]を選択してファイルの保存を行ってください。"
   ]
  },
  {
   "cell_type": "code",
   "execution_count": null,
   "metadata": {},
   "outputs": [],
   "source": [
    "%run scripts/edit_conf.py\n",
    "create_conf(ugroup_name, target_container, target_file)"
   ]
  },
  {
   "cell_type": "markdown",
   "metadata": {},
   "source": [
    "作成したファイルは、以下のパスに格納されています。\n",
    "\n",
    "`./edit/{ugroup_name}/{YYYYMMDDHHmmssffffff}/shibboleth2.xml`\n",
    "\n",
    "`{ugroup_name}` には UnitGroup名が、`{YYYYMMDDHHmmssfffff}` にはファイルを取得したタイムスタンプが入ります。"
   ]
  },
  {
   "cell_type": "markdown",
   "metadata": {},
   "source": [
    "設定ファイルの配置を行います。次のセルを実行すると以下の手順が実行されます。\n",
    "\n",
    "1. 編集前と編集後の設定ファイルの差分を表示する\n",
    "2. 編集した設定ファイルをVCノードに配置する"
   ]
  },
  {
   "cell_type": "code",
   "execution_count": null,
   "metadata": {
    "scrolled": true
   },
   "outputs": [],
   "source": [
    "%run scripts/edit_conf.py\n",
    "apply_conf(ugroup_name, target_container, target_file, restart=False)"
   ]
  },
  {
   "cell_type": "markdown",
   "metadata": {},
   "source": [
    "#### IdPメタデータの配置"
   ]
  },
  {
   "cell_type": "markdown",
   "metadata": {},
   "source": [
    "まず対象となるコンテナを指定します。ここではShibbolethコンテナを対象としているので `shibboleth` を指定します。"
   ]
  },
  {
   "cell_type": "code",
   "execution_count": null,
   "metadata": {},
   "outputs": [],
   "source": [
    "target_container = 'shibboleth'"
   ]
  },
  {
   "cell_type": "markdown",
   "metadata": {},
   "source": [
    "次に編集対象となる設定ファイルのパスを指定します。指定するのはコンテナ内のパスとなります。"
   ]
  },
  {
   "cell_type": "code",
   "execution_count": null,
   "metadata": {},
   "outputs": [],
   "source": [
    "target_file = '/etc/shibboleth/idp-metadata.xml'"
   ]
  },
  {
   "cell_type": "markdown",
   "metadata": {},
   "source": [
    "空のファイルをローカル環境に作成しJupyter Notebookの編集機能を用いて編集を行います。次のセルを実行するとリンクが表示されるのでクリックして編集を行ってください。\n",
    "\n",
    "> ファイルの編集後は**必ず**、メニューの[File]-[Save]を選択してファイルの保存を行ってください。"
   ]
  },
  {
   "cell_type": "code",
   "execution_count": null,
   "metadata": {},
   "outputs": [],
   "source": [
    "%run scripts/edit_conf.py\n",
    "create_conf(ugroup_name, target_container, target_file)"
   ]
  },
  {
   "cell_type": "markdown",
   "metadata": {},
   "source": [
    "作成したファイルは、以下のパスに格納されています。\n",
    "\n",
    "`./edit/{ugroup_name}/{YYYYMMDDHHmmssffffff}/shibboleth2.xml`\n",
    "\n",
    "`{ugroup_name}` には UnitGroup名が、`{YYYYMMDDHHmmssfffff}` にはファイルを取得したタイムスタンプが入ります。"
   ]
  },
  {
   "cell_type": "markdown",
   "metadata": {},
   "source": [
    "設定ファイルの配置を行います。次のセルを実行すると以下の手順が実行されます。\n",
    "\n",
    "1. 編集前と編集後の設定ファイルの差分を表示する\n",
    "2. 編集した設定ファイルをVCノードに配置する"
   ]
  },
  {
   "cell_type": "code",
   "execution_count": null,
   "metadata": {},
   "outputs": [],
   "source": [
    "%run scripts/edit_conf.py\n",
    "apply_conf(ugroup_name, target_container, target_file, restart=False)"
   ]
  },
  {
   "cell_type": "markdown",
   "metadata": {},
   "source": [
    "#### ssl.conf の編集"
   ]
  },
  {
   "cell_type": "markdown",
   "metadata": {},
   "source": [
    "まず対象となるコンテナを指定します。ここではShibbolethコンテナを対象としているので `shibboleth` を指定します。"
   ]
  },
  {
   "cell_type": "code",
   "execution_count": null,
   "metadata": {},
   "outputs": [],
   "source": [
    "target_container = 'shibboleth'"
   ]
  },
  {
   "cell_type": "markdown",
   "metadata": {},
   "source": [
    "次に編集対象となる設定ファイルのパスを指定します。指定するのはコンテナ内のパスとなります。"
   ]
  },
  {
   "cell_type": "code",
   "execution_count": null,
   "metadata": {},
   "outputs": [],
   "source": [
    "target_file = '/etc/httpd/conf.d/ssl.conf'"
   ]
  },
  {
   "cell_type": "markdown",
   "metadata": {},
   "source": [
    "設定ファイル`ssl.conf`をローカル環境に取得しJupyter Notebookの編集機能を用いて編集を行います。次のセルを実行するとリンクが表示されるのでクリックして編集を行ってください。\n",
    "\n",
    "> ファイルの編集後は**必ず**、メニューの[File]-[Save]を選択してファイルの保存を行ってください。"
   ]
  },
  {
   "cell_type": "code",
   "execution_count": null,
   "metadata": {},
   "outputs": [],
   "source": [
    "%run scripts/edit_conf.py\n",
    "fetch_conf(ugroup_name, target_container, target_file)"
   ]
  },
  {
   "cell_type": "markdown",
   "metadata": {},
   "source": [
    "作成したファイルは、以下のパスに格納されています。\n",
    "\n",
    "`./edit/{ugroup_name}/{YYYYMMDDHHmmssffffff}/shibboleth2.xml`\n",
    "\n",
    "`{ugroup_name}` には UnitGroup名が、`{YYYYMMDDHHmmssfffff}` にはファイルを取得したタイムスタンプが入ります。"
   ]
  },
  {
   "cell_type": "markdown",
   "metadata": {},
   "source": [
    "次のセルを実行すると編集の前後での差分を確認することができます。"
   ]
  },
  {
   "cell_type": "code",
   "execution_count": null,
   "metadata": {
    "scrolled": true
   },
   "outputs": [],
   "source": [
    "show_local_conf_diff(ugroup_name, target_container, target_file)"
   ]
  },
  {
   "cell_type": "markdown",
   "metadata": {},
   "source": [
    "設定ファイルの配置を行います。次のセルを実行すると以下の手順が実行されます。\n",
    "\n",
    "1. 編集前と編集後の設定ファイルの差分を表示する\n",
    "2. 編集した設定ファイル(`ssl.conf`)をVCノードに配置する"
   ]
  },
  {
   "cell_type": "code",
   "execution_count": null,
   "metadata": {
    "scrolled": true
   },
   "outputs": [],
   "source": [
    "%run scripts/edit_conf.py\n",
    "apply_conf(ugroup_name, target_container, target_file, restart=False)"
   ]
  },
  {
   "cell_type": "markdown",
   "metadata": {},
   "source": [
    "### 設定ファイルの変更を反映する\n",
    "\n",
    "設定ファイルの変更を反映するためにShibbolethコンテナを再起動します。"
   ]
  },
  {
   "cell_type": "code",
   "execution_count": null,
   "metadata": {},
   "outputs": [],
   "source": [
    "!ansible {ugroup_name} -a 'chdir=/opt/moodle/ \\\n",
    "    docker-compose restart shibboleth'"
   ]
  },
  {
   "cell_type": "markdown",
   "metadata": {},
   "source": [
    "Shibbolethコンテナの状態が `Up`となっていることを確認してください。"
   ]
  },
  {
   "cell_type": "code",
   "execution_count": null,
   "metadata": {},
   "outputs": [],
   "source": [
    "!ansible {ugroup_name} -a 'chdir=/opt/moodle/ docker-compose ps'"
   ]
  },
  {
   "cell_type": "markdown",
   "metadata": {},
   "source": [
    "## MoodleのShibbolethプラグインの設定\n",
    "\n",
    "MoodleのShibboleth認証を利用できるようにする設定を行います。"
   ]
  },
  {
   "cell_type": "markdown",
   "metadata": {},
   "source": [
    "### Shibboleth認証を有効にする"
   ]
  },
  {
   "cell_type": "markdown",
   "metadata": {},
   "source": [
    "次のセルを実行すると表示されるリンクからMoodleの認証管理画面を開いてください。\n",
    "> メニューから[サイト管理]--[プラグイン]--[認証]--[認証管理]を選択して同様の画面を開くことができます。"
   ]
  },
  {
   "cell_type": "code",
   "execution_count": null,
   "metadata": {},
   "outputs": [],
   "source": [
    "from IPython.core.display import HTML\n",
    "HTML(u'<a href=\"{0}/admin/settings.php?section=manageauths\" target=\"_blank\">{1}</a>'.format(\n",
    "    load_group_var(ugroup_name, 'moodle_url'), u'認証管理'))"
   ]
  },
  {
   "cell_type": "markdown",
   "metadata": {},
   "source": [
    "以下のような画面が表示されるので Shibboleth の Yes の列をクリックし Shibboleth認証プラグインを有効にしてください。\n",
    "\n",
    "![認証管理](images/moodle-220-10.png)"
   ]
  },
  {
   "cell_type": "markdown",
   "metadata": {},
   "source": [
    "### Shibbolethプラグイン設定\n",
    "\n",
    "Shibbolethプラグインの設定を行います。"
   ]
  },
  {
   "cell_type": "markdown",
   "metadata": {},
   "source": [
    "次のセルを実行すると表示されるリンクからShibbolethプラグインの設定画面を開いてください。\n",
    "> メニューから[サイト管理]--[プラグイン]--[認証]--[Shibboleth]を選択して同様の画面を開くことができます。"
   ]
  },
  {
   "cell_type": "code",
   "execution_count": null,
   "metadata": {},
   "outputs": [],
   "source": [
    "HTML(u'<a href=\"{0}/admin/settings.php?section=authsettingshibboleth\" target=\"_blank\">{1}</a>'.format(\n",
    "    load_group_var(ugroup_name, 'moodle_url'), u'Shibboleth'))"
   ]
  },
  {
   "cell_type": "markdown",
   "metadata": {},
   "source": [
    "以下のような画面が表示されるので、例えば以下のように項目を設定する。\n",
    "\n",
    "<dl>\n",
    "<dt>ユーザ名</dt><dd>HTTP_X_SHIB_EDUPERSONPRINCIPALNAME</dd>\n",
    "<dt>ShibbolethサービスプロバイダのログアウトハンドラURL</dt><dd>/Shibboleth.sso/Logout</dd>\n",
    "<dt>データマッピング：名</dt><dd>HTTP_X_SHIB_JAGIVENNAME</dd>\n",
    "<dt>データマッピング：姓</dt><dd>HTTP_X_SHIB_JASN</dd>\n",
    "<dt>データマッピング：メールアドレス</dt><dd>HTTP_X_SHIB_MAIL</dd>\n",
    "<dt>データマッピング：名 - ヨミガナ</dt><dd>HTTP_X_SHIB_GIVENNAME</dd>\n",
    "<dt>データマッピング：姓 - ヨミガナ</dt><dd>HTTP_X_SHIB_SN</dd>\n",
    "<dt>データマッピング：所属組織</dt><dd>HTTP_X_SHIB_JAO</dd>\n",
    "<dt>データマッピング：部署</dt><dd>HTTP_X_SHIB_JAOU</dd>\n",
    "</dl>"
   ]
  },
  {
   "cell_type": "markdown",
   "metadata": {},
   "source": [
    "マッピングに指定する値は、基本的に学認の[属性リスト](https://meatwiki.nii.ac.jp/confluence/pages/viewpage.action?pageId=12158166)の名前にプレフィックス`HTTP_X_SHIB_`を付加したものにある。\n",
    "\n",
    "![Shibboleth設定画面](images/moodle-220-11.png)"
   ]
  },
  {
   "cell_type": "code",
   "execution_count": null,
   "metadata": {},
   "outputs": [],
   "source": []
  }
 ],
 "metadata": {
  "kernelspec": {
   "display_name": "Python 3",
   "language": "python",
   "name": "python3"
  },
  "language_info": {
   "file_extension": ".py",
   "mimetype": "text/x-python",
   "name": "python",
   "nbconvert_exporter": "python",
   "pygments_lexer": "ipython3",
   "version": "3.7.3"
  },
  "toc": {
   "base_numbering": 1,
   "nav_menu": {},
   "number_sections": true,
   "sideBar": true,
   "skip_h1_title": true,
   "title_cell": "Table of Contents",
   "title_sidebar": "Contents",
   "toc_cell": false,
   "toc_position": {},
   "toc_section_display": true,
   "toc_window_display": true
  }
 },
 "nbformat": 4,
 "nbformat_minor": 2
}
