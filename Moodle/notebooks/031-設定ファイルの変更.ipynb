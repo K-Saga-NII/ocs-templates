{
 "cells": [
  {
   "cell_type": "markdown",
   "metadata": {},
   "source": [
    "# About: 設定ファイルの変更--php.ini\n",
    "\n",
    "---\n",
    "\n",
    "Moodleコンテナの `php.ini` の設定内容を変更します。"
   ]
  },
  {
   "cell_type": "markdown",
   "metadata": {},
   "source": [
    "## 概要\n",
    "\n",
    "設定ファイルを変更する例としてMoodleコンテナの `php.ini` に設定されている `upload_max_filesize`, `post_max_size` の値を変更してみます。\n",
    "\n",
    "![処理の流れ](images/moodle-031-01.png)"
   ]
  },
  {
   "cell_type": "markdown",
   "metadata": {},
   "source": [
    "操作手順は以下のようになります。\n",
    "\n",
    "1. VCノードに配置されている設定ファイルをNotebook環境に取得する\n",
    "2. 取得したファイルのバックアップを作成する\n",
    "3. Notebookの編集機能を利用して設定ファイルの変更をおこなう\n",
    "4. 変更した設定ファイルをVCノードに配置する\n",
    "5. 設定ファイルの変更を反映させるためにコンテナを再起動する"
   ]
  },
  {
   "cell_type": "markdown",
   "metadata": {},
   "source": [
    "アプリケーションテンプレートによって構築したMoodle環境では、利用者が変更する可能性のある `php.ini` などの設定ファイルをVCノードに配置しています。VCノードに配置したファイルはコンテナ内から参照するために[bind mount](https://docs.docker.com/storage/bind-mounts/)の設定を行っています。このため、設定ファイルを編集する場合はコンテナ内のパス名とVCノードのパス名のどちらを指定するかについて留意する必要があります。ただし、このNotebookでは**コンテナ内のパス**のみを指定すればよいようになっています。\n",
    "\n",
    "参考のため、Moodleコンテナにおける設定ファイルのコンテナ内のパスと、VCノードにおけるパスの対応関係を以下の表に示します。"
   ]
  },
  {
   "cell_type": "markdown",
   "metadata": {},
   "source": [
    "\n",
    "<table>\n",
    "  <tr>\n",
    "    <th style=\"text-align:left;\">コンテナ内のパス</th>\n",
    "    <th style=\"text-align:left;\">VCノードのパス</th>\n",
    "  </tr>\n",
    "  <tr>\n",
    "    <td style=\"text-align:left;\">/etc/php.ini</td>\n",
    "    <td style=\"text-align:left;\">/opt/moodle/{container name}/conf/php.ini</td>\n",
    "  </tr>\n",
    "  <tr>\n",
    "    <td style=\"text-align:left;\">/etc/php.d/</td>\n",
    "    <td style=\"text-align:left;\">/opt/moodle/{container name}/conf/php.d/</td>\n",
    "  </tr>\n",
    "  <tr>\n",
    "    <td style=\"text-align:left;\">/etc/php-zts.d/</td>\n",
    "    <td style=\"text-align:left;\">/opt/moodle/{container name}/conf/php-zts.d/</td>\n",
    "  </tr>  <tr>\n",
    "    <td style=\"text-align:left;\">/etc/httpd/conf/httpd.conf</td>\n",
    "    <td style=\"text-align:left;\">/opt/moodle/{container name}/conf/httpd/conf/httpd.conf</td>\n",
    "  </tr>\n",
    "  <tr>\n",
    "    <td style=\"text-align:left;\">/etc/httpd/conf.d/</td>\n",
    "    <td style=\"text-align:left;\">/opt/moodle/{container name}/conf/httpd/conf.d/</td>\n",
    "  </tr>\n",
    "  <tr>\n",
    "    <td style=\"text-align:left;\">/etc/httpd/conf.modules.d/</td>\n",
    "    <td style=\"text-align:left;\">/opt/moodle/{container name}/conf/httpd/conf.modules.d/</td>\n",
    "  </tr>\n",
    "\n",
    "</table>\n",
    "\n",
    "> `{container name}` にはコンテナ名が入ります"
   ]
  },
  {
   "cell_type": "markdown",
   "metadata": {},
   "source": [
    "## パラメータの設定\n",
    "\n",
    "変更対象のコンテナ名、設定ファイル名などを指定します。"
   ]
  },
  {
   "cell_type": "markdown",
   "metadata": {},
   "source": [
    "### グループ名の指定\n",
    "\n",
    "このNotebookの操作対象となるAnsibleのグループ名を設定します。"
   ]
  },
  {
   "cell_type": "code",
   "execution_count": null,
   "metadata": {},
   "outputs": [],
   "source": [
    "# (例)\n",
    "# ugroup_name = 'Moodle'\n",
    "\n",
    "ugroup_name ="
   ]
  },
  {
   "cell_type": "markdown",
   "metadata": {
    "heading_collapsed": true
   },
   "source": [
    "#### チェック\n",
    "\n",
    "指定された `ugroup_name` の値が適切なものかチェックします。"
   ]
  },
  {
   "cell_type": "markdown",
   "metadata": {
    "hidden": true
   },
   "source": [
    "`ugroup_name` に対応する `group_vars` ファイルが存在していることを確認します。"
   ]
  },
  {
   "cell_type": "code",
   "execution_count": null,
   "metadata": {
    "hidden": true
   },
   "outputs": [],
   "source": [
    "from pathlib import Path\n",
    "if not (Path('group_vars') / (ugroup_name + '.yml')).exists():\n",
    "    raise RuntimeError(f\"ERROR: not exists {ugroup_name + '.yml'}\")"
   ]
  },
  {
   "cell_type": "markdown",
   "metadata": {
    "hidden": true
   },
   "source": [
    "`ugroup_name`に対応する VCノードが実行中であり Ansible で操作できることを確認します。"
   ]
  },
  {
   "cell_type": "code",
   "execution_count": null,
   "metadata": {
    "hidden": true
   },
   "outputs": [],
   "source": [
    "!ansible {ugroup_name} -m ping"
   ]
  },
  {
   "cell_type": "markdown",
   "metadata": {},
   "source": [
    "### コンテナの指定\n",
    "\n",
    "設定ファイルを変更する対象となるコンテナを指定します。"
   ]
  },
  {
   "cell_type": "markdown",
   "metadata": {},
   "source": [
    "現在実行中のコンテナの一覧を確認します。"
   ]
  },
  {
   "cell_type": "code",
   "execution_count": null,
   "metadata": {},
   "outputs": [],
   "source": [
    "!ansible {ugroup_name} -a 'chdir=/opt/moodle docker-compose ps --services'"
   ]
  },
  {
   "cell_type": "markdown",
   "metadata": {},
   "source": [
    "表示されたコンテナ一覧から、対象とするコンテナ名を指定してください。"
   ]
  },
  {
   "cell_type": "code",
   "execution_count": null,
   "metadata": {},
   "outputs": [],
   "source": [
    "# (例)\n",
    "# target_container = 'moodle-0'\n",
    "\n",
    "target_container ="
   ]
  },
  {
   "cell_type": "markdown",
   "metadata": {},
   "source": [
    "### 設定ファイルの指定"
   ]
  },
  {
   "cell_type": "markdown",
   "metadata": {},
   "source": [
    "変更する設定ファイルのパスを指定してください。ここではコンテナ内のパスを指定してください。"
   ]
  },
  {
   "cell_type": "code",
   "execution_count": null,
   "metadata": {},
   "outputs": [],
   "source": [
    "target_file = '/etc/php.ini'"
   ]
  },
  {
   "cell_type": "markdown",
   "metadata": {},
   "source": [
    "## 設定ファイルの編集\n",
    "\n",
    "Moodleコンテナの設定ファイル`php.ini`をローカル環境に取得しJupyter Notebookの編集機能を用いて編集します。\n",
    "\n",
    "![設定ファイルの取得、編集](images/moodle-031-03.png)"
   ]
  },
  {
   "cell_type": "markdown",
   "metadata": {},
   "source": [
    "次のセルを実行すると、以下の手順が実行されます。\n",
    "\n",
    "1. VCノードに配置されているMoodleコンテナの設定ファイル(`php.ini`)をローカル環境に取得する\n",
    "2. 取得した設定ファイルのバックアップを作成する\n",
    "3. Jupyter Notebookの編集機能を利用して設定ファイルを編集するためのリンクを表示する"
   ]
  },
  {
   "cell_type": "code",
   "execution_count": null,
   "metadata": {},
   "outputs": [],
   "source": [
    "%run scripts/edit_conf.py\n",
    "fetch_conf(ugroup_name, target_container, target_file)"
   ]
  },
  {
   "cell_type": "markdown",
   "metadata": {},
   "source": [
    "上のセルの出力に表示されているリンクをクリックして設定ファイルの編集を行ってください。"
   ]
  },
  {
   "cell_type": "markdown",
   "metadata": {},
   "source": [
    "この例では、以下の変更を行ってください。\n",
    "\n",
    "1. `upload_max_filesize` の値を `2M`から `1024M` に変更する\n",
    "1. `post_max_size` の値を `8M`から `1024M` に変更する\n",
    "\n",
    "> メニューの[Edit]-[Find]で検索文字を入力することで、編集箇所に移動できます。\n",
    "> また、ファイルの編集後は**必ず**、メニューの[File]-[Save]を選択してファイルの保存を行ってください。"
   ]
  },
  {
   "cell_type": "markdown",
   "metadata": {},
   "source": [
    "ローカル環境に取得したファイルは、以下のパスに格納されています。\n",
    "\n",
    "`./edit/{ugroup_name}/{YYYYMMDDHHmmssffffff}/php.ini`\n",
    "\n",
    "`{ugroup_name}` には UnitGroup名が、`{YYYYMMDDHHmmssfffff}` にはファイルを取得したタイムスタンプが入ります。\n",
    "\n",
    "また、バックアップファイルは以下のパスに格納されます。\n",
    "\n",
    "`./edit/{ugroup_name}/{YYYYMMDDHHmmssffffff}/php.ini.orig`"
   ]
  },
  {
   "cell_type": "markdown",
   "metadata": {},
   "source": [
    "次のセルを実行すると編集の前後での差分を確認することができます。"
   ]
  },
  {
   "cell_type": "code",
   "execution_count": null,
   "metadata": {},
   "outputs": [],
   "source": [
    "%run scripts/edit_conf.py\n",
    "show_local_conf_diff(ugroup_name, target_container, target_file)"
   ]
  },
  {
   "cell_type": "markdown",
   "metadata": {},
   "source": [
    "## 編集した設定ファイルの反映\n",
    "\n",
    "編集したファイルをVCノードに配置して、設定ファイルの変更内容をコンテナに反映させます。\n",
    "\n",
    "![設定ファイルの反映](images/moodle-031-04.png)"
   ]
  },
  {
   "cell_type": "markdown",
   "metadata": {},
   "source": [
    "### 変更前の状態を確認する\n",
    "\n",
    "設定ファイル変更の反映前の状態を確認します。\n",
    "\n",
    "MoodleのPHP情報の画面で、現在の `post_max_size`, `upload_max_filesize`の値を確認します。次のセルを実行すると MoodleのPHP情報を表示するためのリンクが表示されます。"
   ]
  },
  {
   "cell_type": "code",
   "execution_count": null,
   "metadata": {},
   "outputs": [],
   "source": [
    "%run scripts/group.py\n",
    "url = load_group_var(ugroup_name, 'moodle_url')\n",
    "print(url + '/admin/phpinfo.php')"
   ]
  },
  {
   "cell_type": "markdown",
   "metadata": {},
   "source": [
    "最大アップロードファイルサイズの設定値を確認します。"
   ]
  },
  {
   "cell_type": "code",
   "execution_count": null,
   "metadata": {},
   "outputs": [],
   "source": [
    "print(url + '/admin/settings.php?section=sitepolicies')"
   ]
  },
  {
   "cell_type": "markdown",
   "metadata": {},
   "source": [
    "### 編集内容の反映\n",
    "\n",
    "前章で編集した設定ファイル `php.ini` を Moodleコンテナに反映します。"
   ]
  },
  {
   "cell_type": "markdown",
   "metadata": {},
   "source": [
    "次のセルを実行すると、以下の手順が実行されます。\n",
    "\n",
    "1. 編集前と編集後の設定ファイルの差分を表示する\n",
    "2. 編集した設定ファイル(`php.ini`)をVCノードに配置する\n",
    "3. コンテナを再起動して変更した設定ファイルの反映を行う"
   ]
  },
  {
   "cell_type": "code",
   "execution_count": null,
   "metadata": {},
   "outputs": [],
   "source": [
    "apply_conf(ugroup_name, target_container, target_file)"
   ]
  },
  {
   "cell_type": "markdown",
   "metadata": {},
   "source": [
    "### 変更後の状態を確認する\n",
    "\n",
    "設定ファイル変更の反映後の状態を確認します。\n",
    "\n",
    "MoodleのPHP情報の画面で、設定変更後の`post_max_size`, `upload_max_filesize`の値を確認します。次のセルを実行すると MoodleのPHP情報を表示するためのリンクが表示されます。"
   ]
  },
  {
   "cell_type": "code",
   "execution_count": null,
   "metadata": {
    "scrolled": true
   },
   "outputs": [],
   "source": [
    "print(url + '/admin/phpinfo.php')"
   ]
  },
  {
   "cell_type": "markdown",
   "metadata": {},
   "source": [
    "最大アップロードファイルサイズの設定値が変更されたことを確認します。"
   ]
  },
  {
   "cell_type": "code",
   "execution_count": null,
   "metadata": {
    "scrolled": true
   },
   "outputs": [],
   "source": [
    "print(url + '/admin/settings.php?section=sitepolicies')"
   ]
  },
  {
   "cell_type": "markdown",
   "metadata": {},
   "source": [
    "## 変更を取り消す\n",
    "\n",
    "編集前の設定ファイルの状態に戻します。\n",
    "\n",
    "![設定ファイル変更の取り消し](images/moodle-031-05.png)"
   ]
  },
  {
   "cell_type": "markdown",
   "metadata": {},
   "source": [
    "次のセルを実行すると、以下の手順が実行されます。\n",
    "\n",
    "1. 編集後と編集前の設定ファイルの差分を表示する\n",
    "2. 編集前の設定ファイルをVCノードに配置する\n",
    "3. コンテナを再起動して設定値の反映を行う"
   ]
  },
  {
   "cell_type": "code",
   "execution_count": null,
   "metadata": {},
   "outputs": [],
   "source": [
    "revert_conf(ugroup_name, target_container, target_file)"
   ]
  },
  {
   "cell_type": "markdown",
   "metadata": {},
   "source": [
    "MoodleのPHP情報の画面で、設定ファイルを元に戻した後の`post_max_size`, `upload_max_filesize`の値を確認します。"
   ]
  },
  {
   "cell_type": "code",
   "execution_count": null,
   "metadata": {},
   "outputs": [],
   "source": [
    "print(url + '/admin/phpinfo.php')"
   ]
  },
  {
   "cell_type": "markdown",
   "metadata": {},
   "source": [
    "最大アップロードファイルサイズの設定値が元に戻ったことを確認します。"
   ]
  },
  {
   "cell_type": "code",
   "execution_count": null,
   "metadata": {},
   "outputs": [],
   "source": [
    "print(url + '/admin/settings.php?section=sitepolicies')"
   ]
  }
 ],
 "metadata": {
  "kernelspec": {
   "display_name": "Python 3",
   "language": "python",
   "name": "python3"
  },
  "language_info": {
   "file_extension": ".py",
   "mimetype": "text/x-python",
   "name": "python",
   "nbconvert_exporter": "python",
   "pygments_lexer": "ipython3",
   "version": "3.7.3"
  },
  "toc": {
   "base_numbering": 1,
   "nav_menu": {},
   "number_sections": true,
   "sideBar": true,
   "skip_h1_title": true,
   "title_cell": "Table of Contents",
   "title_sidebar": "Contents",
   "toc_cell": false,
   "toc_position": {},
   "toc_section_display": true,
   "toc_window_display": true
  }
 },
 "nbformat": 4,
 "nbformat_minor": 2
}
