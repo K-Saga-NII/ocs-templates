{
 "cells": [
  {
   "cell_type": "markdown",
   "metadata": {},
   "source": [
    "# About: 運用環境の移行--コンテナのパッケージアップデート\n",
    "\n",
    "---\n",
    "\n",
    "検証環境の更新内容を利用して運用環境の移行を行います。"
   ]
  },
  {
   "cell_type": "markdown",
   "metadata": {},
   "source": [
    "## 概要\n",
    "\n",
    "検証した設定を用いて新しい運用環境を構築し、運用環境の切り替えを行います。\n",
    "\n",
    "![運用環境の移行](images/moodle-122-01.png)"
   ]
  },
  {
   "cell_type": "markdown",
   "metadata": {},
   "source": [
    "### グループ名の指定\n",
    "\n",
    "このNotebookの操作対象となる UnitGroup名を指定します。"
   ]
  },
  {
   "cell_type": "code",
   "execution_count": null,
   "metadata": {},
   "outputs": [],
   "source": [
    "# (例)\n",
    "# ugroup_name = 'Moodle'\n",
    "\n",
    "ugroup_name ="
   ]
  },
  {
   "cell_type": "markdown",
   "metadata": {
    "heading_collapsed": true
   },
   "source": [
    "#### チェック"
   ]
  },
  {
   "cell_type": "markdown",
   "metadata": {
    "hidden": true
   },
   "source": [
    "指定された `UnitGroup`名に対応する group_varsファイルが存在していることを確認します。エラーになる場合は、指定したUnitGroup名が正しくないと考えられます。"
   ]
  },
  {
   "cell_type": "code",
   "execution_count": null,
   "metadata": {
    "hidden": true
   },
   "outputs": [],
   "source": [
    "from pathlib import Path\n",
    "if not (Path('group_vars') / (ugroup_name + '.yml')).exists():\n",
    "    raise RuntimeError(f\"ERROR: not exists {ugroup_name + '.yml'}\")"
   ]
  },
  {
   "cell_type": "markdown",
   "metadata": {
    "hidden": true
   },
   "source": [
    "UnitGroupに属する VCノードに対して Ansible で操作できることを確認します。"
   ]
  },
  {
   "cell_type": "code",
   "execution_count": null,
   "metadata": {
    "hidden": true,
    "scrolled": true
   },
   "outputs": [],
   "source": [
    "!ansible {ugroup_name} -m ping\n",
    "!ansible {ugroup_name} -b -a 'whoami'"
   ]
  },
  {
   "cell_type": "markdown",
   "metadata": {
    "hidden": true
   },
   "source": [
    "検証環境に関するパラメータが group_vars に保存されていることを確認します。"
   ]
  },
  {
   "cell_type": "code",
   "execution_count": null,
   "metadata": {
    "hidden": true
   },
   "outputs": [],
   "source": [
    "%run scripts/group.py\n",
    "gvars = load_group_vars(ugroup_name)\n",
    "\n",
    "if 'update_container_target' not in gvars:\n",
    "    raise RuntimeError(\"ERROR\")\n",
    "if 'update_project_tag' not in gvars:\n",
    "    raise RuntimeError(\"ERROR\")"
   ]
  },
  {
   "cell_type": "markdown",
   "metadata": {},
   "source": [
    "### VCCアクセストークンの入力\n",
    "\n",
    "VCCにアクセスするためのトークンを入力します。"
   ]
  },
  {
   "cell_type": "code",
   "execution_count": null,
   "metadata": {},
   "outputs": [],
   "source": [
    "from getpass import getpass\n",
    "vcc_access_token = getpass()"
   ]
  },
  {
   "cell_type": "markdown",
   "metadata": {
    "heading_collapsed": true
   },
   "source": [
    "#### チェック"
   ]
  },
  {
   "cell_type": "markdown",
   "metadata": {
    "hidden": true
   },
   "source": [
    "入力されたアクセストークンが正しいことを、VCCにアクセスして確認します。"
   ]
  },
  {
   "cell_type": "code",
   "execution_count": null,
   "metadata": {
    "hidden": true
   },
   "outputs": [],
   "source": [
    "from vcpsdk.vcpsdk import VcpSDK\n",
    "vcp = VcpSDK(vcc_access_token)"
   ]
  },
  {
   "cell_type": "markdown",
   "metadata": {
    "heading_collapsed": true
   },
   "source": [
    "### 準備\n",
    "\n",
    "これまでに他のNotebookで設定したパラメータを読み込む処理などを行います。"
   ]
  },
  {
   "cell_type": "markdown",
   "metadata": {
    "hidden": true
   },
   "source": [
    "group_varsファイルに保存されているパラメータを読み込みます。"
   ]
  },
  {
   "cell_type": "code",
   "execution_count": null,
   "metadata": {
    "hidden": true
   },
   "outputs": [],
   "source": [
    "%run scripts/group.py\n",
    "gvars = load_group_vars(ugroup_name)"
   ]
  },
  {
   "cell_type": "markdown",
   "metadata": {
    "hidden": true
   },
   "source": [
    "VCCのVault サーバにアクセスする際に必要となるパラメータを環境変数に設定します。"
   ]
  },
  {
   "cell_type": "code",
   "execution_count": null,
   "metadata": {
    "hidden": true
   },
   "outputs": [],
   "source": [
    "import os\n",
    "os.environ['VAULT_ADDR'] = vcp.vcc_info()['vault_url']\n",
    "os.environ['VAULT_TOKEN'] = vcc_access_token"
   ]
  },
  {
   "cell_type": "markdown",
   "metadata": {
    "heading_collapsed": true
   },
   "source": [
    "## 新しい運用環境の作成\n",
    "\n",
    "検証環境を元にした新しい運用環境を作成します。\n",
    "\n",
    "![新しい運用環境の作成](images/moodle-122-02.png)"
   ]
  },
  {
   "cell_type": "markdown",
   "metadata": {
    "hidden": true
   },
   "source": [
    "### メンテナンスモードへの切り替え\n",
    "\n",
    "新しい運用環境を作成するまでの間に、現在の運用環境に新たなデータが書き込まれないようにするために、メンテナンスモードに切り替えます。"
   ]
  },
  {
   "cell_type": "code",
   "execution_count": null,
   "metadata": {
    "hidden": true
   },
   "outputs": [],
   "source": [
    "moodle_container = f'moodle-{gvars[\"project_tag\"]}'\n",
    "!ansible {ugroup_name} -a 'chdir=/opt/moodle \\\n",
    "    docker-compose exec -T {moodle_container} \\\n",
    "    /usr/bin/php /var/www/html/admin/cli/maintenance.php --enable'"
   ]
  },
  {
   "cell_type": "markdown",
   "metadata": {
    "hidden": true
   },
   "source": [
    "### コンテナのコミット\n",
    "\n",
    "検証環境のMoodleコンテナから、新しい運用環境で使用するコンテナイメージ作成します。"
   ]
  },
  {
   "cell_type": "code",
   "execution_count": null,
   "metadata": {
    "hidden": true
   },
   "outputs": [],
   "source": [
    "source_container = f'{gvars[\"update_container_target\"]}test-{gvars[\"update_project_tag\"]}'\n",
    "target_container_image = f'local/{gvars[\"update_container_target\"]}:{gvars[\"update_project_tag\"]}'\n",
    "print(f'docker commit {source_container} {target_container_image}')\n",
    "\n",
    "!ansible {ugroup_name} -a \\\n",
    "    'docker commit {source_container} {target_container_image}'"
   ]
  },
  {
   "cell_type": "markdown",
   "metadata": {
    "hidden": true
   },
   "source": [
    "コンテナイメージが作成されたことを確認します。"
   ]
  },
  {
   "cell_type": "code",
   "execution_count": null,
   "metadata": {
    "hidden": true
   },
   "outputs": [],
   "source": [
    "!ansible {ugroup_name} -a \\\n",
    "    'docker images {target_container_image}'"
   ]
  },
  {
   "cell_type": "markdown",
   "metadata": {
    "hidden": true
   },
   "source": [
    "### 検証環境コンテナの停止\n",
    "\n",
    "検証環境のコンテナを停止します。"
   ]
  },
  {
   "cell_type": "markdown",
   "metadata": {
    "hidden": true
   },
   "source": [
    "現在のコンテナの実行状態を確認します。"
   ]
  },
  {
   "cell_type": "code",
   "execution_count": null,
   "metadata": {
    "hidden": true
   },
   "outputs": [],
   "source": [
    "!ansible {ugroup_name} -a 'chdir=/opt/moodle \\\n",
    "    docker-compose ps'"
   ]
  },
  {
   "cell_type": "markdown",
   "metadata": {
    "hidden": true
   },
   "source": [
    "検証環境のコンテナを停止します。"
   ]
  },
  {
   "cell_type": "code",
   "execution_count": null,
   "metadata": {
    "hidden": true
   },
   "outputs": [],
   "source": [
    "test_containers = [f'{x}test-{gvars[\"update_project_tag\"]}' for x in ['moodle', 'db']]\n",
    "print(test_containers)\n",
    "\n",
    "!ansible {ugroup_name} -a 'chdir=/opt/moodle \\\n",
    "    docker-compose rm -f -s {\" \".join(test_containers)}'"
   ]
  },
  {
   "cell_type": "markdown",
   "metadata": {
    "hidden": true
   },
   "source": [
    "停止後のコンテナの実行状態を確認します。"
   ]
  },
  {
   "cell_type": "code",
   "execution_count": null,
   "metadata": {
    "hidden": true
   },
   "outputs": [],
   "source": [
    "!ansible {ugroup_name} -a 'chdir=/opt/moodle \\\n",
    "    docker-compose ps'"
   ]
  },
  {
   "cell_type": "markdown",
   "metadata": {
    "hidden": true
   },
   "source": [
    "### 論理ボリュームの複製\n",
    "\n",
    "新しい運用環境のための論理ボリュームを作成します。"
   ]
  },
  {
   "cell_type": "markdown",
   "metadata": {
    "hidden": true
   },
   "source": [
    "まず、現在の運用環境から、データベース用論理ボリューム、moodledata用論理ボリュームのスナップショットを作成します。"
   ]
  },
  {
   "cell_type": "code",
   "execution_count": null,
   "metadata": {
    "hidden": true
   },
   "outputs": [],
   "source": [
    "project_tag = gvars['project_tag']\n",
    "update_project_tag = gvars['update_project_tag']\n",
    "\n",
    "# スナップショットを作成する\n",
    "for name in ['db', 'moodle']:\n",
    "    vg = name\n",
    "    lv = f'{project_tag}_{name}'\n",
    "    snapshot = f'{update_project_tag}_{name}'\n",
    "    print(f'vg={vg} lv={lv} snapshot={snapshot}')\n",
    "    !ansible {ugroup_name} -b -m lvol -a \\\n",
    "        'vg={vg} lv={lv} snapshot={snapshot} opts=\"-kn\"'"
   ]
  },
  {
   "cell_type": "markdown",
   "metadata": {
    "hidden": true
   },
   "source": [
    "検証環境のPHP用論理ボリュームのスナップショットを作成します。"
   ]
  },
  {
   "cell_type": "code",
   "execution_count": null,
   "metadata": {
    "hidden": true
   },
   "outputs": [],
   "source": [
    "vg = 'moodle'\n",
    "lv = f'{update_project_tag}_php_test'\n",
    "snapshot = f'{update_project_tag}_php'\n",
    "print(f'vg={vg} lv={lv} snapshot={snapshot}')\n",
    "!ansible {ugroup_name} -b -m lvol -a \\\n",
    "    'vg={vg} lv={lv} snapshot={snapshot} opts=\"-kn\"'"
   ]
  },
  {
   "cell_type": "markdown",
   "metadata": {
    "hidden": true
   },
   "source": [
    "スナップショットが作成されたことを確認するために、論理ボリュームの一覧を表示します。"
   ]
  },
  {
   "cell_type": "code",
   "execution_count": null,
   "metadata": {
    "hidden": true
   },
   "outputs": [],
   "source": [
    "!ansible {ugroup_name} -b -a 'lvs -S \"lv_attr=~V\" -O lv_name'"
   ]
  },
  {
   "cell_type": "markdown",
   "metadata": {
    "hidden": true
   },
   "source": [
    "作成したスナップショットをマウント可能にするために、論理ボリュームのアクティベートとUUIDの再作成を行います。"
   ]
  },
  {
   "cell_type": "code",
   "execution_count": null,
   "metadata": {
    "hidden": true,
    "scrolled": false
   },
   "outputs": [],
   "source": [
    "# LVとVGとの対応\n",
    "lv_map = {\n",
    "    'moodle': 'moodle',\n",
    "    'php': 'moodle',\n",
    "    'db': 'db',\n",
    "}\n",
    "\n",
    "for name, vg in lv_map.items():\n",
    "    snapshot = f'{update_project_tag}_{name}'\n",
    "    dev = f'/dev/mapper/{vg}-{snapshot}'\n",
    "    print(f'snapshot={snapshot} dev={dev}')\n",
    "    !ansible {ugroup_name} -b -m shell -a \\\n",
    "        'lvchange -ay {vg}/{snapshot} && \\\n",
    "         mount -o nouuid {dev} /mnt && \\\n",
    "         umount /mnt && \\\n",
    "         xfs_admin -U generate {dev}'"
   ]
  },
  {
   "cell_type": "markdown",
   "metadata": {
    "hidden": true
   },
   "source": [
    "スナップショットがアクティベートされたことを確認するために、論理ボリュームの一覧を表示します。"
   ]
  },
  {
   "cell_type": "code",
   "execution_count": null,
   "metadata": {
    "hidden": true
   },
   "outputs": [],
   "source": [
    "!ansible {ugroup_name} -b -a 'lvs -S \"lv_attr=~V\" -O lv_name'"
   ]
  },
  {
   "cell_type": "markdown",
   "metadata": {
    "hidden": true
   },
   "source": [
    "作成したボリュームをマウントします。"
   ]
  },
  {
   "cell_type": "code",
   "execution_count": null,
   "metadata": {
    "hidden": true,
    "scrolled": true
   },
   "outputs": [],
   "source": [
    "mount_point = {\n",
    "    'moodle': f'/opt/moodle/moodle-{update_project_tag}/data/moodledata',\n",
    "    'php': f'/opt/moodle/moodle-{update_project_tag}/data/php',\n",
    "    'db': f'/opt/moodle/db-{update_project_tag}/data',\n",
    "}\n",
    "\n",
    "for name, vg in lv_map.items():\n",
    "    snapshot = f'{update_project_tag}_{name}'\n",
    "    dev = f'/dev/mapper/{vg}-{snapshot}'\n",
    "    print(f'path={mount_point[name]} src={dev}')\n",
    "    !ansible {ugroup_name} -b -m mount -a \\\n",
    "        'path={mount_point[name]} src={dev} fstype=xfs state=mounted'"
   ]
  },
  {
   "cell_type": "markdown",
   "metadata": {
    "hidden": true
   },
   "source": [
    "### 設定ファイルの複製\n",
    "\n",
    "検証環境の設定ファイルをコピーして新しい運用環境の設定ファイルを作成します。"
   ]
  },
  {
   "cell_type": "code",
   "execution_count": null,
   "metadata": {
    "hidden": true
   },
   "outputs": [],
   "source": [
    "for name in ['moodle', 'db']:\n",
    "    src = f'{name}-{project_tag}/conf'\n",
    "    dst = f'{name}-{update_project_tag}'\n",
    "    print(f'src={src} dst={dst}')\n",
    "    !ansible {ugroup_name} -b -a \\\n",
    "        'chdir=/opt/moodle cp -a {src} {dst}'"
   ]
  },
  {
   "cell_type": "markdown",
   "metadata": {
    "heading_collapsed": true
   },
   "source": [
    "## 検証環境の削除\n",
    "\n",
    "新しい運用環境が作成され、不要となった検証環境を削除します。\n",
    "\n",
    "![検証環境の削除](images/moodle-122-03.png)"
   ]
  },
  {
   "cell_type": "markdown",
   "metadata": {
    "hidden": true
   },
   "source": [
    "### 検証環境用論理ボリュームの削除\n",
    "\n",
    "検証環境の論理ボリュームを削除します。"
   ]
  },
  {
   "cell_type": "markdown",
   "metadata": {
    "hidden": true
   },
   "source": [
    "現在の論理ボリュームの一覧を表示します。"
   ]
  },
  {
   "cell_type": "code",
   "execution_count": null,
   "metadata": {
    "hidden": true
   },
   "outputs": [],
   "source": [
    "!ansible {ugroup_name} -b -a 'lvs -S \"lv_attr=~V\" -O lv_name'"
   ]
  },
  {
   "cell_type": "markdown",
   "metadata": {
    "hidden": true
   },
   "source": [
    "削除対象となる論理ボリュームを確認します。"
   ]
  },
  {
   "cell_type": "code",
   "execution_count": null,
   "metadata": {
    "hidden": true
   },
   "outputs": [],
   "source": [
    "remove_volumes = dict([\n",
    "    (f'{update_project_tag}_{name}_test', vg)\n",
    "    for name, vg in lv_map.items()\n",
    "])\n",
    "\n",
    "for x in sorted(remove_volumes.keys()):\n",
    "    print(x)"
   ]
  },
  {
   "cell_type": "markdown",
   "metadata": {
    "hidden": true
   },
   "source": [
    "削除対象となる論理ボリュームを umount します。"
   ]
  },
  {
   "cell_type": "code",
   "execution_count": null,
   "metadata": {
    "hidden": true
   },
   "outputs": [],
   "source": [
    "for lv, vg in remove_volumes.items():\n",
    "    dev = f'/dev/mapper/{vg}-{lv}'\n",
    "    print(f'umount {dev}')\n",
    "    !ansible {ugroup_name} -b -a \\\n",
    "        'umount {dev}'"
   ]
  },
  {
   "cell_type": "markdown",
   "metadata": {
    "hidden": true
   },
   "source": [
    "論理ボリュームを削除します。"
   ]
  },
  {
   "cell_type": "code",
   "execution_count": null,
   "metadata": {
    "hidden": true
   },
   "outputs": [],
   "source": [
    "for lv, vg in remove_volumes.items():\n",
    "    print(f'vg={vg} lv={lv}')\n",
    "    !ansible {ugroup_name} -b -m lvol -a \\\n",
    "        'vg={vg} lv={lv} state=absent force=yes'"
   ]
  },
  {
   "cell_type": "markdown",
   "metadata": {
    "hidden": true
   },
   "source": [
    "削除後の論理ボリュームの一覧を表示します。"
   ]
  },
  {
   "cell_type": "code",
   "execution_count": null,
   "metadata": {
    "hidden": true,
    "scrolled": true
   },
   "outputs": [],
   "source": [
    "!ansible {ugroup_name} -b -a 'lvs -S \"lv_attr=~V\" -O lv_name'"
   ]
  },
  {
   "cell_type": "markdown",
   "metadata": {
    "hidden": true
   },
   "source": [
    "### 検証環境用設定ファイルの削除\n",
    "\n",
    "検証環境の設定ファイルを削除します。"
   ]
  },
  {
   "cell_type": "markdown",
   "metadata": {
    "hidden": true
   },
   "source": [
    "検証環境の設定ファイルを一覧表示します。"
   ]
  },
  {
   "cell_type": "code",
   "execution_count": null,
   "metadata": {
    "hidden": true,
    "scrolled": true
   },
   "outputs": [],
   "source": [
    "target_dirs = ' '.join([f'{x}test-{update_project_tag}' for x in ['moodle', 'db']])\n",
    "print(target_dirs)\n",
    "!ansible {ugroup_name} -a 'chdir=/opt/moodle tree {target_dirs}'"
   ]
  },
  {
   "cell_type": "markdown",
   "metadata": {
    "hidden": true
   },
   "source": [
    "検証環境の設定ファイルを削除します。"
   ]
  },
  {
   "cell_type": "code",
   "execution_count": null,
   "metadata": {
    "hidden": true
   },
   "outputs": [],
   "source": [
    "!ansible {ugroup_name} -b -a 'chdir=/opt/moodle \\\n",
    "    rm -rf {target_dirs}'"
   ]
  },
  {
   "cell_type": "markdown",
   "metadata": {
    "hidden": true
   },
   "source": [
    "削除されたことを確認します。\n",
    "\n",
    "> 削除されていれば`[error opening dir]`と表示されます。"
   ]
  },
  {
   "cell_type": "code",
   "execution_count": null,
   "metadata": {
    "hidden": true,
    "scrolled": true
   },
   "outputs": [],
   "source": [
    "!ansible {ugroup_name} -a 'chdir=/opt/moodle \\\n",
    "    tree {target_dirs}'"
   ]
  },
  {
   "cell_type": "markdown",
   "metadata": {
    "hidden": true
   },
   "source": [
    "### 検証環境用コンテナイメージの削除\n",
    "\n",
    "検証環境のためのコンテナイメージを削除します。"
   ]
  },
  {
   "cell_type": "markdown",
   "metadata": {
    "hidden": true
   },
   "source": [
    "検証環境で利用していた削除対象となるコンテナイメージを表示します。"
   ]
  },
  {
   "cell_type": "code",
   "execution_count": null,
   "metadata": {
    "hidden": true
   },
   "outputs": [],
   "source": [
    "target_image = f'local/{gvars[\"update_container_target\"]}:{gvars[\"update_project_tag\"]}-test'\n",
    "!ansible {ugroup_name} -a 'docker images {target_image}'"
   ]
  },
  {
   "cell_type": "markdown",
   "metadata": {
    "hidden": true
   },
   "source": [
    "検証環境のコンテナイメージを削除します。"
   ]
  },
  {
   "cell_type": "code",
   "execution_count": null,
   "metadata": {
    "hidden": true
   },
   "outputs": [],
   "source": [
    "!ansible {ugroup_name} -a 'docker rmi {target_image}'"
   ]
  },
  {
   "cell_type": "markdown",
   "metadata": {
    "hidden": true
   },
   "source": [
    "コンテナイメージが削除されたことを確認します。\n",
    "\n",
    "> コンテナイメージが削除されていれば、ヘッダ以外は何も表示されません。"
   ]
  },
  {
   "cell_type": "code",
   "execution_count": null,
   "metadata": {
    "hidden": true
   },
   "outputs": [],
   "source": [
    "!ansible {ugroup_name} -a 'docker images {target_image}'"
   ]
  },
  {
   "cell_type": "markdown",
   "metadata": {
    "heading_collapsed": true
   },
   "source": [
    "## 新しい運用環境の起動\n",
    "\n",
    "新しい運用環境のコンテナを起動します。\n",
    "\n",
    "![新しい運用環境の起動](images/moodle-122-04.png)"
   ]
  },
  {
   "cell_type": "markdown",
   "metadata": {
    "hidden": true
   },
   "source": [
    "### group_vars の更新\n",
    "\n",
    "group_varsに記録している運用環境につけているタグの値を新しい環境の値に更新します。"
   ]
  },
  {
   "cell_type": "code",
   "execution_count": null,
   "metadata": {
    "hidden": true
   },
   "outputs": [],
   "source": [
    "gvars = load_group_vars(ugroup_name)\n",
    "\n",
    "# 更新対象のコンテナ種別\n",
    "target_type = gvars['update_container_target']\n",
    "\n",
    "# 新しい運用環境に関する情報\n",
    "next_info = {\n",
    "    'project_tag': gvars['update_project_tag'],\n",
    "    f'{target_type}_image_name': f'local/{target_type}:{gvars[\"update_project_tag\"]}',\n",
    "}\n",
    "\n",
    "# 現在の運用環境に関する情報\n",
    "previous_info = {\n",
    "    'project_tag': gvars['project_tag'],\n",
    "    target_type + '_image_name': gvars[target_type + '_image_name'],\n",
    "}\n",
    "\n",
    "if 'previous_info_list' not in gvars:\n",
    "    gvars['previous_info_list'] = []\n",
    "gvars['previous_info_list'].insert(0, previous_info)\n",
    "\n",
    "remove_group_vars(ugroup_name, 'update_project_tag', 'update_container_target')\n",
    "update_group_vars(ugroup_name, previous_info_list=gvars['previous_info_list'], **next_info)\n",
    "gvars = load_group_vars(ugroup_name)"
   ]
  },
  {
   "cell_type": "markdown",
   "metadata": {
    "hidden": true
   },
   "source": [
    "### docker-compose.yml の更新\n",
    "\n",
    "新しい運用環境のコンテナ構成を記述した `docker-compose.yml`をVCノードに配置します。"
   ]
  },
  {
   "cell_type": "markdown",
   "metadata": {
    "hidden": true
   },
   "source": [
    "次のセルを実行するとローカル環境に新しい運用環境コンテナを追加した `docker-compose.yml` \n",
    "を作成し更新前との差分を表示します。また最後に表示されたリンクから更新後の `docker-compose.yml` \n",
    "を編集することもできます。"
   ]
  },
  {
   "cell_type": "code",
   "execution_count": null,
   "metadata": {
    "hidden": true,
    "scrolled": true
   },
   "outputs": [],
   "source": [
    "%run scripts/edit_conf.py\n",
    "update_docker_compose(ugroup_name)"
   ]
  },
  {
   "cell_type": "markdown",
   "metadata": {
    "hidden": true
   },
   "source": [
    "更新した`docker-compose.yml`をVCノードに配置します。"
   ]
  },
  {
   "cell_type": "code",
   "execution_count": null,
   "metadata": {
    "hidden": true
   },
   "outputs": [],
   "source": [
    "upload_docker_compose(ugroup_name)"
   ]
  },
  {
   "cell_type": "markdown",
   "metadata": {
    "hidden": true
   },
   "source": [
    "### 新しい運用環境のコンテナ起動"
   ]
  },
  {
   "cell_type": "markdown",
   "metadata": {
    "hidden": true
   },
   "source": [
    "現在のコンテナの実行状態を確認します。"
   ]
  },
  {
   "cell_type": "code",
   "execution_count": null,
   "metadata": {
    "hidden": true
   },
   "outputs": [],
   "source": [
    "!ansible {ugroup_name} -a 'docker ps'"
   ]
  },
  {
   "cell_type": "markdown",
   "metadata": {
    "hidden": true
   },
   "source": [
    "新しい運用環境のコンテナを起動します。"
   ]
  },
  {
   "cell_type": "code",
   "execution_count": null,
   "metadata": {
    "hidden": true
   },
   "outputs": [],
   "source": [
    "!ansible {ugroup_name} -a 'chdir=/opt/moodle \\\n",
    "    docker-compose up -d'"
   ]
  },
  {
   "cell_type": "markdown",
   "metadata": {
    "hidden": true
   },
   "source": [
    "新しい運用環境のコンテナを起動した後の、コンテナの実行状態を確認します。"
   ]
  },
  {
   "cell_type": "code",
   "execution_count": null,
   "metadata": {
    "hidden": true
   },
   "outputs": [],
   "source": [
    "!ansible {ugroup_name} -a 'docker ps'"
   ]
  },
  {
   "cell_type": "markdown",
   "metadata": {
    "hidden": true
   },
   "source": [
    "### リバースプロキシの設定\n",
    "\n",
    "リバースプロキシの設定を変更して、新しい運用環境に切り替えます。"
   ]
  },
  {
   "cell_type": "markdown",
   "metadata": {
    "hidden": true
   },
   "source": [
    "現在のリバースプロキシの設定ファイルを確認します。"
   ]
  },
  {
   "cell_type": "code",
   "execution_count": null,
   "metadata": {
    "hidden": true
   },
   "outputs": [],
   "source": [
    "!ansible {ugroup_name} -a \\\n",
    "    'cat /opt/moodle/proxy/conf/moodle-proxy.conf'"
   ]
  },
  {
   "cell_type": "markdown",
   "metadata": {
    "hidden": true
   },
   "source": [
    "次のセルを実行すると新しい運用環境を利用するように記述したApache HTTP Serverの設定ファイル\n",
    "`moodle-proxy.conf`をローカル環境に作成します。作成後に現在の設定ファイルとの差分を表示します。\n",
    "また、ローカル環境に生成した `moodle-proxy.conf` を編集するためのリンクを最後に表示します。"
   ]
  },
  {
   "cell_type": "code",
   "execution_count": null,
   "metadata": {
    "hidden": true
   },
   "outputs": [],
   "source": [
    "%run scripts/edit_conf.py\n",
    "update_proxy_conf(ugroup_name)"
   ]
  },
  {
   "cell_type": "markdown",
   "metadata": {
    "hidden": true
   },
   "source": [
    "ローカル環境の変更後の `moodle-proxy.conf` をVCノードに配置します。\n",
    "その後、設定ファイルの記述内容を反映させるためにリバースプロキシコンテナを再起動します。"
   ]
  },
  {
   "cell_type": "code",
   "execution_count": null,
   "metadata": {
    "hidden": true
   },
   "outputs": [],
   "source": [
    "apply_proxy_conf(ugroup_name)"
   ]
  },
  {
   "cell_type": "markdown",
   "metadata": {
    "hidden": true
   },
   "source": [
    "再起動後のコンテナの状態を確認します。`proxy`コンテナの状態が `Up` になっていることを確認してください。"
   ]
  },
  {
   "cell_type": "code",
   "execution_count": null,
   "metadata": {
    "hidden": true
   },
   "outputs": [],
   "source": [
    "!ansible {ugroup_name} -a 'chdir=/opt/moodle \\\n",
    "    docker-compose ps'"
   ]
  },
  {
   "cell_type": "markdown",
   "metadata": {
    "hidden": true
   },
   "source": [
    "### メンテナンスモードの解除"
   ]
  },
  {
   "cell_type": "code",
   "execution_count": null,
   "metadata": {
    "hidden": true,
    "scrolled": true
   },
   "outputs": [],
   "source": [
    "moodle_container = f'moodle-{gvars[\"project_tag\"]}'\n",
    "!ansible {ugroup_name} -a 'chdir=/opt/moodle \\\n",
    "    docker-compose exec -T {moodle_container} \\\n",
    "    /usr/bin/php /var/www/html/admin/cli/maintenance.php --disable'"
   ]
  },
  {
   "cell_type": "markdown",
   "metadata": {},
   "source": [
    "## パッケージが更新されたことの確認\n",
    "\n",
    "古い運用環境と新しい運用環境のパッケージの一覧を比較することで、更新されたパッケージを確認します。"
   ]
  },
  {
   "cell_type": "markdown",
   "metadata": {},
   "source": [
    "古い運用環境のコンテナのパッケージ一覧を取得します。"
   ]
  },
  {
   "cell_type": "code",
   "execution_count": null,
   "metadata": {},
   "outputs": [],
   "source": [
    "previous_project_tag = gvars['previous_info_list'][0]['project_tag']\n",
    "previous_container = f'{target_type}-{previous_project_tag}'\n",
    "package_old = !ansible {ugroup_name} -m shell -a 'chdir=/opt/moodle \\\n",
    "    docker exec -t {previous_container} \\\n",
    "    bash -c \"( type rpm > /dev/null 2>&1 && rpm -qa ) || \\\n",
    "             ( type dpkg > /dev/null 2>&1 && dpkg -l ) \" | sort'"
   ]
  },
  {
   "cell_type": "markdown",
   "metadata": {},
   "source": [
    "新しい運用環境のコンテナのパッケージ一覧を取得します。"
   ]
  },
  {
   "cell_type": "code",
   "execution_count": null,
   "metadata": {},
   "outputs": [],
   "source": [
    "current_container = f'{target_type}-{update_project_tag}'\n",
    "package_new = !ansible {ugroup_name} -m shell -a 'chdir=/opt/moodle \\\n",
    "    docker exec -t {current_container} \\\n",
    "    bash -c \"( type rpm > /dev/null 2>&1 && rpm -qa ) || \\\n",
    "             ( type dpkg > /dev/null 2>&1 && dpkg -l )\" | sort'"
   ]
  },
  {
   "cell_type": "markdown",
   "metadata": {},
   "source": [
    "パッケージ一覧の差分を確認します。"
   ]
  },
  {
   "cell_type": "code",
   "execution_count": null,
   "metadata": {
    "scrolled": true
   },
   "outputs": [],
   "source": [
    "from difflib import unified_diff\n",
    "\n",
    "for line in unified_diff(package_old, package_new,\n",
    "                         fromfile=previous_container, tofile=current_container):\n",
    "    print(line)"
   ]
  },
  {
   "cell_type": "markdown",
   "metadata": {
    "heading_collapsed": true
   },
   "source": [
    "## 古い運用環境のコンテナを停止する\n",
    "\n",
    "古い運用環境のコンテナを停止します。\n",
    "\n",
    "![古い運用環境の停止](images/moodle-122-05.png)"
   ]
  },
  {
   "cell_type": "markdown",
   "metadata": {
    "hidden": true
   },
   "source": [
    "> ここではコンテナの停止のみ行い、古い運用環境の論理ボリュームや設定ファイルの削除は行いません。そのため、新しい運用環境で問題が生じた場合は「192-元の運用環境に戻す.ipynb」を実行することで元の運用環境に戻すことができます。また、新しい運用環境への移行が完了して古い運用環境が不要になった場合は「193-古い環境の削除.ipynb」を実行することで、古い運用環境の論理ボリュームなどのリソースを全て削除することができます。\n"
   ]
  },
  {
   "cell_type": "markdown",
   "metadata": {
    "hidden": true
   },
   "source": [
    "古い運用環境のコンテナの停止を行います。"
   ]
  },
  {
   "cell_type": "code",
   "execution_count": null,
   "metadata": {
    "hidden": true,
    "scrolled": true
   },
   "outputs": [],
   "source": [
    "!ansible {ugroup_name} -a 'chdir=/opt/moodle \\\n",
    "    docker-compose up -d --remove-orphans'"
   ]
  },
  {
   "cell_type": "markdown",
   "metadata": {
    "hidden": true
   },
   "source": [
    "実行しているコンテナの一覧を表示して、古い運用環境のコンテナが表示されないことを確認します。"
   ]
  },
  {
   "cell_type": "code",
   "execution_count": null,
   "metadata": {
    "hidden": true
   },
   "outputs": [],
   "source": [
    "!ansible {ugroup_name} -a 'docker ps'"
   ]
  },
  {
   "cell_type": "markdown",
   "metadata": {},
   "source": [
    "## Moodle を利用できることを確認\n",
    "\n",
    "新しい運用環境のMoodle環境にアクセスして正しく動作していることを確認します。"
   ]
  },
  {
   "cell_type": "markdown",
   "metadata": {},
   "source": [
    "次のセルを実行するとMoodleのアドレスが表示されます。"
   ]
  },
  {
   "cell_type": "code",
   "execution_count": null,
   "metadata": {},
   "outputs": [],
   "source": [
    "from IPython.core.display import HTML\n",
    "HTML(u'<a href=\"{0}/admin/index.php\" target=\"_blank\">{0}/admin/index.php</a>'.format(gvars['moodle_url']))"
   ]
  }
 ],
 "metadata": {
  "kernelspec": {
   "display_name": "Python 3",
   "language": "python",
   "name": "python3"
  },
  "language_info": {
   "file_extension": ".py",
   "mimetype": "text/x-python",
   "name": "python",
   "nbconvert_exporter": "python",
   "pygments_lexer": "ipython3",
   "version": "3.7.3"
  },
  "toc": {
   "base_numbering": 1,
   "nav_menu": {},
   "number_sections": true,
   "sideBar": true,
   "skip_h1_title": true,
   "title_cell": "Table of Contents",
   "title_sidebar": "Contents",
   "toc_cell": false,
   "toc_position": {},
   "toc_section_display": true,
   "toc_window_display": true
  }
 },
 "nbformat": 4,
 "nbformat_minor": 2
}