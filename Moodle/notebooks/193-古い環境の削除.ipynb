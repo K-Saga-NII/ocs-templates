{
 "cells": [
  {
   "cell_type": "markdown",
   "metadata": {},
   "source": [
    "# About: 古い環境の削除\n",
    "\n",
    "---\n",
    "\n",
    "移行して利用しなくなった古い運用環境を削除します。"
   ]
  },
  {
   "cell_type": "markdown",
   "metadata": {},
   "source": [
    "## 概要\n",
    "\n",
    "古い運用環境のリソース（論理ボリューム、設定ファイル、コンテナイメージ）を削除します。\n",
    "\n",
    "![古い運用環境の削除](images/moodle-193-01.png)"
   ]
  },
  {
   "cell_type": "markdown",
   "metadata": {},
   "source": [
    "### グループ名の指定\n",
    "\n",
    "このNotebookの操作対象となる UnitGroup名を指定します。"
   ]
  },
  {
   "cell_type": "code",
   "execution_count": null,
   "metadata": {},
   "outputs": [],
   "source": [
    "# (例)\n",
    "# ugroup_name = 'Moodle'\n",
    "\n",
    "ugroup_name ="
   ]
  },
  {
   "cell_type": "markdown",
   "metadata": {
    "heading_collapsed": true
   },
   "source": [
    "#### チェック"
   ]
  },
  {
   "cell_type": "markdown",
   "metadata": {
    "hidden": true
   },
   "source": [
    "指定された `UnitGroup`名に対応する group_varsファイルが存在していることを確認します。エラーになる場合は、指定したUnitGroup名が正しくないか、「010-パラメータ設定.ipynb」のNotebookを実行していないことが考えられます。"
   ]
  },
  {
   "cell_type": "code",
   "execution_count": null,
   "metadata": {
    "hidden": true
   },
   "outputs": [],
   "source": [
    "from pathlib import Path\n",
    "if not (Path('group_vars') / (ugroup_name + '.yml')).exists():\n",
    "    raise RuntimeError(f\"ERROR: not exists {ugroup_name + '.yml'}\")"
   ]
  },
  {
   "cell_type": "markdown",
   "metadata": {
    "hidden": true
   },
   "source": [
    "UnitGroupに属する VCノードに対して Ansible で操作できることを確認します。"
   ]
  },
  {
   "cell_type": "code",
   "execution_count": null,
   "metadata": {
    "hidden": true,
    "scrolled": true
   },
   "outputs": [],
   "source": [
    "!ansible {ugroup_name} -m ping\n",
    "!ansible {ugroup_name} -b -a 'whoami'"
   ]
  },
  {
   "cell_type": "markdown",
   "metadata": {
    "hidden": true
   },
   "source": [
    "検証環境に関するパラメータが group_vars に保存されていることを確認します。"
   ]
  },
  {
   "cell_type": "code",
   "execution_count": null,
   "metadata": {
    "hidden": true
   },
   "outputs": [],
   "source": [
    "%run scripts/group.py\n",
    "gvars = load_group_vars(ugroup_name)\n",
    "\n",
    "if 'previous_info_list' not in gvars:\n",
    "    raise RuntimeError(\"ERROR\")"
   ]
  },
  {
   "cell_type": "markdown",
   "metadata": {},
   "source": [
    "### VCCアクセストークンの入力\n",
    "\n",
    "VCCにアクセスするためのトークンを入力します。"
   ]
  },
  {
   "cell_type": "code",
   "execution_count": null,
   "metadata": {},
   "outputs": [],
   "source": [
    "from getpass import getpass\n",
    "vcc_access_token = getpass()"
   ]
  },
  {
   "cell_type": "markdown",
   "metadata": {
    "heading_collapsed": true
   },
   "source": [
    "#### チェック"
   ]
  },
  {
   "cell_type": "markdown",
   "metadata": {
    "hidden": true
   },
   "source": [
    "入力されたアクセストークンが正しいことを、VCCにアクセスして確認します。"
   ]
  },
  {
   "cell_type": "code",
   "execution_count": null,
   "metadata": {
    "hidden": true
   },
   "outputs": [],
   "source": [
    "from vcpsdk.vcpsdk import VcpSDK\n",
    "vcp = VcpSDK(vcc_access_token)"
   ]
  },
  {
   "cell_type": "markdown",
   "metadata": {
    "heading_collapsed": true
   },
   "source": [
    "### 準備\n",
    "\n",
    "これまでに他のNotebookで設定したパラメータを読み込む処理などを行います。"
   ]
  },
  {
   "cell_type": "markdown",
   "metadata": {
    "hidden": true
   },
   "source": [
    "group_varsファイルに保存されているパラメータを読み込みます。"
   ]
  },
  {
   "cell_type": "code",
   "execution_count": null,
   "metadata": {
    "hidden": true
   },
   "outputs": [],
   "source": [
    "%run scripts/group.py\n",
    "gvars = load_group_vars(ugroup_name)"
   ]
  },
  {
   "cell_type": "markdown",
   "metadata": {
    "hidden": true
   },
   "source": [
    "VCCのVault サーバにアクセスする際に必要となるパラメータを環境変数に設定します。"
   ]
  },
  {
   "cell_type": "code",
   "execution_count": null,
   "metadata": {
    "hidden": true
   },
   "outputs": [],
   "source": [
    "import os\n",
    "os.environ['VAULT_ADDR'] = vcp.vcc_info()['vault_url']\n",
    "os.environ['VAULT_TOKEN'] = vcc_access_token"
   ]
  },
  {
   "cell_type": "markdown",
   "metadata": {
    "hidden": true
   },
   "source": [
    "古い運用環境のコンテナが停止していることを確認するために、コンテナ状態を更新します。"
   ]
  },
  {
   "cell_type": "code",
   "execution_count": null,
   "metadata": {
    "hidden": true
   },
   "outputs": [],
   "source": [
    "!ansible {ugroup_name} -a 'chdir=/opt/moodle \\\n",
    "    docker-compose up -d --remove-orphans'"
   ]
  },
  {
   "cell_type": "markdown",
   "metadata": {
    "hidden": true
   },
   "source": [
    "削除対象となる環境が存在していることを確認します。"
   ]
  },
  {
   "cell_type": "code",
   "execution_count": null,
   "metadata": {
    "hidden": true
   },
   "outputs": [],
   "source": [
    "candidate = [\n",
    "    x['project_tag']\n",
    "    for x in gvars.get('previous_info_list', [])\n",
    "    if ('project_tag' in x and\n",
    "        x['project_tag'] not in gvars.get('delete_tags', []))\n",
    "]\n",
    "if len(candidate) == 0:\n",
    "    raise RuntimeError(\"ERROR\")"
   ]
  },
  {
   "cell_type": "markdown",
   "metadata": {},
   "source": [
    "## パラメータの設定"
   ]
  },
  {
   "cell_type": "markdown",
   "metadata": {},
   "source": [
    "削除候補となる運用環境のタグの一覧を表示します。"
   ]
  },
  {
   "cell_type": "code",
   "execution_count": null,
   "metadata": {},
   "outputs": [],
   "source": [
    "candidate = [\n",
    "    x['project_tag']\n",
    "    for x in gvars.get('previous_info_list', [])\n",
    "    if ('project_tag' in x and\n",
    "        x['project_tag'] not in gvars.get('delete_tags', []))\n",
    "]\n",
    "\n",
    "for tag in candidate:\n",
    "    print(tag)"
   ]
  },
  {
   "cell_type": "markdown",
   "metadata": {},
   "source": [
    "次のセルで削除対象となるタグの値をリストで指定してください。"
   ]
  },
  {
   "cell_type": "code",
   "execution_count": null,
   "metadata": {},
   "outputs": [],
   "source": [
    "# (例)\n",
    "# target_tags = [\n",
    "#     '0',\n",
    "#]\n",
    "\n",
    "target_tags = [\n",
    "\n",
    "]"
   ]
  },
  {
   "cell_type": "markdown",
   "metadata": {},
   "source": [
    "指定したタグ名が妥当かチェックします。次のセルを実行してエラーになる場合は指定したタグの値が正しくありません。値を指定し直してください。"
   ]
  },
  {
   "cell_type": "code",
   "execution_count": null,
   "metadata": {},
   "outputs": [],
   "source": [
    "if not all([x in candidate for x in target_tags]):\n",
    "    raise RuntimeError(\"ERROR\")"
   ]
  },
  {
   "cell_type": "markdown",
   "metadata": {
    "heading_collapsed": true
   },
   "source": [
    "## 古い環境の削除"
   ]
  },
  {
   "cell_type": "markdown",
   "metadata": {
    "hidden": true
   },
   "source": [
    "### 論理ボリュームの削除"
   ]
  },
  {
   "cell_type": "markdown",
   "metadata": {
    "hidden": true
   },
   "source": [
    "現在の論理ボリュームを一覧表示します。"
   ]
  },
  {
   "cell_type": "code",
   "execution_count": null,
   "metadata": {
    "hidden": true
   },
   "outputs": [],
   "source": [
    "!ansible {ugroup_name} -b -a 'lvs -S \"lv_attr=~V\" -O lv_name'"
   ]
  },
  {
   "cell_type": "markdown",
   "metadata": {
    "hidden": true
   },
   "source": [
    "削除対象となる論理ボリュームを表示します。"
   ]
  },
  {
   "cell_type": "code",
   "execution_count": null,
   "metadata": {
    "hidden": true
   },
   "outputs": [],
   "source": [
    "lvol_map = {'moodle': 'moodle', 'php': 'moodle', 'db': 'db'}\n",
    "remove_vols = dict([\n",
    "    (f'{tag}_{v}', vg)\n",
    "    for v, vg in lvol_map.items()\n",
    "    for tag in target_tags\n",
    "])\n",
    "\n",
    "for lv, vg in remove_vols.items():\n",
    "    print(f'lv={lv} vg={vg}')"
   ]
  },
  {
   "cell_type": "markdown",
   "metadata": {
    "hidden": true
   },
   "source": [
    "論理ボリュームを削除します。"
   ]
  },
  {
   "cell_type": "code",
   "execution_count": null,
   "metadata": {
    "hidden": true,
    "scrolled": true
   },
   "outputs": [],
   "source": [
    "for lv, vg in remove_vols.items():\n",
    "    print(f'lv={lv} vg={vg}')\n",
    "    name = f'{vg}-{lv}{\"-enc\" if gvars[vg + \"_volume_encrypt\"] else \"\"}'\n",
    "    !ansible {ugroup_name} -b -a 'umount /dev/mapper/{name}'\n",
    "    if gvars[vg + \"_volume_encrypt\"]:\n",
    "        !ansible {ugroup_name} -b -a 'cryptsetup close {name}'\n",
    "    !ansible {ugroup_name} -b -m lvol -a 'vg={vg} lv={lv} state=absent force=yes'"
   ]
  },
  {
   "cell_type": "markdown",
   "metadata": {
    "hidden": true
   },
   "source": [
    "削除後の論理ボリュームの一覧を表示します。"
   ]
  },
  {
   "cell_type": "code",
   "execution_count": null,
   "metadata": {
    "hidden": true
   },
   "outputs": [],
   "source": [
    "!ansible {ugroup_name} -b -a 'lvs -S \"lv_attr=~V\" -O lv_name'"
   ]
  },
  {
   "cell_type": "markdown",
   "metadata": {
    "hidden": true
   },
   "source": [
    "### 設定ファイルの削除"
   ]
  },
  {
   "cell_type": "markdown",
   "metadata": {
    "hidden": true
   },
   "source": [
    "古い運用環境の設定ファイルの状況を確認します。"
   ]
  },
  {
   "cell_type": "code",
   "execution_count": null,
   "metadata": {
    "hidden": true,
    "scrolled": true
   },
   "outputs": [],
   "source": [
    "target_dirs = ' '.join([\n",
    "    f'{x}-{tag}'\n",
    "    for x in ['moodle', 'db']\n",
    "    for tag in target_tags])\n",
    "print(target_dirs)\n",
    "!ansible {ugroup_name} -a 'chdir=/opt/moodle \\\n",
    "    tree {target_dirs}'"
   ]
  },
  {
   "cell_type": "markdown",
   "metadata": {
    "hidden": true
   },
   "source": [
    "古い運用環境の設定ファイルを削除します。"
   ]
  },
  {
   "cell_type": "code",
   "execution_count": null,
   "metadata": {
    "hidden": true,
    "scrolled": true
   },
   "outputs": [],
   "source": [
    "!ansible {ugroup_name} -b -a 'chdir=/opt/moodle \\\n",
    "    rm -rf {target_dirs}'"
   ]
  },
  {
   "cell_type": "markdown",
   "metadata": {
    "hidden": true
   },
   "source": [
    "削除されたことを確認します。\n",
    "\n",
    "> 削除されていれば`[error opening dir]`と表示されます。"
   ]
  },
  {
   "cell_type": "code",
   "execution_count": null,
   "metadata": {
    "hidden": true
   },
   "outputs": [],
   "source": [
    "!ansible {ugroup_name} -a 'chdir=/opt/moodle \\\n",
    "    tree {target_dirs}'"
   ]
  },
  {
   "cell_type": "markdown",
   "metadata": {
    "hidden": true
   },
   "source": [
    "### コンテナイメージの削除"
   ]
  },
  {
   "cell_type": "markdown",
   "metadata": {
    "hidden": true
   },
   "source": [
    "古い運用環境で利用していたコンテナイメージの一覧を表示します。"
   ]
  },
  {
   "cell_type": "code",
   "execution_count": null,
   "metadata": {
    "hidden": true
   },
   "outputs": [],
   "source": [
    "target_images = [\n",
    "    x[key]\n",
    "    for x in gvars['previous_info_list']\n",
    "    if ('project_tag' in x and\n",
    "        x['project_tag'] in target_tags)\n",
    "    for key in x.keys()\n",
    "    if key.endswith('_image_name')\n",
    "]\n",
    "for img in target_images:\n",
    "    !ansible {ugroup_name} -a 'docker images {img}'"
   ]
  },
  {
   "cell_type": "markdown",
   "metadata": {
    "hidden": true
   },
   "source": [
    "古い運用環境のコンテナイメージを削除します。"
   ]
  },
  {
   "cell_type": "code",
   "execution_count": null,
   "metadata": {
    "hidden": true
   },
   "outputs": [],
   "source": [
    "!ansible {ugroup_name} -a 'docker rmi {\" \".join(target_images)}'"
   ]
  },
  {
   "cell_type": "markdown",
   "metadata": {
    "hidden": true
   },
   "source": [
    "コンテナイメージが削除されたことを確認します。\n",
    "\n",
    "> 削除が成功していれば、ヘッダーのみが表示されます。"
   ]
  },
  {
   "cell_type": "code",
   "execution_count": null,
   "metadata": {
    "hidden": true
   },
   "outputs": [],
   "source": [
    "for img in target_images:\n",
    "    !ansible {ugroup_name} -a 'docker images {img}'"
   ]
  },
  {
   "cell_type": "markdown",
   "metadata": {
    "hidden": true
   },
   "source": [
    "### group_varsの更新\n",
    "\n",
    "古い運用環境を削除したことを `group_vars`ファイルに記録します。"
   ]
  },
  {
   "cell_type": "code",
   "execution_count": null,
   "metadata": {
    "hidden": true
   },
   "outputs": [],
   "source": [
    "x = gvars.get('delete_tags', [])\n",
    "x.extend(target_tags)\n",
    "update_group_vars(ugroup_name, delete_tags=x)"
   ]
  }
 ],
 "metadata": {
  "kernelspec": {
   "display_name": "Python 3",
   "language": "python",
   "name": "python3"
  },
  "language_info": {
   "file_extension": ".py",
   "mimetype": "text/x-python",
   "name": "python",
   "nbconvert_exporter": "python",
   "pygments_lexer": "ipython3",
   "version": "3.7.3"
  },
  "toc": {
   "base_numbering": 1,
   "nav_menu": {},
   "number_sections": true,
   "sideBar": true,
   "skip_h1_title": true,
   "title_cell": "Table of Contents",
   "title_sidebar": "Contents",
   "toc_cell": false,
   "toc_position": {},
   "toc_section_display": true,
   "toc_window_display": true
  }
 },
 "nbformat": 4,
 "nbformat_minor": 2
}