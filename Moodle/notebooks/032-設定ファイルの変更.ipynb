{
 "cells": [
  {
   "cell_type": "markdown",
   "metadata": {},
   "source": [
    "# About: 設定ファイルの変更--httpd.conf\n",
    "\n",
    "---\n",
    "\n",
    "リバースプロキシコンテナの `httpd.conf` の設定内容を変更します。"
   ]
  },
  {
   "cell_type": "markdown",
   "metadata": {},
   "source": [
    "## 概要\n",
    "\n",
    "設定ファイルを変更する例としてリバースプロキシコンテナの`httpd.conf`を編集して、起動時のサーバプロセス数を変更してみます。\n",
    "\n",
    "![処理の流れ](images/moodle-032-01.png)"
   ]
  },
  {
   "cell_type": "markdown",
   "metadata": {},
   "source": [
    "操作手順は以下のようになります。\n",
    "\n",
    "1. VCノードに配置されている設定ファイルをNotebook環境に取得する\n",
    "2. 取得したファイルのバックアップを作成する\n",
    "3. Notebookの編集機能を利用して設定ファイルの変更をおこなう\n",
    "4. 変更した設定ファイルをVCノードに配置する\n",
    "5. 設定ファイルの変更を反映させるためにコンテナを再起動する"
   ]
  },
  {
   "cell_type": "markdown",
   "metadata": {},
   "source": [
    "アプリケーションテンプレートによって構築したMoodle環境では、利用者が変更する可能性のある `httpd.conf` などの設定ファイルをVCノードに配置しています。VCノードに配置したファイルはコンテナ内から参照するために[bind mount](https://docs.docker.com/storage/bind-mounts/)の設定を行っています。このため、設定ファイルを編集する場合はコンテナ内のパス名とVCノードのパス名のどちらを指定するか、またbindする際のマウントポイントがどこになっているかなどについて留意する必要があります。\n",
    "\n",
    "リバースプロキシコンテナにおける設定ファイルの対応関係を以下の表に示します。"
   ]
  },
  {
   "cell_type": "markdown",
   "metadata": {},
   "source": [
    "<table>\n",
    "  <tr>\n",
    "    <th style=\"text-align:left;\">コンテナ内のパス</th>\n",
    "    <th style=\"text-align:left;\">VCノードのパス</th>\n",
    "    <th style=\"text-align:left;\">コンテナ側のマウントポイント</th>\n",
    "    <th style=\"text-align:left;\">VCノード側のマウントポイント</th>\n",
    "  </tr>\n",
    "  <tr>\n",
    "    <td style=\"text-align:left;\">/usr/local/apache2/conf/httpd.conf</td>\n",
    "    <td style=\"text-align:left;\">/opt/moodle/proxy/conf/httpd.conf</td>\n",
    "    <td style=\"text-align:left;\">/usr/local/apache2/conf/</td>\n",
    "    <td style=\"text-align:left;\">/opt/moodle/proxy/conf/</td>\n",
    "  </tr>\n",
    "  <tr>\n",
    "    <td style=\"text-align:left;\">/usr/local/apache2/conf/moodle-proxy.conf</td>\n",
    "    <td style=\"text-align:left;\">/opt/moodle/proxy/conf/moodle-proxy.conf</td>\n",
    "    <td style=\"text-align:left;\">/usr/local/apache2/conf/</td>\n",
    "    <td style=\"text-align:left;\">/opt/moodle/proxy/conf/</td>\n",
    "  </tr>\n",
    "  <tr>\n",
    "    <td style=\"text-align:left;\">/usr/local/apache2/conf/extra/</td>\n",
    "    <td style=\"text-align:left;\">/opt/moodle/proxy/conf/extra/</td>\n",
    "    <td style=\"text-align:left;\">/usr/local/apache2/conf/</td>\n",
    "    <td style=\"text-align:left;\">/opt/moodle/proxy/conf/</td>\n",
    "  </tr>\n",
    "  <tr>\n",
    "    <td style=\"text-align:left;\">/usr/local/apache2/conf/cert/server.crt</td>\n",
    "    <td style=\"text-align:left;\">/opt/moodle/cert/server.crt</td>\n",
    "    <td style=\"text-align:left;\">/usr/local/apache2/conf/cert/</td>\n",
    "    <td style=\"text-align:left;\">/opt/moodle/cert/</td>\n",
    "  </tr>\n",
    "  <tr>\n",
    "    <td style=\"text-align:left;\">/usr/local/apache2/conf/cert/server.key</td>\n",
    "    <td style=\"text-align:left;\">/opt/moodle/cert/server.key</td>\n",
    "    <td style=\"text-align:left;\">/usr/local/apache2/conf/cert/</td>\n",
    "    <td style=\"text-align:left;\">/opt/moodle/cert/</td>\n",
    "  </tr>\n",
    "</table>"
   ]
  },
  {
   "cell_type": "markdown",
   "metadata": {},
   "source": [
    "## パラメータの設定\n",
    "\n",
    "変更対象のコンテナ名、設定ファイル名などを指定します。"
   ]
  },
  {
   "cell_type": "markdown",
   "metadata": {},
   "source": [
    "### グループ名の指定\n",
    "\n",
    "このNotebookの操作対象となるAnsibleのグループ名を設定します。"
   ]
  },
  {
   "cell_type": "code",
   "execution_count": null,
   "metadata": {},
   "outputs": [],
   "source": [
    "# (例)\n",
    "# ugroup_name = 'Moodle'\n",
    "\n",
    "ugroup_name ="
   ]
  },
  {
   "cell_type": "markdown",
   "metadata": {
    "heading_collapsed": true
   },
   "source": [
    "#### チェック\n",
    "\n",
    "指定された `ugroup_name` の値が適切なものかチェックします。"
   ]
  },
  {
   "cell_type": "markdown",
   "metadata": {
    "hidden": true
   },
   "source": [
    "`ugroup_name` に対応する `group_vars` ファイルが存在していることを確認します。"
   ]
  },
  {
   "cell_type": "code",
   "execution_count": null,
   "metadata": {
    "hidden": true
   },
   "outputs": [],
   "source": [
    "from pathlib import Path\n",
    "if not (Path('group_vars') / (ugroup_name + '.yml')).exists():\n",
    "    raise RuntimeError(f\"ERROR: not exists {ugroup_name + '.yml'}\")"
   ]
  },
  {
   "cell_type": "markdown",
   "metadata": {
    "hidden": true
   },
   "source": [
    "`ugroup_name`に対応する VCノードが実行中であり Ansible で操作できることを確認します。"
   ]
  },
  {
   "cell_type": "code",
   "execution_count": null,
   "metadata": {
    "hidden": true
   },
   "outputs": [],
   "source": [
    "!ansible {ugroup_name} -m ping"
   ]
  },
  {
   "cell_type": "markdown",
   "metadata": {},
   "source": [
    "### コンテナの指定\n",
    "\n",
    "設定ファイルを変更する対象となるコンテナを指定します。"
   ]
  },
  {
   "cell_type": "markdown",
   "metadata": {},
   "source": [
    "現在実行中のコンテナの一覧を確認します。"
   ]
  },
  {
   "cell_type": "code",
   "execution_count": null,
   "metadata": {},
   "outputs": [],
   "source": [
    "!ansible {ugroup_name} -a 'chdir=/opt/moodle docker-compose ps --services'"
   ]
  },
  {
   "cell_type": "markdown",
   "metadata": {},
   "source": [
    "表示されたコンテナ一覧から、対象とするコンテナ名を指定してください。"
   ]
  },
  {
   "cell_type": "code",
   "execution_count": null,
   "metadata": {},
   "outputs": [],
   "source": [
    "target_container = 'proxy'"
   ]
  },
  {
   "cell_type": "markdown",
   "metadata": {},
   "source": [
    "### 設定ファイルの指定"
   ]
  },
  {
   "cell_type": "markdown",
   "metadata": {},
   "source": [
    "変更する設定ファイルのパスを指定してください。ここではコンテナ内のパスを指定してください。"
   ]
  },
  {
   "cell_type": "code",
   "execution_count": null,
   "metadata": {},
   "outputs": [],
   "source": [
    "target_file = '/usr/local/apache2/conf/httpd.conf'"
   ]
  },
  {
   "cell_type": "markdown",
   "metadata": {},
   "source": [
    "VCノードとコンテナとで bind mountする際に基準となるコンテナ側のマウントポイントを指定してください。"
   ]
  },
  {
   "cell_type": "code",
   "execution_count": null,
   "metadata": {},
   "outputs": [],
   "source": [
    "relative_to = '/usr/local/apache2/conf'"
   ]
  },
  {
   "cell_type": "markdown",
   "metadata": {},
   "source": [
    "## 設定ファイルの編集\n",
    "\n",
    "リバースプロキシコンテナの設定ファイル`httpd.conf`をローカル環境に取得しJupyter Notebookの編集機能を用いて設定ファイルを編集します。\n",
    "\n",
    "![設定ファイルの取得、編集](images/moodle-032-03.png)"
   ]
  },
  {
   "cell_type": "markdown",
   "metadata": {},
   "source": [
    "次のセルを実行すると、以下の手順が実行されます。\n",
    "\n",
    "1. VCノードに配置されているApache HTTP Serverコンテナの設定ファイル(`httpd.conf`)をローカル環境に取得する\n",
    "2. 取得した設定ファイルのバックアップを作成する\n",
    "3. Jupyter Notebookの編集機能を利用して設定ファイルを編集するためのリンクを表示する"
   ]
  },
  {
   "cell_type": "code",
   "execution_count": null,
   "metadata": {},
   "outputs": [],
   "source": [
    "%run scripts/edit_conf.py\n",
    "fetch_conf(ugroup_name, target_container, target_file, relative_to)"
   ]
  },
  {
   "cell_type": "markdown",
   "metadata": {},
   "source": [
    "上のセルの出力に表示されているリンクをクリックして設定ファイルの編集を行ってください。\n",
    "\n",
    "この例では、ファイルの末尾に以下の内容を追加してください。\n",
    "\n",
    "```\n",
    "<IfModule mpm_event_module>\n",
    "  ServerLimit              16\n",
    "  StartServers             16\n",
    "  MinSpareThreads         400\n",
    "  MaxSpareThreads         400\n",
    "  ThreadsPerChild          25\n",
    "</IfModule>\n",
    "```\n",
    "\n",
    "この設定を追加することによりApache HTTP Serverの起動時のプロセス数がデフォルトの 3 から 16 に増えます。\n",
    "\n",
    "> ファイルの編集後は**必ず**、メニューの[File]-[Save]を選択してファイルの保存を行ってください。"
   ]
  },
  {
   "cell_type": "markdown",
   "metadata": {},
   "source": [
    "ローカル環境に取得したファイルは、以下のパスに格納されています。\n",
    "\n",
    "`./edit/{ugroup_name}/{YYYYMMDDHHmmssffffff}/httpd.conf`\n",
    "\n",
    "`{ugroup_name}` には UnitGroup名が、`{YYYYMMDDHHmmssfffff}` にはファイルを取得したタイムスタンプが入ります。\n",
    "\n",
    "また、バックアップファイルは以下のパスに格納されます。\n",
    "\n",
    "`./edit/{ugroup_name}/{YYYYMMDDHHmmssffffff}/httpd.conf.orig`"
   ]
  },
  {
   "cell_type": "markdown",
   "metadata": {},
   "source": [
    "次のセルを実行すると編集の前後での差分を確認することができます。"
   ]
  },
  {
   "cell_type": "code",
   "execution_count": null,
   "metadata": {},
   "outputs": [],
   "source": [
    "show_local_conf_diff(ugroup_name, target_container, target_file)"
   ]
  },
  {
   "cell_type": "markdown",
   "metadata": {},
   "source": [
    "## 編集した設定ファイルの反映\n",
    "\n",
    "編集したファイルをVCノードに配置して、設定ファイルの変更内容をコンテナに反映させます。\n",
    "\n",
    "![設定ファイルの反映](images/moodle-032-04.png)"
   ]
  },
  {
   "cell_type": "markdown",
   "metadata": {},
   "source": [
    "### 変更前の状態を確認する\n",
    "\n",
    "設定ファイル変更の反映前の状態を確認します。\n",
    "\n",
    "Apache HTTP Serverのプロセス数に関する設定を変更したので、Apache HTTP Serverコンテナのプロセス一覧を確認します。"
   ]
  },
  {
   "cell_type": "markdown",
   "metadata": {},
   "source": [
    "Apache HTTP Serverコンテナには `ps` コマンドがインストールされていないので、`procps`パッケージを追加します。"
   ]
  },
  {
   "cell_type": "code",
   "execution_count": null,
   "metadata": {
    "scrolled": true
   },
   "outputs": [],
   "source": [
    "!ansible {ugroup_name} -a 'chdir=/opt/moodle docker-compose exec -T {target_container} \\\n",
    "    bash -c \"apt-get update && apt-get install -y procps\"'"
   ]
  },
  {
   "cell_type": "markdown",
   "metadata": {},
   "source": [
    "プロセス一覧を表示します。"
   ]
  },
  {
   "cell_type": "code",
   "execution_count": null,
   "metadata": {},
   "outputs": [],
   "source": [
    "!ansible {ugroup_name} -a 'chdir=/opt/moodle docker-compose exec -T {target_container} ps ax '"
   ]
  },
  {
   "cell_type": "markdown",
   "metadata": {},
   "source": [
    "### 編集内容の反映\n",
    "\n",
    "前章で編集した設定ファイル `httpd.conf` を Apache HTTP Serverコンテナに反映します。"
   ]
  },
  {
   "cell_type": "markdown",
   "metadata": {},
   "source": [
    "次のセルを実行すると、以下の手順が実行されます。\n",
    "\n",
    "1. 編集前と編集後の設定ファイルの差分を表示する\n",
    "2. 編集した設定ファイル(`httpd.conf`)をVCノードに配置する\n",
    "3. コンテナを再起動して変更した設定ファイルの反映を行う"
   ]
  },
  {
   "cell_type": "code",
   "execution_count": null,
   "metadata": {},
   "outputs": [],
   "source": [
    "apply_conf(ugroup_name, target_container, target_file, relative_to)"
   ]
  },
  {
   "cell_type": "markdown",
   "metadata": {},
   "source": [
    "### 変更後の状態を確認する\n",
    "\n",
    "設定ファイル変更の反映後の状態を確認します。\n",
    "\n",
    "Apache HTTP Serverコンテナのプロセス一覧を確認します。"
   ]
  },
  {
   "cell_type": "code",
   "execution_count": null,
   "metadata": {},
   "outputs": [],
   "source": [
    "!ansible {ugroup_name} -a 'chdir=/opt/moodle docker-compose exec -T {target_container} ps ax '"
   ]
  },
  {
   "cell_type": "markdown",
   "metadata": {},
   "source": [
    "## 変更を取り消す\n",
    "\n",
    "編集前の設定ファイルの状態に戻します。\n",
    "\n",
    "![設定ファイル変更の取り消し](images/moodle-032-05.png)"
   ]
  },
  {
   "cell_type": "markdown",
   "metadata": {},
   "source": [
    "次のセルを実行すると、以下の手順が実行されます。\n",
    "\n",
    "1. 編集後と編集前の設定ファイルの差分を表示する\n",
    "2. 編集前の設定ファイルをVCノードに配置する\n",
    "3. コンテナを再起動して設定値の反映を行う"
   ]
  },
  {
   "cell_type": "code",
   "execution_count": null,
   "metadata": {},
   "outputs": [],
   "source": [
    "revert_conf(ugroup_name, target_container, target_file, relative_to)"
   ]
  },
  {
   "cell_type": "markdown",
   "metadata": {},
   "source": [
    "設定ファイルを戻した後の状態を確認します。Apache HTTP Serverコンテナのプロセス一覧を確認します。"
   ]
  },
  {
   "cell_type": "code",
   "execution_count": null,
   "metadata": {},
   "outputs": [],
   "source": [
    "!ansible {ugroup_name} -a 'chdir=/opt/moodle docker-compose exec -T {target_container} ps ax '"
   ]
  }
 ],
 "metadata": {
  "kernelspec": {
   "display_name": "Python 3",
   "language": "python",
   "name": "python3"
  },
  "language_info": {
   "file_extension": ".py",
   "mimetype": "text/x-python",
   "name": "python",
   "nbconvert_exporter": "python",
   "pygments_lexer": "ipython3",
   "version": "3.7.3"
  },
  "toc": {
   "base_numbering": 1,
   "nav_menu": {},
   "number_sections": true,
   "sideBar": true,
   "skip_h1_title": true,
   "title_cell": "Table of Contents",
   "title_sidebar": "Contents",
   "toc_cell": false,
   "toc_position": {},
   "toc_section_display": true,
   "toc_window_display": true
  }
 },
 "nbformat": 4,
 "nbformat_minor": 2
}
