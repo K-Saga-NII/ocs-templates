{
 "cells": [
  {
   "cell_type": "markdown", 
   "metadata": {}, 
   "source": [
    "# OpenHPC環境の削除\n", 
    "\n", 
    "---\n", 
    "\n", 
    "構築したOpenHPC環境を削除します。"
   ]
  }, 
  {
   "cell_type": "markdown", 
   "metadata": {}, 
   "source": [
    "## パラメータの指定\n", 
    "\n", 
    "削除を行うのに必要となるパラメータを入力します。"
   ]
  }, 
  {
   "cell_type": "markdown", 
   "metadata": {}, 
   "source": [
    "### VCCアクセストークンの入力"
   ]
  }, 
  {
   "cell_type": "markdown", 
   "metadata": {}, 
   "source": [
    "VCノード, VCディスクを削除するためにVC Controller(VCC)のアクセストークンが必要となります。\n", 
    "次のセルを実行すると表示される入力枠にVCCのアクセストークンを入力してください。\n", 
    "\n", 
    "> アクセストークン入力後に Enter キーを押すことで入力が完了します。"
   ]
  }, 
  {
   "cell_type": "code", 
   "execution_count": null, 
   "metadata": {
    "tags": [
      "vcp:skip",
      "vcp:parameters"
    ]
   }, 
   "outputs": [], 
   "source": [
    "from getpass import getpass\n", 
    "vcc_access_token = getpass()"
   ]
  }, 
  {
   "cell_type": "markdown", 
   "metadata": {}, 
   "source": [
    "入力されたアクセストークンが正しいことを、実際にVCCにアクセスして確認します。"
   ]
  }, 
  {
   "cell_type": "code", 
   "execution_count": null, 
   "metadata": {
    "tags": [
      "vcp:rewrite:vcpsdk"
    ]
   }, 
   "outputs": [], 
   "source": [
    "from common import logsetting\n", 
    "from vcpsdk.vcpsdk import VcpSDK\n", 
    "\n", 
    "vcp = VcpSDK(vcc_access_token)"
   ]
  }, 
  {
   "cell_type": "markdown", 
   "metadata": {}, 
   "source": [
    "上のセルの実行結果がエラーとなり以下のようなメッセージが表示されている場合は、入力されたアクセストークンに誤りがあります。\n", 
    "\n", 
    "```\n", 
    "2018-09-XX XX:XX:XX,XXX - ERROR - config vc failed: http_status(403)\n", 
    "2018-09-XX XX:XX:XX,XXX - ERROR - 2018/XX/XX XX:XX:XX UTC: VCPAuthException: xxxxxxx:token lookup is failed: permission denied\n", 
    "```\n", 
    "\n", 
    "エラーになった場合はこの節のセルを全て `unfreeze` してから、もう一度アクセストークンの入力を行ってください。"
   ]
  }, 
  {
   "cell_type": "markdown", 
   "metadata": {}, 
   "source": [
    "### グループ名"
   ]
  }, 
  {
   "cell_type": "markdown", 
   "metadata": {}, 
   "source": [
    "OpenHPCのUnitGroup名を指定してください。\n", 
    "\n", 
    "> VCノードを起動した際に指定したものと同じ名前を指定してください。"
   ]
  }, 
  {
   "cell_type": "code", 
   "execution_count": null, 
   "metadata": {
    "tags": [
      "vcp:parameters"
    ]
   }, 
   "outputs": [], 
   "source": [
    "ugroup_name = 'OpenHPC'"
   ]
  }, 
  {
   "cell_type": "markdown", 
   "metadata": {}, 
   "source": [
    "## 構築環境の削除\n", 
    "\n", 
    "構築したOpenHPC環境を削除します。"
   ]
  }, 
  {
   "cell_type": "markdown", 
   "metadata": {}, 
   "source": [
    "### VCノードの削除\n", 
    "\n", 
    "起動したVCノードを削除します。"
   ]
  }, 
  {
   "cell_type": "markdown", 
   "metadata": {}, 
   "source": [
    "現在のUnitGroupの一覧を確認します。"
   ]
  }, 
  {
   "cell_type": "code", 
   "execution_count": null, 
   "metadata": {}, 
   "outputs": [], 
   "source": [
    "vcp.df_ugroups()"
   ]
  }, 
  {
   "cell_type": "markdown", 
   "metadata": {}, 
   "source": [
    "現在のVCノードの状態を確認します。"
   ]
  }, 
  {
   "cell_type": "code", 
   "execution_count": null, 
   "metadata": {}, 
   "outputs": [], 
   "source": [
    "ug = vcp.get_ugroup(ugroup_name)\n", 
    "ug.df_nodes()"
   ]
  }, 
  {
   "cell_type": "markdown", 
   "metadata": {}, 
   "source": [
    "まず計算ノード用VCノードを削除します。"
   ]
  }, 
  {
   "cell_type": "code", 
   "execution_count": null, 
   "metadata": {}, 
   "outputs": [], 
   "source": [
    "ug.delete_units('compute', force=True)"
   ]
  }, 
  {
   "cell_type": "markdown", 
   "metadata": {}, 
   "source": [
    "マスターノードと UnitGroup の削除を行います。"
   ]
  }, 
  {
   "cell_type": "code", 
   "execution_count": null, 
   "metadata": {}, 
   "outputs": [], 
   "source": [
    "ug.cleanup()"
   ]
  }, 
  {
   "cell_type": "markdown", 
   "metadata": {}, 
   "source": [
    "削除後の UnitGroupの一覧を確認します。"
   ]
  }, 
  {
   "cell_type": "code", 
   "execution_count": null, 
   "metadata": {}, 
   "outputs": [], 
   "source": [
    "vcp.df_ugroups()"
   ]
  }, 
  {
   "cell_type": "markdown", 
   "metadata": {}, 
   "source": [
    "### VCディスクの削除"
   ]
  }, 
  {
   "cell_type": "markdown", 
   "metadata": {}, 
   "source": [
    "NFS用のVCディスクを削除します。\n", 
    "\n", 
    "> VCディスクを作成していない場合は、何もしません。"
   ]
  }, 
  {
   "cell_type": "markdown", 
   "metadata": {}, 
   "source": [
    "現在の状態を確認します。"
   ]
  }, 
  {
   "cell_type": "code", 
   "execution_count": null, 
   "metadata": {}, 
   "outputs": [], 
   "source": [
    "from IPython.display import display\n", 
    "ug_disk = vcp.get_ugroup(ugroup_name + '_disk')\n", 
    "if ug_disk:\n", 
    "    display(ug_disk.df_nodes())"
   ]
  }, 
  {
   "cell_type": "markdown", 
   "metadata": {}, 
   "source": [
    "VCディスクを削除します。"
   ]
  }, 
  {
   "cell_type": "code", 
   "execution_count": null, 
   "metadata": {}, 
   "outputs": [], 
   "source": [
    "if ug_disk:\n", 
    "    ug_disk.cleanup()"
   ]
  }, 
  {
   "cell_type": "markdown", 
   "metadata": {}, 
   "source": [
    "削除後のUnitGroupの一覧を確認します。"
   ]
  }, 
  {
   "cell_type": "code", 
   "execution_count": null, 
   "metadata": {}, 
   "outputs": [], 
   "source": [
    "vcp.df_ugroups()"
   ]
  }, 
  {
   "cell_type": "markdown", 
   "metadata": {}, 
   "source": [
    "## Ansible設定のクリア\n", 
    "\n", 
    "削除した環境に対応するAnsibleの設定をクリアします。"
   ]
  }, 
  {
   "cell_type": "markdown", 
   "metadata": {}, 
   "source": [
    "### group_varsファイル\n", 
    "\n", 
    "group_varsファイルをリネームします。"
   ]
  }, 
  {
   "cell_type": "code", 
   "execution_count": null, 
   "metadata": {}, 
   "outputs": [], 
   "source": [
    "!mv group_vars/{ugroup_name}.yml group_vars/{ugroup_name}.yml.bak"
   ]
  }, 
  {
   "cell_type": "markdown", 
   "metadata": {}, 
   "source": [
    "### インベントリ\n", 
    "\n", 
    "インベントリから UnitGroup に対応するグループを削除します。"
   ]
  }, 
  {
   "cell_type": "code", 
   "execution_count": null, 
   "metadata": {}, 
   "outputs": [], 
   "source": [
    "import yaml\n", 
    "from pathlib import Path\n", 
    "\n", 
    "inventory_path = Path('inventory.yml')\n", 
    "\n", 
    "!cp {str(inventory_path)} {str(inventory_path)}.bak\n", 
    "\n", 
    "with inventory_path.open() as f:\n", 
    "    inventory = yaml.safe_load(f)\n", 
    "    \n", 
    "if ugroup_name in inventory['all']['children']:\n", 
    "    del(inventory['all']['children'][ugroup_name])\n", 
    "\n", 
    "with inventory_path.open(mode='w') as f:\n", 
    "    f.write(yaml.safe_dump(inventory))\n", 
    "    \n", 
    "!cat {str(inventory_path)}"
   ]
  }
 ], 
 "metadata": {
  "kernelspec": {
   "display_name": "Python 3", 
   "language": "python", 
   "name": "python3"
  }, 
  "language_info": {
   "file_extension": ".py", 
   "mimetype": "text/x-python", 
   "name": "python", 
   "nbconvert_exporter": "python", 
   "pygments_lexer": "ipython3", 
   "version": "3.7.3"
  }, 
  "toc": {
   "base_numbering": 1, 
   "nav_menu": {}, 
   "number_sections": true, 
   "sideBar": true, 
   "skip_h1_title": true, 
   "title_cell": "Table of Contents", 
   "title_sidebar": "Contents", 
   "toc_cell": false, 
   "toc_position": {
    "height": "calc(100% - 180px)", 
    "left": "10px", 
    "top": "150px", 
    "width": "348.352px"
   }, 
   "toc_section_display": true, 
   "toc_window_display": true
  }
 }, 
 "nbformat": 4, 
 "nbformat_minor": 2
}
