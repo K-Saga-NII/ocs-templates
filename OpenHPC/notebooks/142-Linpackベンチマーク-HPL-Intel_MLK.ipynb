{
 "cells": [
  {
   "cell_type": "markdown",
   "metadata": {},
   "source": [
    "# Linpackベンチマーク -- HPL -- Intel MLK Benchmark\n",
    "\n",
    "---\n",
    "OpenHPC環境で、[Intel MLK Benchmark Suite](https://software.intel.com/en-us/articles/intel-mkl-benchmarks-suite)に含まれているコンパイル済の[HPL](http://www.netlib.org/benchmark/hpl/)を実行します。"
   ]
  },
  {
   "cell_type": "markdown",
   "metadata": {},
   "source": [
    "## 前提条件\n",
    "\n",
    "このNotebookを実行するための前提条件を満たしていることを確認します。"
   ]
  },
  {
   "cell_type": "markdown",
   "metadata": {},
   "source": [
    "以下のことを前提条件とします。\n",
    "\n",
    "* 構築済のOpenHPC環境がある\n",
    "* OpenHPC環境のマスターノードに対してSSHでログインできる\n",
    "\n",
    "> この Notebookでは、管理ユーザ以外が実行した状況に合わせるために Ansible ではなく ssh で操作を行います。"
   ]
  },
  {
   "cell_type": "markdown",
   "metadata": {},
   "source": [
    "マスターノードに対して SSH でログインできることを確認します。マスターノードのアドレスを指定してください。"
   ]
  },
  {
   "cell_type": "code",
   "execution_count": null,
   "metadata": {
    "tags": [
     "vcp:skip",
     "vcp:parameters"
    ]
   },
   "outputs": [],
   "source": [
    "# (例)\n",
    "# master_address = '172.30.XXX.xxx'\n",
    "\n",
    "master_address ="
   ]
  },
  {
   "cell_type": "markdown",
   "metadata": {},
   "source": [
    "SSHでログインするユーザ名を指定してください。"
   ]
  },
  {
   "cell_type": "code",
   "execution_count": null,
   "metadata": {
    "tags": [
     "vcp:parameters"
    ]
   },
   "outputs": [],
   "source": [
    "# (例)\n",
    "# user = 'vcp'\n",
    "\n",
    "user = 'vcp'"
   ]
  },
  {
   "cell_type": "markdown",
   "metadata": {},
   "source": [
    "必要であればSSHの秘密鍵を指定してください。"
   ]
  },
  {
   "cell_type": "code",
   "execution_count": null,
   "metadata": {
    "tags": [
     "vcp:rewrite:ssh_identity"
    ]
   },
   "outputs": [],
   "source": [
    "# (例)\n",
    "# ssh_identity = '~/.ssh/id_rsa'"
   ]
  },
  {
   "cell_type": "markdown",
   "metadata": {},
   "source": [
    "SSHでログインする際の引数を、変数に格納しておきます。"
   ]
  },
  {
   "cell_type": "code",
   "execution_count": null,
   "metadata": {
    "tags": [
     "vcp:parameters"
    ]
   },
   "outputs": [],
   "source": [
    "# ユーザ名とホスト名\n",
    "target = f'{user}@{master_address}'\n",
    "print(target)\n",
    "\n",
    "# SSHのコマンドライン引数\n",
    "ssh_opts = f'-i {ssh_identity}' if 'ssh_identity' in vars() else ''\n",
    "print(ssh_opts)"
   ]
  },
  {
   "cell_type": "markdown",
   "metadata": {},
   "source": [
    "マスターノードに対してSSHでログインしてコマンドを実行してみます。"
   ]
  },
  {
   "cell_type": "code",
   "execution_count": null,
   "metadata": {},
   "outputs": [],
   "source": [
    "!ssh {ssh_opts} {target} hostname"
   ]
  },
  {
   "cell_type": "markdown",
   "metadata": {},
   "source": [
    "## 準備\n",
    "\n",
    "HPLを実行するための準備作業を行います。"
   ]
  },
  {
   "cell_type": "markdown",
   "metadata": {},
   "source": [
    "[Intel MLK Benchmark Suite](https://software.intel.com/en-us/articles/intel-mkl-benchmarks-suite)を取得して、ホームディレクトリに展開します。\n",
    "\n",
    "**注意**\n",
    "\n",
    "Intel MLK Benchmark Suiteをダウンロードすると[End User License Agreements](https://software.intel.com/en-us/articles/end-user-license-agreement)に同意したことになります。"
   ]
  },
  {
   "cell_type": "code",
   "execution_count": null,
   "metadata": {
    "scrolled": true
   },
   "outputs": [],
   "source": [
    "mlk_version = '2019.6.005'\n",
    "mlk_url = f'https://software.intel.com/sites/default/files/managed/cc/19/l_mklb_p_{mlk_version}.tgz'\n",
    "\n",
    "!ssh {ssh_opts} {target} curl -LO {mlk_url}\n",
    "!ssh {ssh_opts} {target} tar xzf l_mklb_p_{mlk_version}.tgz"
   ]
  },
  {
   "cell_type": "markdown",
   "metadata": {},
   "source": [
    "xhpl の実行用ディレクトリを作成します。"
   ]
  },
  {
   "cell_type": "code",
   "execution_count": null,
   "metadata": {},
   "outputs": [],
   "source": [
    "hpl_dir = 'intel-hpl'\n",
    "!ssh {ssh_opts} {target} mkdir -p {hpl_dir}"
   ]
  },
  {
   "cell_type": "markdown",
   "metadata": {},
   "source": [
    "xhplコマンドのシンボリックリンクを作成します。"
   ]
  },
  {
   "cell_type": "code",
   "execution_count": null,
   "metadata": {},
   "outputs": [],
   "source": [
    "!ssh {ssh_opts} {target} ln -sf \\${{HOME}}/l_mklb_p_{mlk_version}/benchmarks_2019/linux/mkl/benchmarks/mp_linpack/xhpl_intel64_static {hpl_dir}/xhpl"
   ]
  },
  {
   "cell_type": "markdown",
   "metadata": {},
   "source": [
    "## HPLの実行\n",
    "\n",
    "HPLを実行します。"
   ]
  },
  {
   "cell_type": "markdown",
   "metadata": {},
   "source": [
    "### パラメータの設定"
   ]
  },
  {
   "cell_type": "markdown",
   "metadata": {},
   "source": [
    "計算ノードの数を指定してください。"
   ]
  },
  {
   "cell_type": "code",
   "execution_count": null,
   "metadata": {
    "tags": [
     "vcp:skip",
     "vcp:parameters"
    ]
   },
   "outputs": [],
   "source": [
    "# (例)\n",
    "# num_nodes = 2\n",
    "\n",
    "num_nodes ="
   ]
  },
  {
   "cell_type": "markdown",
   "metadata": {},
   "source": [
    "MPIのタスク数を指定してください。"
   ]
  },
  {
   "cell_type": "code",
   "execution_count": null,
   "metadata": {
    "tags": [
     "vcp:skip",
     "vcp:parameters"
    ]
   },
   "outputs": [],
   "source": [
    "# (例)\n",
    "# num_tasks = 4\n",
    "\n",
    "num_tasks ="
   ]
  },
  {
   "cell_type": "markdown",
   "metadata": {},
   "source": [
    "### HPL.dat の作成\n",
    "\n",
    "HPL.dat を作成します。"
   ]
  },
  {
   "cell_type": "markdown",
   "metadata": {},
   "source": [
    "`linux/mkl/benchmarks/mp_linpack/readme.txt` によると`NB`の推奨値は以下のようになっています。\n",
    "\n",
    "```\n",
    "Recommended blocking sizes (NB in HPL.dat) are listed below for various Intel(R)\n",
    "architectures:\n",
    "\n",
    "Intel(R) Xeon(R) Processor X56*/E56*/E7-*/E7*/X7*                             : 256\n",
    "Intel(R) Xeon(R) Processor E26*/E26* v2                                       : 256\n",
    "Intel(R) Xeon(R) Processor E26* v3/E26* v4                                    : 192\n",
    "Intel(R) Core(TM) i3/5/7-6* Processor                                         : 192\n",
    "Intel(R) Xeon Phi(TM) Processor 72*                                           : 336\n",
    "Intel(R) Xeon(R) Scalabile Processors                                         : 384\n",
    "```\n",
    "\n",
    "次のセルの `N` や `NB` の値を必要に応じて書き換えて実行してください。"
   ]
  },
  {
   "cell_type": "code",
   "execution_count": null,
   "metadata": {
    "scrolled": true
   },
   "outputs": [],
   "source": [
    "from tempfile import TemporaryDirectory\n",
    "from pathlib import Path\n",
    "%run scripts/hpl_utils.py\n",
    "\n",
    "\n",
    "p, q = hpl_pq(num_tasks)\n",
    "with TemporaryDirectory() as workdir:\n",
    "    hpl_dat = Path(workdir) / 'HPL.dat'\n",
    "    with hpl_dat.open(mode='w') as f:\n",
    "        f.write(f'''HPLinpack benchmark input file\n",
    "Innovative Computing Laboratory, University of Tennessee\n",
    "HPL.out      output file name (if any)\n",
    "6            device out (6=stdout,7=stderr,file)\n",
    "1            # of problems sizes (N)\n",
    "10000        Ns\n",
    "1            # of NBs\n",
    "192          NBs\n",
    "0            PMAP process mapping (0=Row-,1=Column-major)\n",
    "1            # of process grids (P x Q)\n",
    "{p}            Ps\n",
    "{q}            Qs\n",
    "16.0         threshold\n",
    "1            # of panel fact\n",
    "2            PFACTs (0=left, 1=Crout, 2=Right)\n",
    "1            # of recursive stopping criterium\n",
    "2            NBMINs (>= 1)\n",
    "1            # of panels in recursion\n",
    "2            NDIVs\n",
    "1            # of recursive panel fact.\n",
    "1            RFACTs (0=left, 1=Crout, 2=Right)\n",
    "1            # of broadcast\n",
    "0            BCASTs (0=1rg,1=1rM,2=2rg,3=2rM,4=Lng,5=LnM)\n",
    "1            # of lookahead depth\n",
    "0            DEPTHs (>=0)\n",
    "0            SWAP (0=bin-exch,1=long,2=mix)\n",
    "1            swapping threshold\n",
    "1            L1 in (0=transposed,1=no-transposed) form\n",
    "1            U  in (0=transposed,1=no-transposed) form\n",
    "0            Equilibration (0=no,1=yes)\n",
    "8            memory alignment in double (> 0)\n",
    "''')\n",
    "    !cat {hpl_dat}\n",
    "    !scp {ssh_opts} {str(hpl_dat)} {target}:{hpl_dir}"
   ]
  },
  {
   "cell_type": "markdown",
   "metadata": {},
   "source": [
    "### ジョブスクリプトの作成\n",
    "\n",
    "HPLを実行するジョブスクリプトを作成します。"
   ]
  },
  {
   "cell_type": "markdown",
   "metadata": {},
   "source": [
    "次の例ではOpen MPIの代わりにMPICHを使うスクリプトになっています。"
   ]
  },
  {
   "cell_type": "code",
   "execution_count": null,
   "metadata": {},
   "outputs": [],
   "source": [
    "with TemporaryDirectory() as workdir:\n",
    "    hpl_batch = Path(workdir) / 'hpl-intel.job'\n",
    "    with hpl_batch.open(mode='w') as f:\n",
    "        f.write(f'''#!/bin/bash\n",
    "\n",
    "#SBATCH -J hpl-intel          # Job name\n",
    "#SBATCH -o hpl-intel.%j.out   # Name of stdout output file (%j expands to jobId)\n",
    "#SBATCH -N {num_nodes}                  # Total number of nodes requested\n",
    "#SBATCH -n {num_tasks}                  # Total number of mpi tasks requested\n",
    "#SBATCH -t 01:00:00           # Run time (hh:mm:ss)\n",
    "\n",
    "# Launch MPI-based executable\n",
    "\n",
    "if module is-loaded openmpi3; then\n",
    "    module swap openmpi3 mpich\n",
    "elif module is-loaded mvapich2; then\n",
    "    module swap mvapich2 mpich\n",
    "fi\n",
    "\n",
    "cd {hpl_dir}\n",
    "\n",
    "prun ./xhpl        \n",
    "''')\n",
    "    !cat {hpl_batch}\n",
    "    !scp {ssh_opts} {str(hpl_batch)} {target}:."
   ]
  },
  {
   "cell_type": "markdown",
   "metadata": {},
   "source": [
    "### ジョブの実行\n",
    "\n",
    "HPLのジョブを実行します。"
   ]
  },
  {
   "cell_type": "code",
   "execution_count": null,
   "metadata": {},
   "outputs": [],
   "source": [
    "!ssh {ssh_opts} {target} sbatch hpl-intel.job"
   ]
  },
  {
   "cell_type": "markdown",
   "metadata": {},
   "source": [
    "ジョブの状態を確認します。"
   ]
  },
  {
   "cell_type": "code",
   "execution_count": null,
   "metadata": {},
   "outputs": [],
   "source": [
    "!ssh {ssh_opts} {target} squeue"
   ]
  },
  {
   "cell_type": "markdown",
   "metadata": {},
   "source": [
    "結果を確認します。\n",
    "\n",
    "> ジョブの実行が完了するまで数分程度かかります。しばらく待ってから次のセルを実行してください。"
   ]
  },
  {
   "cell_type": "code",
   "execution_count": null,
   "metadata": {
    "tags": [
     "vcp:wait:180"
    ]
   },
   "outputs": [],
   "source": [
    "!ssh {ssh_opts} {target} 'cat hpl-intel.*.out'"
   ]
  }
 ],
 "metadata": {
  "kernelspec": {
   "display_name": "Python 3",
   "language": "python",
   "name": "python3"
  },
  "language_info": {
   "file_extension": ".py",
   "mimetype": "text/x-python",
   "name": "python",
   "nbconvert_exporter": "python",
   "pygments_lexer": "ipython3",
   "version": "3.7.3"
  },
  "toc": {
   "base_numbering": 1,
   "nav_menu": {},
   "number_sections": true,
   "sideBar": true,
   "skip_h1_title": true,
   "title_cell": "Table of Contents",
   "title_sidebar": "Contents",
   "toc_cell": false,
   "toc_position": {},
   "toc_section_display": true,
   "toc_window_display": true
  }
 },
 "nbformat": 4,
 "nbformat_minor": 2
}
