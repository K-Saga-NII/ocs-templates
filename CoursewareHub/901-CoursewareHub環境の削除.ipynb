{
 "cells": [
  {
   "cell_type": "markdown", 
   "metadata": {}, 
   "source": [
    "# CoursewareHub環境の削除\n", 
    "\n", 
    "構築した環境を削除します。"
   ]
  }, 
  {
   "cell_type": "markdown", 
   "metadata": {}, 
   "source": [
    "# パラメータの指定"
   ]
  }, 
  {
   "cell_type": "markdown", 
   "metadata": {}, 
   "source": [
    "## VCCアクセストークンの入力"
   ]
  }, 
  {
   "cell_type": "markdown", 
   "metadata": {}, 
   "source": [
    "VCノードを削除するためにVC Controller(VCC)のアクセストークンが必要となります。\n", 
    "次のセルを実行すると表示される入力枠にVCCのアクセストークンを入力してください。\n", 
    "\n", 
    "> アクセストークン入力後に Enter キーを押すことで入力が完了します。"
   ]
  }, 
  {
   "cell_type": "code", 
   "execution_count": null, 
   "metadata": {
    "tags": [
      "vcp:skip",
      "vcp:parameters"
    ]
   }, 
   "outputs": [], 
   "source": [
    "from getpass import getpass\n", 
    "vcc_access_token = getpass()"
   ]
  }, 
  {
   "cell_type": "markdown", 
   "metadata": {}, 
   "source": [
    "入力されたアクセストークンが正しいことを、実際にVCCにアクセスして確認します。"
   ]
  }, 
  {
   "cell_type": "code", 
   "execution_count": null, 
   "metadata": {
    "tags": [
     "vcp:rewrite:vcpsdk"
    ]
   }, 
   "outputs": [], 
   "source": [
    "from common import logsetting\n", 
    "from vcpsdk.vcpsdk import VcpSDK\n", 
    "\n", 
    "vcp = VcpSDK(vcc_access_token)"
   ]
  }, 
  {
   "cell_type": "markdown", 
   "metadata": {}, 
   "source": [
    "上のセルの実行結果がエラーとなり以下のようなメッセージが表示されている場合は、入力されたアクセストークンに誤りがあります。\n", 
    "\n", 
    "```\n", 
    "2018-09-XX XX:XX:XX,XXX - ERROR - config vc failed: http_status(403)\n", 
    "2018-09-XX XX:XX:XX,XXX - ERROR - 2018/XX/XX XX:XX:XX UTC: VCPAuthException: xxxxxxx:token lookup is failed: permission denied\n", 
    "```\n", 
    "\n", 
    "エラーになった場合はこの節のセルを全て `unfreeze` してから、もう一度アクセストークンの入力を行ってください。"
   ]
  }, 
  {
   "cell_type": "markdown", 
   "metadata": {}, 
   "source": [
    "## グループ名"
   ]
  }, 
  {
   "cell_type": "markdown", 
   "metadata": {}, 
   "source": [
    "CoursewareHubの構築環境となるVCPのUnitGroup名を指定してください。\n", 
    "\n", 
    "> VCノードを起動した際に指定したものと同じ名前を指定してください。"
   ]
  }, 
  {
   "cell_type": "code", 
   "execution_count": null, 
   "metadata": {
    "tags": [
      "vcp:parameters"
    ]
   }, 
   "outputs": [], 
   "source": [
    "unit_group = 'CoursewareHub'"
   ]
  }, 
  {
   "cell_type": "markdown", 
   "metadata": {
    "heading_collapsed": true
   }, 
   "source": [
    "# 構築環境の削除"
   ]
  }, 
  {
   "cell_type": "markdown", 
   "metadata": {
    "hidden": true
   }, 
   "source": [
    "## VCノードの削除\n", 
    "\n", 
    "起動したVCノードを削除します。"
   ]
  }, 
  {
   "cell_type": "markdown", 
   "metadata": {
    "hidden": true
   }, 
   "source": [
    "現在のUnitGroupの一覧を確認します。"
   ]
  }, 
  {
   "cell_type": "code", 
   "execution_count": null, 
   "metadata": {
    "hidden": true
   }, 
   "outputs": [], 
   "source": [
    "vcp.df_ugroups()"
   ]
  }, 
  {
   "cell_type": "markdown", 
   "metadata": {
    "hidden": true
   }, 
   "source": [
    "現在のVCノードの状態を確認します。"
   ]
  }, 
  {
   "cell_type": "code", 
   "execution_count": null, 
   "metadata": {
    "hidden": true
   }, 
   "outputs": [], 
   "source": [
    "ugroup = vcp.get_ugroup(unit_group)\n", 
    "ugroup.df_nodes()"
   ]
  }, 
  {
   "cell_type": "markdown", 
   "metadata": {
    "hidden": true
   }, 
   "source": [
    "まず worker の VCノードを削除します。\n", 
    "\n", 
    "> workerのVCノードがない場合は何もしません。"
   ]
  }, 
  {
   "cell_type": "code", 
   "execution_count": null, 
   "metadata": {
    "hidden": true
   }, 
   "outputs": [], 
   "source": [
    "worker_unit = ugroup.get_unit('worker')\n", 
    "if worker_unit:\n", 
    "    worker_unit.delete_nodes(num_delete_nodes=len(worker_unit.find_nodes()))"
   ]
  }, 
  {
   "cell_type": "markdown", 
   "metadata": {
    "hidden": true
   }, 
   "source": [
    "マスターのVCノードと UnitGroup の削除を行います。"
   ]
  }, 
  {
   "cell_type": "code", 
   "execution_count": null, 
   "metadata": {
    "hidden": true
   }, 
   "outputs": [], 
   "source": [
    "ugroup.cleanup()"
   ]
  }, 
  {
   "cell_type": "markdown", 
   "metadata": {
    "hidden": true
   }, 
   "source": [
    "削除後の UnitGroupの一覧を確認します。"
   ]
  }, 
  {
   "cell_type": "code", 
   "execution_count": null, 
   "metadata": {
    "hidden": true
   }, 
   "outputs": [], 
   "source": [
    "vcp.df_ugroups()"
   ]
  }, 
  {
   "cell_type": "markdown", 
   "metadata": {
    "heading_collapsed": true, 
    "hidden": true
   }, 
   "source": [
    "## VCディスクの削除"
   ]
  }, 
  {
   "cell_type": "markdown", 
   "metadata": {
    "hidden": true
   }, 
   "source": [
    "NFS用のVCディスクを削除します。\n", 
    "\n", 
    "> VCディスクを作成していない場合は、何もしません。"
   ]
  }, 
  {
   "cell_type": "markdown", 
   "metadata": {
    "hidden": true
   }, 
   "source": [
    "現在の状態を確認します。"
   ]
  }, 
  {
   "cell_type": "code", 
   "execution_count": null, 
   "metadata": {
    "hidden": true
   }, 
   "outputs": [], 
   "source": [
    "from IPython.display import display\n", 
    "ug_disk = vcp.get_ugroup(unit_group + '_disk')\n", 
    "if ug_disk:\n", 
    "    display(ug_disk.df_nodes())"
   ]
  }, 
  {
   "cell_type": "markdown", 
   "metadata": {
    "hidden": true
   }, 
   "source": [
    "VCディスクを削除します。"
   ]
  }, 
  {
   "cell_type": "code", 
   "execution_count": null, 
   "metadata": {
    "hidden": true
   }, 
   "outputs": [], 
   "source": [
    "if ug_disk:\n", 
    "    ug_disk.cleanup()"
   ]
  }, 
  {
   "cell_type": "markdown", 
   "metadata": {
    "hidden": true
   }, 
   "source": [
    "削除後のUnitGroupの一覧を確認します。"
   ]
  }, 
  {
   "cell_type": "code", 
   "execution_count": null, 
   "metadata": {
    "hidden": true
   }, 
   "outputs": [], 
   "source": [
    "vcp.df_ugroups()"
   ]
  }, 
  {
   "cell_type": "markdown", 
   "metadata": {
    "heading_collapsed": true
   }, 
   "source": [
    "# Ansible設定のクリア\n", 
    "\n", 
    "削除した環境に対応するAnsibleの設定をクリアします。"
   ]
  }, 
  {
   "cell_type": "markdown", 
   "metadata": {
    "hidden": true
   }, 
   "source": [
    "## group_varsファイル\n", 
    "\n", 
    "group_varsファイルをリネームします。"
   ]
  }, 
  {
   "cell_type": "code", 
   "execution_count": null, 
   "metadata": {
    "hidden": true
   }, 
   "outputs": [], 
   "source": [
    "!mv group_vars/{unit_group}.yml group_vars/{unit_group}.yml.bak"
   ]
  }, 
  {
   "cell_type": "markdown", 
   "metadata": {
    "hidden": true
   }, 
   "source": [
    "## インベントリ"
   ]
  }, 
  {
   "cell_type": "markdown", 
   "metadata": {
    "hidden": true
   }, 
   "source": [
    "インベントリから UnitGroup に対応するグループを削除します。"
   ]
  }, 
  {
   "cell_type": "code", 
   "execution_count": null, 
   "metadata": {
    "hidden": true
   }, 
   "outputs": [], 
   "source": [
    "import yaml\n", 
    "from pathlib import Path\n", 
    "\n", 
    "inventory_path = Path('hosts')\n", 
    "\n", 
    "!cp {str(inventory_path)} {str(inventory_path)}.bak\n", 
    "\n", 
    "with inventory_path.open() as f:\n", 
    "    inventory = yaml.safe_load(f)\n", 
    "    \n", 
    "if unit_group in inventory['all']['children']:\n", 
    "    del(inventory['all']['children'][unit_group])\n", 
    "\n", 
    "with inventory_path.open(mode='w') as f:\n", 
    "    f.write(yaml.safe_dump(inventory))\n", 
    "    \n", 
    "!cat {str(inventory_path)}"
   ]
  }
 ], 
 "metadata": {
  "kernelspec": {
   "display_name": "Python 3", 
   "language": "python", 
   "name": "python3"
  }, 
  "language_info": {
   "file_extension": ".py", 
   "mimetype": "text/x-python", 
   "name": "python", 
   "nbconvert_exporter": "python", 
   "pygments_lexer": "ipython3", 
   "version": "3.7.3"
  }, 
  "toc": {
   "base_numbering": 1, 
   "nav_menu": {}, 
   "number_sections": true, 
   "sideBar": true, 
   "skip_h1_title": false, 
   "title_cell": "Table of Contents", 
   "title_sidebar": "Contents", 
   "toc_cell": false, 
   "toc_position": {}, 
   "toc_section_display": true, 
   "toc_window_display": true
  }
 }, 
 "nbformat": 4, 
 "nbformat_minor": 2
}
