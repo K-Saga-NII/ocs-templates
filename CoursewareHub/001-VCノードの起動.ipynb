{
 "cells": [
  {
   "cell_type": "markdown", 
   "metadata": {}, 
   "source": [
    "# VCノードの起動\n", 
    "\n", 
    "---\n", 
    "\n", 
    "CoursewareHubの構築環境となるVCノードを起動して、そのうえにDocker Swarmの設定を行います。"
   ]
  }, 
  {
   "cell_type": "markdown", 
   "metadata": {}, 
   "source": [
    "## 構成\n", 
    "\n", 
    "CoursewareHubを構成するコンテナ(`auth-proxy`, `JupyterHub`,...)はVCノードに設定するDocker Swarmのうえで実行します。\n", 
    "\n", 
    "![構成](images/cw-001-01.png)"
   ]
  }, 
  {
   "cell_type": "markdown", 
   "metadata": {}, 
   "source": [
    "# VCノードに関するパラメータ\n", 
    "\n", 
    "CoursewareHubの構築環境となるVCノードに関するパラメータを指定します。"
   ]
  }, 
  {
   "cell_type": "markdown", 
   "metadata": {}, 
   "source": [
    "この章では、まずVCPの操作を行うために必要となるアクセストークンの値を入力します。次に構築環境のホストとなるVCノードに関するパラメータの指定を行います。最後に入力したパラメータを他のNotebookから参照できるようにNotebook環境のファイルに保存します。"
   ]
  }, 
  {
   "cell_type": "markdown", 
   "metadata": {}, 
   "source": [
    "## VCCアクセストークンの入力"
   ]
  }, 
  {
   "cell_type": "markdown", 
   "metadata": {}, 
   "source": [
    "VCノードを起動するにはVC Controller(VCC)にアクセスして、操作を行う必要があります。VCCにアクセスするために必要となるアクセストークンをここで入力します。"
   ]
  }, 
  {
   "cell_type": "markdown", 
   "metadata": {}, 
   "source": [
    "次のセルを実行すると入力枠が表示されるのでアクセストークンの値を入力してください。\n", 
    "\n", 
    "> アクセストークン入力後に Enter キーを押すことで入力が完了します。"
   ]
  }, 
  {
   "cell_type": "code", 
   "execution_count": null, 
   "metadata": {
    "tags": [
      "vcp:skip",
      "vcp:parameters"
    ]
   }, 
   "outputs": [], 
   "source": [
    "from getpass import getpass\n", 
    "vcc_access_token = getpass()"
   ]
  }, 
  {
   "cell_type": "markdown", 
   "metadata": {}, 
   "source": [
    "入力されたアクセストークンが正しいことを、実際にVCCにアクセスして確認します。"
   ]
  }, 
  {
   "cell_type": "code", 
   "execution_count": null, 
   "metadata": {
    "tags": [
     "vcp:rewrite:vcpsdk"
    ]
   }, 
   "outputs": [], 
   "source": [
    "from common import logsetting\n", 
    "from vcpsdk.vcpsdk import VcpSDK\n", 
    "\n", 
    "vcp = VcpSDK(vcc_access_token)"
   ]
  }, 
  {
   "cell_type": "markdown", 
   "metadata": {}, 
   "source": [
    "上のセルの実行結果がエラーとなり以下のようなメッセージが表示されている場合は、入力されたアクセストークンに誤りがあります。\n", 
    "\n", 
    "```\n", 
    "2018-09-XX XX:XX:XX,XXX - ERROR - config vc failed: http_status(403)\n", 
    "2018-09-XX XX:XX:XX,XXX - ERROR - 2018/XX/XX XX:XX:XX UTC: VCPAuthException: xxxxxxx:token lookup is failed: permission denied\n", 
    "```\n", 
    "\n", 
    "エラーになった場合はこの節のセルを全て `unfreeze` してから、もう一度アクセストークンの入力を行ってください。"
   ]
  }, 
  {
   "cell_type": "markdown", 
   "metadata": {}, 
   "source": [
    "## クラウドプロバイダの指定\n", 
    "\n", 
    "VCノードを起動するプロバイダを選択します。"
   ]
  }, 
  {
   "cell_type": "code", 
   "execution_count": null, 
   "metadata": {
    "tags": [
      "vcp:parameters"
    ]
   }, 
   "outputs": [], 
   "source": [
    "# (例)\n", 
    "# vc_provider = 'aws'\n", 
    "# vc_provider = 'azure'\n", 
    "\n", 
    "vc_provider = 'aws'"
   ]
  }, 
  {
   "cell_type": "markdown", 
   "metadata": {}, 
   "source": [
    "## VCノードに割り当てるリソース量の指定\n", 
    "\n", 
    "\n", 
    "VCノードに割り当てるリソース量を`spec`オブジェクトに指定します。"
   ]
  }, 
  {
   "cell_type": "markdown", 
   "metadata": {}, 
   "source": [
    "`spec`オブジェクトの全てのパラメータを毎回設定するのは煩雑になるので、VCP SDKでは典型的な構成のパラメータセットを事前に定義しています。事前に定義した`spec`パラメータセットのことを`flavor`と呼んでいます。`spec`に設定できるパラメータはクラウドプロバイダ毎に異なるので `flavor`もプロバイダ毎にの定義されています。\n", 
    "\n", 
    "次のセルを実行すると `vc_provider` に設定したプロバイダに対応する `flavor` の一覧が表示されます。"
   ]
  }, 
  {
   "cell_type": "code", 
   "execution_count": null, 
   "metadata": {}, 
   "outputs": [], 
   "source": [
    "vcp.df_flavors(vc_provider)"
   ]
  }, 
  {
   "cell_type": "markdown", 
   "metadata": {}, 
   "source": [
    "表示された `flavor` の値から一つを選択して、次のセルに指定してください。"
   ]
  }, 
  {
   "cell_type": "code", 
   "execution_count": null, 
   "metadata": {
    "tags": [
      "vcp:skip",
      "vcp:parameters"
    ]
   }, 
   "outputs": [], 
   "source": [
    "# (例)\n", 
    "# vc_flavor = 'small'\n", 
    "\n", 
    "vc_flavor ="
   ]
  }, 
  {
   "cell_type": "markdown", 
   "metadata": {}, 
   "source": [
    "CoursewareHub環境ではコンテナイメージとして、4GB以上のサイズのものを利用します。\n", 
    "`small`の `flavor`に対応するルートボリュームのサイズ８GBでは、コンテナを起動するのにディスク容量が不足してしまいます。そこでルートボリュームサイズを`flavor`に定義されている値から変更します。\n", 
    "\n", 
    "次のセルでルートボリュームサイズ(GB)を指定してください。"
   ]
  }, 
  {
   "cell_type": "code", 
   "execution_count": null, 
   "metadata": {
    "tags": [
      "vcp:skip",
      "vcp:parameters"
    ]
   }, 
   "outputs": [], 
   "source": [
    "# (例)\n", 
    "# vc_disk_size = 16\n", 
    "\n", 
    "# 16GB以上の値を指定してください\n", 
    "vc_disk_size ="
   ]
  }, 
  {
   "cell_type": "markdown", 
   "metadata": {}, 
   "source": [
    "## ノード数の指定"
   ]
  }, 
  {
   "cell_type": "markdown", 
   "metadata": {}, 
   "source": [
    "起動するVCノード数を指定してください。指定されたノード数のうち１ノードを manager 用、残りのノード数を worker 用のVCノードとして利用します。\n", 
    "\n", 
    "> ノード数を１に設定すると manager ノードのみで構成されます。"
   ]
  }, 
  {
   "cell_type": "code", 
   "execution_count": null, 
   "metadata": {
    "tags": [
      "vcp:skip",
      "vcp:parameters"
    ]
   }, 
   "outputs": [], 
   "source": [
    "# (例)\n", 
    "# vc_nodes = 3\n", 
    "\n", 
    "vc_nodes ="
   ]
  }, 
  {
   "cell_type": "markdown", 
   "metadata": {}, 
   "source": [
    "## プライベートIPアドレスの指定\n", 
    "\n", 
    "CoursewareHubを実行するVCノードは利用者からアクセスされるので、事前に定めたIPアドレスを割り当てたほうが管理しやすくなります。\n", 
    "ここでは、割りあてるIPアドレスの指定を行います。"
   ]
  }, 
  {
   "cell_type": "markdown", 
   "metadata": {}, 
   "source": [
    "次のセルでVCノードに割り当てる IPアドレス（プライベート）を指定してください。\n", 
    "\n", 
    "> VC管理者は、設定可能なIPアドレスの範囲を「VCP Manager Web UI」から確認することができます。"
   ]
  }, 
  {
   "cell_type": "code", 
   "execution_count": null, 
   "metadata": {
    "tags": [
      "vcp:skip",
      "vcp:parameters"
    ]
   }, 
   "outputs": [], 
   "source": [
    "# (例)\n", 
    "# vc_ipaddress = '172.30.2.100'\n", 
    "\n", 
    "vc_ipaddress ="
   ]
  }, 
  {
   "cell_type": "markdown", 
   "metadata": {}, 
   "source": [
    "## SSH公開鍵認証の鍵ファイルの指定\n", 
    "\n", 
    "起動したVCノードにsshでログインして操作を行うためには事前にSSH公開鍵認証の公開鍵を登録する必要があります。"
   ]
  }, 
  {
   "cell_type": "markdown", 
   "metadata": {}, 
   "source": [
    "VCノードに登録するSSHの公開鍵ファイルのパスを次のセルで指定してください。\n", 
    "\n", 
    "> 事前に鍵ファイル`~/.ssh/id_rsa` を作成しておいてください。"
   ]
  }, 
  {
   "cell_type": "code", 
   "execution_count": null, 
   "metadata": {
    "tags": [
      "vcp:parameters"
    ]
   }, 
   "outputs": [], 
   "source": [
    "ssh_public_key_path = '~/.ssh/id_rsa.pub'"
   ]
  }, 
  {
   "cell_type": "markdown", 
   "metadata": {}, 
   "source": [
    "公開鍵に対応する秘密鍵のパスを次のセルで指定してください。"
   ]
  }, 
  {
   "cell_type": "code", 
   "execution_count": null, 
   "metadata": {
    "tags": [
      "vcp:parameters"
    ]
   }, 
   "outputs": [], 
   "source": [
    "ssh_private_key_path = '~/.ssh/id_rsa'"
   ]
  }, 
  {
   "cell_type": "markdown", 
   "metadata": {}, 
   "source": [
    "## UnitGroup名の指定"
   ]
  }, 
  {
   "cell_type": "markdown", 
   "metadata": {}, 
   "source": [
    "VCPの構成要素は以下のようになっています。\n", 
    "\n", 
    "* VCノード\n", 
    "  - クラウドにおける計算資源(VM/BM)\n", 
    "  - 例えば Amazon EC2インスタンス, Microsoft Azure VM など\n", 
    "* Unit\n", 
    "  - 同質のVCノードにより構成されている要素\n", 
    "  - 同じUnitに属するVCノードはCPU,メモリ等の計算資源が全て同じ設定になっている\n", 
    "* UnitGroup\n", 
    "  - 複数のUnitにより構成されている要素\n", 
    "  - 使用目的、ライフサイクルなどに合わせて、複数のUnitをまとめて扱うための要素"
   ]
  }, 
  {
   "cell_type": "markdown", 
   "metadata": {}, 
   "source": [
    "このNotebookで構築するCoursewareHub環境では２つのUnitを作成することを想定しています。\n", 
    "* managerユニット\n", 
    "  - Docker Swarm の managerとなるVCノード\n", 
    "  - NFS用ディスクをアタッチする\n", 
    "* workerユニット\n", 
    "  - Docker Swarm の workerとなるVCノード\n", 
    "\n", 
    "２つのUnitをまとめて扱うための UnitGroup の名前を、次のセルで指定してください。"
   ]
  }, 
  {
   "cell_type": "code", 
   "execution_count": null, 
   "metadata": {
    "tags": [
      "vcp:parameters"
    ]
   }, 
   "outputs": [], 
   "source": [
    "unit_group = 'CoursewareHub'"
   ]
  }, 
  {
   "cell_type": "markdown", 
   "metadata": {}, 
   "source": [
    "## パラメータの保存\n", 
    "\n", 
    "この章で指定したパラメータの値をファイルに保存します。"
   ]
  }, 
  {
   "cell_type": "markdown", 
   "metadata": {}, 
   "source": [
    "後の手順でVCノードに対する操作を、構成管理ツールの[Ansible](https://www.ansible.com/)で行います。そこで、パラメータの保存形式は `Ansible` のフォーマットに従うことにします。Ansible では `group_vars/`というディレクトリに YAML フォーマットのファイルを配置すると、そのファイルに記録されている値を変数として利用することができます。このNotebookでは `group_vars/` にあるファイルを `group_vars ファイル`と呼ぶことにします。"
   ]
  }, 
  {
   "cell_type": "markdown", 
   "metadata": {}, 
   "source": [
    "次のセルを実行すると、この章で指定したパラメータが group_vars ファイルに保存されます。\n", 
    "\n", 
    "> YAMLフォーマットでファイルに値を保存するために、事前に作成した Python のスクリプト `scripts/group.py` を利用しています。"
   ]
  }, 
  {
   "cell_type": "code", 
   "execution_count": null, 
   "metadata": {}, 
   "outputs": [], 
   "source": [
    "import os\n", 
    "%run scripts/group.py\n", 
    "\n", 
    "# SSHの鍵ファイルが存在していることを確認します\n", 
    "if not (os.path.exists(os.path.expanduser(ssh_public_key_path)) and os.path.exists(os.path.expanduser(ssh_private_key_path))):\n", 
    "    raise\n", 
    "\n", 
    "update_group_vars(\n", 
    "    unit_group,\n", 
    "    unit_group=unit_group,\n", 
    "    vc_provider=vc_provider,\n", 
    "    vc_flavor=vc_flavor,\n", 
    "    vc_nodes=vc_nodes,\n", 
    "    vc_disk_size=vc_disk_size,\n", 
    "    vc_ipaddress=vc_ipaddress,\n", 
    "    ssh_public_key_path=os.path.expanduser(ssh_public_key_path),\n", 
    "    ssh_private_key_path=os.path.expanduser(ssh_private_key_path),\n", 
    ")"
   ]
  }, 
  {
   "cell_type": "markdown", 
   "metadata": {}, 
   "source": [
    "上のセルがエラーになる場合は、この章で設定する必要があるパラメータが、まだ設定されていない可能性があります。この章のセルで実行していないことを確認してください。実行していないものがあった場合はそのセルを実行した後、エラーになったこの節のセルを再度実行して下さい。"
   ]
  }, 
  {
   "cell_type": "markdown", 
   "metadata": {}, 
   "source": [
    "group_vars ファイルの内容を表示して保存されたパラメータを確認します。"
   ]
  }, 
  {
   "cell_type": "code", 
   "execution_count": null, 
   "metadata": {}, 
   "outputs": [], 
   "source": [
    "!cat group_vars/{unit_group}.yml"
   ]
  }, 
  {
   "cell_type": "markdown", 
   "metadata": {}, 
   "source": [
    "# VCディスクに関するパラメータ\n", 
    "\n", 
    "CoursewareHubに関するデータやNotebook、ユーザのホームディレクトリなどに利用するVCディスクに関するパラメータを指定します。"
   ]
  }, 
  {
   "cell_type": "markdown", 
   "metadata": {}, 
   "source": [
    "ディスクサイズ(GB)を指定してください。\n", 
    "\n", 
    "> VCディスクを作成しないで全てのデータをルートボリュームに配置する場合は、このセクションをスキップするか、`vc_nfs_disk_size` を `0` に設定してください。"
   ]
  }, 
  {
   "cell_type": "code", 
   "execution_count": null, 
   "metadata": {
    "tags": [
      "vcp:skip",
      "vcp:parameters"
    ]
   }, 
   "outputs": [], 
   "source": [
    "# (例)\n", 
    "# vc_nfs_disk_size = 32\n", 
    "\n", 
    "vc_nfs_disk_size ="
   ]
  }, 
  {
   "cell_type": "markdown", 
   "metadata": {}, 
   "source": [
    "VCディスクのためのUnitGroup名を指定してください。ここではVCノードのUnitGroup名から自動的に導き出した名前を設定します。"
   ]
  }, 
  {
   "cell_type": "code", 
   "execution_count": null, 
   "metadata": {}, 
   "outputs": [], 
   "source": [
    "disk_unit_group = unit_group + '_disk'\n", 
    "print(disk_unit_group)"
   ]
  }, 
  {
   "cell_type": "markdown", 
   "metadata": {}, 
   "source": [
    "この章で指定したパラメータの値をファイルに保存します。"
   ]
  }, 
  {
   "cell_type": "code", 
   "execution_count": null, 
   "metadata": {}, 
   "outputs": [], 
   "source": [
    "%run scripts/group.py\n", 
    "\n", 
    "if 'vc_nfs_disk_size' in vars() and vc_nfs_disk_size > 0:\n", 
    "    update_group_vars(\n", 
    "        unit_group,\n", 
    "        disk_unit_group=disk_unit_group,\n", 
    "        vc_nfs_disk_size=vc_nfs_disk_size,\n", 
    "    )"
   ]
  }, 
  {
   "cell_type": "markdown", 
   "metadata": {}, 
   "source": [
    "group_vars ファイルの内容を表示して保存されたパラメータを確認します。"
   ]
  }, 
  {
   "cell_type": "code", 
   "execution_count": null, 
   "metadata": {}, 
   "outputs": [], 
   "source": [
    "!cat group_vars/{unit_group}.yml"
   ]
  }, 
  {
   "cell_type": "markdown", 
   "metadata": {
    "heading_collapsed": true
   }, 
   "source": [
    "# VCディスクの作成\n", 
    "\n", 
    "NFS用のVCディスクを作成します。\n", 
    "\n", 
    "![VCディスク](images/cw-001-02.png)\n", 
    "\n", 
    "> 前のセクションをスキップしたか、または `vc_nfs_disk_size`の値として `0` を設定した場合は、このセクションを実行してもVCディスクは作成されません。"
   ]
  }, 
  {
   "cell_type": "markdown", 
   "metadata": {
    "hidden": true
   }, 
   "source": [
    "## UnitGroupの作成\n", 
    "\n", 
    "VCディスクを管理するための UnitGroup を作成します。\n"
   ]
  }, 
  {
   "cell_type": "markdown", 
   "metadata": {
    "hidden": true
   }, 
   "source": [
    "UnitGroupを作成するまえに、現在のUnitGroupの一覧を確認します。"
   ]
  }, 
  {
   "cell_type": "code", 
   "execution_count": null, 
   "metadata": {
    "hidden": true
   }, 
   "outputs": [], 
   "source": [
    "vcp.df_ugroups()"
   ]
  }, 
  {
   "cell_type": "markdown", 
   "metadata": {
    "hidden": true
   }, 
   "source": [
    "UnitGroupを作成します。"
   ]
  }, 
  {
   "cell_type": "code", 
   "execution_count": null, 
   "metadata": {
    "hidden": true
   }, 
   "outputs": [], 
   "source": [
    "%run scripts/group.py\n", 
    "gvars = load_group_vars(unit_group)\n", 
    "\n", 
    "if 'disk_unit_group' in gvars and 'vc_nfs_disk_size' in gvars and gvars['vc_nfs_disk_size'] > 0:\n", 
    "    ug_disk = vcp.create_ugroup(gvars['disk_unit_group'], ugroup_type='storage')"
   ]
  }, 
  {
   "cell_type": "markdown", 
   "metadata": {
    "hidden": true
   }, 
   "source": [
    "UnitGroup作成後の一覧を表示させます。"
   ]
  }, 
  {
   "cell_type": "code", 
   "execution_count": null, 
   "metadata": {
    "hidden": true
   }, 
   "outputs": [], 
   "source": [
    "vcp.df_ugroups()"
   ]
  }, 
  {
   "cell_type": "markdown", 
   "metadata": {
    "hidden": true
   }, 
   "source": [
    "## VCディスクの作成"
   ]
  }, 
  {
   "cell_type": "markdown", 
   "metadata": {
    "hidden": true
   }, 
   "source": [
    "NFS用のVCディスクを作成します。"
   ]
  }, 
  {
   "cell_type": "code", 
   "execution_count": null, 
   "metadata": {
    "hidden": true
   }, 
   "outputs": [], 
   "source": [
    "if 'ug_disk' in vars() and gvars['vc_nfs_disk_size'] > 0:\n", 
    "    nfs_disk_spec = vcp.get_spec(gvars['vc_provider'] + '_disk', 'small')\n", 
    "    nfs_disk_spec.size = gvars['vc_nfs_disk_size']\n", 
    "    ug_disk.create_unit('nfs', nfs_disk_spec)"
   ]
  }, 
  {
   "cell_type": "markdown", 
   "metadata": {
    "hidden": true
   }, 
   "source": [
    "作成したVCディスクの一覧を表示します。"
   ]
  }, 
  {
   "cell_type": "code", 
   "execution_count": null, 
   "metadata": {
    "hidden": true
   }, 
   "outputs": [], 
   "source": [
    "if 'ug_disk' in vars():\n", 
    "    ug_disk.df_nodes()"
   ]
  }, 
  {
   "cell_type": "markdown", 
   "metadata": {
    "heading_collapsed": true
   }, 
   "source": [
    "# VCノードの起動\n", 
    "\n", 
    "\n", 
    "![VCノード](images/cw-001-03.png)"
   ]
  }, 
  {
   "cell_type": "markdown", 
   "metadata": {
    "hidden": true
   }, 
   "source": [
    "## manager用VCノードの spec を指定する\n", 
    "\n", 
    "指定したパラメータをVCノードの `spec` に設定します。"
   ]
  }, 
  {
   "cell_type": "code", 
   "execution_count": null, 
   "metadata": {
    "hidden": true,
    "tags": [
     "vcp:rewrite:container_image"
    ]
   }, 
   "outputs": [], 
   "source": [
    "import sys\n", 
    "%run scripts/group.py\n", 
    "gvars = load_group_vars(unit_group)\n", 
    "spec_mgr = vcp.get_spec(gvars['vc_provider'], gvars['vc_flavor'])\n", 
    "\n", 
    "# manager用の Baseコンテナイメージを指定する\n", 
    "spec_mgr.image = 'harbor.vcloud.nii.ac.jp/vcp/coursewarehub:manager'\n", 
    "spec_mgr.params_v = [\n", 
    "    '/sys/fs/cgroup:/sys/fs/cgroup:ro',\n", 
    "    '/lib/modules:/lib/modules:ro',\n", 
    "]\n", 
    "\n", 
    "# manager用VCノードに割り当てるIPアドレスを指定する\n", 
    "spec_mgr.ip_addresses = [gvars['vc_ipaddress']]\n", 
    "\n", 
    "# ルートボリュームサイズを指定する\n", 
    "if vc_provider == 'aws':\n", 
    "    spec_mgr.volume_size = gvars['vc_disk_size']\n", 
    "elif vc_provider == 'azure':\n", 
    "    spec_mgr.disk_size_gb = gvars['vc_disk_size']\n", 
    "else:\n", 
    "    print('This provider does not support the specification of the root volume size. Does not set the disk size.', file=sys.stderr)\n", 
    "\n", 
    "# VCノードにsshでログインするための公開鍵を指定する\n", 
    "spec_mgr.set_ssh_pubkey(gvars['ssh_public_key_path'])\n", 
    "\n", 
    "if 'ug_disk' in vars():\n", 
    "    spec_mgr.disks = ug_disk.find_nodes()\n",
    "    if vc_provider == 'aws':\n",
    "        spec_mgr.params_e.append(\"NFS_DEV=/dev/xvdf\")\n",
    "    elif vc_provider == 'azure':\n",
    "        spec_mgr.params_e.append(\"NFS_DEV=/dev/sdc\")\n",
    "    else:\n",
    "        print('This provider does not support the specification of the root volume size. Does not set the disk size.', file=sys.stderr)"
   ]
  }, 
  {
   "cell_type": "markdown", 
   "metadata": {
    "hidden": true
   }, 
   "source": [
    "`spec` の設定値を確認します。"
   ]
  }, 
  {
   "cell_type": "code", 
   "execution_count": null, 
   "metadata": {
    "hidden": true
   }, 
   "outputs": [], 
   "source": [
    "print(spec_mgr)"
   ]
  }, 
  {
   "cell_type": "markdown", 
   "metadata": {
    "hidden": true
   }, 
   "source": [
    "## worker用VCノードのspec を指定する\n", 
    "\n", 
    "指定したパラメータをworker用VCノードの `spec` に設定します。"
   ]
  }, 
  {
   "cell_type": "code", 
   "execution_count": null, 
   "metadata": {
    "hidden": true,
    "tags": [
     "vcp:rewrite:container_image"
    ]
   }, 
   "outputs": [], 
   "source": [
    "spec_worker = vcp.get_spec(gvars['vc_provider'], gvars['vc_flavor'])\n", 
    "\n", 
    "# worker用の Baseコンテナイメージを指定する\n", 
    "spec_worker.image = 'harbor.vcloud.nii.ac.jp/vcp/coursewarehub:worker'\n", 
    "spec_worker.params_v = [\n", 
    "    '/sys/fs/cgroup:/sys/fs/cgroup:ro',\n", 
    "    '/lib/modules:/lib/modules:ro',\n", 
    "]\n", 
    "\n", 
    "# ルートボリュームサイズを指定する\n", 
    "if vc_provider == 'aws':\n", 
    "    spec_worker.volume_size = gvars['vc_disk_size']\n", 
    "elif vc_provider == 'azure':\n", 
    "    spec_worker.disk_size_gb = gvars['vc_disk_size']\n", 
    "else:\n", 
    "    print('This provider does not support the specification of the root volume size. Does not set the disk size.', file=sys.stderr)\n", 
    "\n", 
    "# VCノードにsshでログインするための公開鍵を指定する\n", 
    "spec_worker.set_ssh_pubkey(gvars['ssh_public_key_path'])\n", 
    "\n", 
    "# NFSサーバのIPアドレスを指定する\n", 
    "spec_worker.params_e.append(\"NFS_SERVER=\" + gvars['vc_ipaddress'])\n", 
    "\n", 
    "# ノード数を指定する\n", 
    "spec_worker.num_nodes = int(gvars['vc_nodes']) - 1"
   ]
  }, 
  {
   "cell_type": "markdown", 
   "metadata": {
    "hidden": true
   }, 
   "source": [
    "`spec` の設定値を確認します。"
   ]
  }, 
  {
   "cell_type": "code", 
   "execution_count": null, 
   "metadata": {
    "hidden": true
   }, 
   "outputs": [], 
   "source": [
    "print(spec_worker)"
   ]
  }, 
  {
   "cell_type": "markdown", 
   "metadata": {
    "hidden": true
   }, 
   "source": [
    "## VCノードの起動"
   ]
  }, 
  {
   "cell_type": "markdown", 
   "metadata": {
    "hidden": true
   }, 
   "source": [
    "UnitGroupを作成します。"
   ]
  }, 
  {
   "cell_type": "code", 
   "execution_count": null, 
   "metadata": {
    "hidden": true
   }, 
   "outputs": [], 
   "source": [
    "ugroup = vcp.create_ugroup(unit_group)"
   ]
  }, 
  {
   "cell_type": "markdown", 
   "metadata": {
    "hidden": true
   }, 
   "source": [
    "manager用VCノードを起動します。"
   ]
  }, 
  {
   "cell_type": "code", 
   "execution_count": null, 
   "metadata": {
    "hidden": true, 
    "scrolled": true
   }, 
   "outputs": [], 
   "source": [
    "unit_mgr = ugroup.create_unit('manager', spec_mgr)"
   ]
  }, 
  {
   "cell_type": "markdown", 
   "metadata": {
    "hidden": true
   }, 
   "source": [
    "起動したVCノードの一覧を表示します。"
   ]
  }, 
  {
   "cell_type": "code", 
   "execution_count": null, 
   "metadata": {
    "hidden": true
   }, 
   "outputs": [], 
   "source": [
    "unit_mgr.df_nodes()"
   ]
  }, 
  {
   "cell_type": "markdown", 
   "metadata": {
    "hidden": true
   }, 
   "source": [
    "worker用VCノードを起動します。"
   ]
  }, 
  {
   "cell_type": "code", 
   "execution_count": null, 
   "metadata": {
    "hidden": true, 
    "scrolled": true
   }, 
   "outputs": [], 
   "source": [
    "unit_worker = ugroup.create_unit('worker', spec_worker)"
   ]
  }, 
  {
   "cell_type": "markdown", 
   "metadata": {
    "hidden": true
   }, 
   "source": [
    "起動したVCノードの一覧を表示します。"
   ]
  }, 
  {
   "cell_type": "code", 
   "execution_count": null, 
   "metadata": {
    "hidden": true
   }, 
   "outputs": [], 
   "source": [
    "unit_worker.df_nodes()"
   ]
  }, 
  {
   "cell_type": "markdown", 
   "metadata": {
    "heading_collapsed": true
   }, 
   "source": [
    "# Ansibleの設定\n", 
    "\n", 
    "VCノードをAnsibleで操作するための設定を行います。"
   ]
  }, 
  {
   "cell_type": "markdown", 
   "metadata": {
    "hidden": true
   }, 
   "source": [
    "まず、VCノードにSSHでログインできるようにするために `~/.ssh/known_hosts` の更新を行います。\n", 
    "\n", 
    "> 何度かVCノードの起動を行うと、異なるホストが同じIPアドレスで起動するためにSSHのホストキーのチェックでエラーになる事があります。このような状況に対応するために、起動したVCノードのIPアドレスに対応するエントリを`known_hosts`ファイルから削除します。その後、`ssh-keyscan`コマンドを利用して起動したVCノードのホストキーを取得して `known_hosts`ファイルの内容を更新します。"
   ]
  }, 
  {
   "cell_type": "code", 
   "execution_count": null, 
   "metadata": {
    "hidden": true
   }, 
   "outputs": [], 
   "source": [
    "from time import sleep\n", 
    "\n", 
    "def check_update_known_hosts(ipaddr):\n", 
    "    # VCノード起動直後だと sshd サービスが開始されておらずに known_hosts が更新されない場合がある\n", 
    "    # ssh-keyscan が値を取得できるまで何度かリトライする\n", 
    "    for x in range(10):\n", 
    "        out = ! echo $(ssh-keyscan {ipaddr} 2> /dev/null | wc -l)\n", 
    "        update_lines = int(out[0])\n", 
    "        if update_lines > 0:\n", 
    "            break\n", 
    "        sleep(1)\n", 
    "    else:\n", 
    "        raise RuntimeError(\"ERROR: timeout!\")    \n", 
    "\n", 
    "!mkdir -p -m 0700 ~/.ssh\n", 
    "for addr in ugroup.find_ip_addresses():\n", 
    "    !ssh-keygen -R {addr}\n", 
    "    check_update_known_hosts(addr)\n", 
    "    !ssh-keyscan -H {addr} >> ~/.ssh/known_hosts"
   ]
  }, 
  {
   "cell_type": "markdown", 
   "metadata": {
    "hidden": true
   }, 
   "source": [
    "起動したVCノードに対応するエントリを Ansible のインベントリに登録します。\n", 
    "\n", 
    "> Ansibleで操作を行うためには、操作対象のホスト(IPアドレス)をインベントリに登録する必要があります。"
   ]
  }, 
  {
   "cell_type": "code", 
   "execution_count": null, 
   "metadata": {
    "hidden": true
   }, 
   "outputs": [], 
   "source": [
    "import yaml\n", 
    "\n", 
    "hosts = {\n", 
    "    'all': {\n", 
    "        'children': {\n", 
    "            ugroup.name: {\n", 
    "                'children': {\n", 
    "                    unit_mgr.name: {\n", 
    "                        'hosts': dict([(x, {}) for x in unit_mgr.find_ip_addresses()]),\n", 
    "                    },\n", 
    "                    unit_worker.name: {\n", 
    "                        'hosts': dict([(x, {}) for x in unit_worker.find_ip_addresses()]),\n", 
    "                    }\n", 
    "                },\n", 
    "                'vars': {\n", 
    "                    'ansible_user': 'vcp',\n", 
    "                    'ansible_ssh_private_key_file': gvars['ssh_private_key_path'],\n", 
    "                }\n", 
    "            }\n", 
    "        }\n", 
    "    }\n", 
    "}\n", 
    "\n", 
    "with open('hosts', 'w') as f:\n", 
    "    yaml.dump(hosts, f, default_flow_style=False)\n", 
    "    \n", 
    "!cat hosts"
   ]
  }, 
  {
   "cell_type": "markdown", 
   "metadata": {
    "hidden": true
   }, 
   "source": [
    "先程VCノードを登録したファイルをインベントリとして指定するためのAnsibleのコンフィギュレーションファイルを作成します。\n", 
    "\n", 
    "> カレントディレクトリにコンフィギュレーションファイル(`ansible.cfg`)を作成すると、Ansibleを実行する際にその設定が適用されます。"
   ]
  }, 
  {
   "cell_type": "code", 
   "execution_count": null, 
   "metadata": {
    "hidden": true
   }, 
   "outputs": [], 
   "source": [
    "from pathlib import Path\n", 
    "\n", 
    "inventory = Path('./hosts').resolve()\n", 
    "ansible_cfg = Path('./ansible.cfg').resolve()\n", 
    "with ansible_cfg.open(mode='w') as f:\n", 
    "    f.write(f'''\n", 
    "[defaults]\n", 
    "inventory = {inventory}\n", 
    "deprecation_warnings = False\n", 
    "force_valid_group_names = ignore\n", 
    "command_warnings = False\n", 
    "''')\n", 
    "ansible_cfg.parent.chmod(0o755)\n", 
    "\n", 
    "!cat ./ansible.cfg"
   ]
  }, 
  {
   "cell_type": "markdown", 
   "metadata": {
    "hidden": true
   }, 
   "source": [
    "UnitGroupに属する全てのVCノードに対して Ansible で接続できることを確認します。\n", 
    "\n", 
    "> ここでは、複数のVCノードをまとめて扱うためにAnsibleのグループを指定しています。グループ名は UnitGroup名と同じ値にしてあります。"
   ]
  }, 
  {
   "cell_type": "code", 
   "execution_count": null, 
   "metadata": {
    "hidden": true
   }, 
   "outputs": [], 
   "source": [
    "!ansible {ugroup.name} -m ping"
   ]
  }, 
  {
   "cell_type": "markdown", 
   "metadata": {
    "hidden": true
   }, 
   "source": [
    "VCノードにログインするユーザ名を `group_vars`に保存しておきます。"
   ]
  }, 
  {
   "cell_type": "code", 
   "execution_count": null, 
   "metadata": {
    "hidden": true
   }, 
   "outputs": [], 
   "source": [
    "%run scripts/group.py\n", 
    "\n", 
    "update_group_vars(\n", 
    "    unit_group,\n", 
    "    default_user='vcp',\n", 
    ")"
   ]
  }, 
  {
   "cell_type": "markdown", 
   "metadata": {
    "heading_collapsed": true
   }, 
   "source": [
    "# Docker Swarmの設定\n", 
    "\n", 
    "Docker Swarm の設定を行います。\n", 
    "\n", 
    "![Docker Swarm](images/cw-001-04.png)"
   ]
  }, 
  {
   "cell_type": "markdown", 
   "metadata": {
    "hidden": true
   }, 
   "source": [
    "manager用VCノードで Docker Swarmの初期セットアップを行います。"
   ]
  }, 
  {
   "cell_type": "code", 
   "execution_count": null, 
   "metadata": {
    "hidden": true
   }, 
   "outputs": [], 
   "source": [
    "!ansible {unit_mgr.name} -a 'docker swarm init'"
   ]
  }, 
  {
   "cell_type": "markdown", 
   "metadata": {
    "hidden": true
   }, 
   "source": [
    "トークンの値を取得します。"
   ]
  }, 
  {
   "cell_type": "code", 
   "execution_count": null, 
   "metadata": {
    "hidden": true
   }, 
   "outputs": [], 
   "source": [
    "out = !ansible {unit_mgr.name} -a 'docker swarm join-token -q worker'\n", 
    "if out[0].find('CHANGED') >= 0 or out[0].find('SUCCESS') >= 0:\n", 
    "    swarm_token = out[1]\n", 
    "    print(swarm_token)\n", 
    "else:\n", 
    "    raise"
   ]
  }, 
  {
   "cell_type": "markdown", 
   "metadata": {
    "hidden": true
   }, 
   "source": [
    "workerのVCノードを追加します。"
   ]
  }, 
  {
   "cell_type": "code", 
   "execution_count": null, 
   "metadata": {
    "hidden": true
   }, 
   "outputs": [], 
   "source": [
    "manager_ip = gvars['vc_ipaddress']\n", 
    "!ansible {unit_worker.name} -a 'docker swarm join --token {swarm_token} {manager_ip}:2377'"
   ]
  }, 
  {
   "cell_type": "markdown", 
   "metadata": {
    "hidden": true
   }, 
   "source": [
    "Docker Swarmのノード一覧を表示します。"
   ]
  }, 
  {
   "cell_type": "code", 
   "execution_count": null, 
   "metadata": {
    "hidden": true
   }, 
   "outputs": [], 
   "source": [
    "!ansible {unit_mgr.name} -a 'docker node ls'"
   ]
  }
 ], 
 "metadata": {
  "kernelspec": {
   "display_name": "Python 3", 
   "language": "python", 
   "name": "python3"
  }, 
  "language_info": {
   "file_extension": ".py", 
   "mimetype": "text/x-python", 
   "name": "python", 
   "nbconvert_exporter": "python", 
   "pygments_lexer": "ipython3", 
   "version": "3.7.3"
  }, 
  "toc": {
   "base_numbering": 1, 
   "nav_menu": {}, 
   "number_sections": true, 
   "sideBar": true, 
   "skip_h1_title": false, 
   "title_cell": "Table of Contents", 
   "title_sidebar": "Contents", 
   "toc_cell": false, 
   "toc_position": {
    "height": "calc(100% - 180px)", 
    "left": "10px", 
    "top": "150px", 
    "width": "275.795px"
   }, 
   "toc_section_display": true, 
   "toc_window_display": true
  }
 }, 
 "nbformat": 4, 
 "nbformat_minor": 2
}
