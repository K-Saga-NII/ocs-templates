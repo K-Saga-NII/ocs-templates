{
 "cells": [
  {
   "cell_type": "markdown",
   "metadata": {},
   "source": [
    "# About: ロギングドライバを変更する\n",
    "---\n",
    "\n",
    "`docker-compose.yml`を編集してMoodleコンテナのロギングドライバを変更します。"
   ]
  },
  {
   "cell_type": "markdown",
   "metadata": {},
   "source": [
    "## 概要\n",
    "\n",
    "Dockerコンテナのロギングドライバをデフォルトの `json-file` から `syslog` に変更します。\n",
    "\n",
    "![処理の流れ](images/moodle-041-01.png)"
   ]
  },
  {
   "cell_type": "markdown",
   "metadata": {},
   "source": [
    "ロギングドライバの変更は「040-設定ファイルの変更.ipynb」と同様の手順で`docker-compose.yml`を編集することで行います。主な変更手順を以下に示します。\n",
    "\n",
    "1. 構築環境に配置されている`docker-compose.yml`をローカルのJupyter Notebook環境に取得する\n",
    "2. 取得したファイルのバックアップを作成する\n",
    "3. Notebookの編集機能を利用して`docker-compose.yml`の変更をおこなう\n",
    "4. 変更した`docker-compose.yml`を構築環境に配置する\n",
    "5. `docker-compose.yml`の変更を反映させるためにコンテナを再起動する"
   ]
  },
  {
   "cell_type": "markdown",
   "metadata": {},
   "source": [
    "### 前提条件"
   ]
  },
  {
   "cell_type": "markdown",
   "metadata": {},
   "source": [
    "* Moodle実行環境とは別のノードに syslogサーバが構築済であること\n",
    "* syslogサーバはMoodle環境からのログを受け取れるように設定されていること"
   ]
  },
  {
   "cell_type": "markdown",
   "metadata": {},
   "source": [
    "## パラメータの指定"
   ]
  },
  {
   "cell_type": "markdown",
   "metadata": {},
   "source": [
    "### グループ名の指定\n",
    "\n",
    "このNotebookの操作対象となるAnsibleのグループ名を設定します。"
   ]
  },
  {
   "cell_type": "code",
   "execution_count": null,
   "metadata": {},
   "outputs": [],
   "source": [
    "# (例)\n",
    "# target_group = 'Moodle'\n",
    "\n",
    "target_group ="
   ]
  },
  {
   "cell_type": "markdown",
   "metadata": {
    "heading_collapsed": true
   },
   "source": [
    "#### チェック\n",
    "\n",
    "指定された `target_group` の値が適切なものかチェックします。"
   ]
  },
  {
   "cell_type": "markdown",
   "metadata": {
    "hidden": true
   },
   "source": [
    "`target_group` に対応する `group_vars` ファイルが存在していることを確認します。"
   ]
  },
  {
   "cell_type": "code",
   "execution_count": null,
   "metadata": {
    "hidden": true
   },
   "outputs": [],
   "source": [
    "from pathlib import Path\n",
    "if not (Path('group_vars') / (target_group + '.yml')).exists():\n",
    "    raise RuntimeError(f\"ERROR: not exists {target_group + '.yml'}\")"
   ]
  },
  {
   "cell_type": "markdown",
   "metadata": {
    "hidden": true
   },
   "source": [
    "`target_group`で指定したホストにAnsibleで到達可能であることを確認します。"
   ]
  },
  {
   "cell_type": "code",
   "execution_count": null,
   "metadata": {
    "hidden": true
   },
   "outputs": [],
   "source": [
    "!ansible {target_group} -m ping"
   ]
  },
  {
   "cell_type": "markdown",
   "metadata": {},
   "source": [
    "### syslogサーバの確認\n",
    "\n",
    "syslogサーバをチェックするために Moodle構築環境からテスト用のログを送信してみます。"
   ]
  },
  {
   "cell_type": "markdown",
   "metadata": {},
   "source": [
    "`logger` コマンドを用いてテスト用のログを送信してみます。"
   ]
  },
  {
   "cell_type": "markdown",
   "metadata": {},
   "source": [
    "syslogサーバのアドレスを指定してください。"
   ]
  },
  {
   "cell_type": "code",
   "execution_count": null,
   "metadata": {},
   "outputs": [],
   "source": [
    "# (例)\n",
    "# syslog_server = 'syslog.example.org'\n",
    "# syslog_server = '192.168.200.200'\n",
    "\n",
    "syslog_server ="
   ]
  },
  {
   "cell_type": "markdown",
   "metadata": {},
   "source": [
    "syslogのポート番号を指定してください。"
   ]
  },
  {
   "cell_type": "code",
   "execution_count": null,
   "metadata": {},
   "outputs": [],
   "source": [
    "# (例)\n",
    "# syslog_port = 514\n",
    "\n",
    "syslog_port = 514"
   ]
  },
  {
   "cell_type": "markdown",
   "metadata": {},
   "source": [
    "`logger` コマンドのオプションを指定してください。指定可能なオプションを以下に示します。\n",
    "\n",
    "```\n",
    " -T, --tcp             use TCP only\n",
    " -d, --udp             use UDP only\n",
    " -i, --id              log the process ID too\n",
    " -f, --file <file>     log the contents of this file\n",
    " -h, --help            display this help text and exit\n",
    " -S, --size <num>      maximum size for a single message (default 1024)\n",
    " -n, --server <name>   write to this remote syslog server\n",
    " -P, --port <port>     use this port for UDP or TCP connection\n",
    " -p, --priority <prio> mark given message with this priority\n",
    " -s, --stderr          output message to standard error as well\n",
    " -t, --tag <tag>       mark every line with this tag\n",
    " -u, --socket <socket> write to this Unix socket\n",
    " -V, --version         output version information and exit\n",
    "```"
   ]
  },
  {
   "cell_type": "code",
   "execution_count": null,
   "metadata": {},
   "outputs": [],
   "source": [
    "# (例)\n",
    "# logger_opts = '-T'  # TCPの場合\n",
    "# logger_opts = '-d'  # UDPの場合\n",
    "\n",
    "logger_opts ="
   ]
  },
  {
   "cell_type": "markdown",
   "metadata": {},
   "source": [
    "テスト用のメッセージを指定してください。"
   ]
  },
  {
   "cell_type": "code",
   "execution_count": null,
   "metadata": {},
   "outputs": [],
   "source": [
    "# (例)\n",
    "# logger_message = 'test message 001'\n",
    "\n",
    "logger_message = 'test message 001'"
   ]
  },
  {
   "cell_type": "markdown",
   "metadata": {},
   "source": [
    "Moodle構築環境からテスト用のログを送信してみます。"
   ]
  },
  {
   "cell_type": "code",
   "execution_count": null,
   "metadata": {},
   "outputs": [],
   "source": [
    "!ansible {target_group} -a \\\n",
    "    'logger -n {syslog_server} -P {syslog_port} {logger_opts} \"{logger_message}\"'"
   ]
  },
  {
   "cell_type": "markdown",
   "metadata": {},
   "source": [
    "syslogサーバでログを受け取ることができているかを確認してください。"
   ]
  },
  {
   "cell_type": "markdown",
   "metadata": {},
   "source": [
    "## docker-compose.yml の編集\n",
    "\n",
    "`docker-compose.yml`をローカル環境に取得してMoodleコンテナのロギングドライバを変更します。\n",
    "\n",
    "![設定ファイルの取得、編集](images/moodle-040-03.png)"
   ]
  },
  {
   "cell_type": "markdown",
   "metadata": {},
   "source": [
    "次のセルを実行すると、以下の手順が実行されます。\n",
    "\n",
    "1. 構築環境に配置されている`docker-compose.yml`をローカル環境に取得する\n",
    "2. 取得した`docker-compose.yml`のバックアップを作成する\n",
    "3. Jupyter Notebookの編集機能を利用して設定ファイルを編集するためのリンクを表示する"
   ]
  },
  {
   "cell_type": "code",
   "execution_count": null,
   "metadata": {},
   "outputs": [],
   "source": [
    "%run scripts/edit_conf.py\n",
    "fetch_docker_compose(target_group)"
   ]
  },
  {
   "cell_type": "markdown",
   "metadata": {},
   "source": [
    "上のセルの出力に表示されているリンクをクリックして設定ファイルの編集を行います。"
   ]
  },
  {
   "cell_type": "markdown",
   "metadata": {},
   "source": [
    "コンテナのログをsyslogに転送するために `docker-compose.yml` に対して以下の変更を行います。\n",
    "\n",
    "1. コンテナのロギングドライバを syslog に変更する\n",
    "1. Moodleコンテナのログファイル出力ディレクトリへのbind mountを無効にする\n",
    "1. MariaDBのログ出力先をファイルからコンソールに変更するようにコマンドラインオプションの指定を行う"
   ]
  },
  {
   "cell_type": "markdown",
   "metadata": {},
   "source": [
    "Moodleコンテナのロギングドライバを syslog に変更するには`docker-compose.yml` の `moodle`サービスに以下のような設定を追加します。\n",
    "\n",
    "\n",
    "```\n",
    "    logging:\n",
    "      driver: syslog\n",
    "      options:\n",
    "        syslog-address: \"{tcp|udp}://{syslogサーバのアドレス}:{syslogサーバのポート番号}\"\n",
    "        tag: moodle\n",
    "```\n",
    "\n",
    "次のセルを実行すると前章で設定したパラメータにあわせた設定内容を表示します。上のセルのリンクから開いた `docker.compose.yml` の編集画面に追記して保存してください。YAMLではインデントに意味をもたせているのでスペース文字数に注意して編集してください。"
   ]
  },
  {
   "cell_type": "code",
   "execution_count": null,
   "metadata": {},
   "outputs": [],
   "source": [
    "syslog_proto = 'tcp' if logger_opts.find('-T') >= 0 else 'udp'\n",
    "print(f'''\n",
    "    logging:\n",
    "      driver: syslog\n",
    "      options:\n",
    "        syslog-address: \"{syslog_proto}://{syslog_server}:{syslog_port}\"\n",
    "        tag: moodle\n",
    "''')"
   ]
  },
  {
   "cell_type": "markdown",
   "metadata": {},
   "source": [
    "同様の変更をdbコンテナに対しても行ってください。ただしログでコンテナ種別を判別するために `tag` の指定にMoodleコンテナとは別の値を指定してください。"
   ]
  },
  {
   "cell_type": "markdown",
   "metadata": {},
   "source": [
    "`docker-compose.yml` のロギング設定の記述方法の詳細については以下の記述などを参照してください。\n",
    "\n",
    "* [Compose file version 3 reference](https://docs.docker.com/compose/compose-file/#logging)\n",
    "* [Syslog logging driver](https://docs.docker.com/config/containers/logging/syslog/)"
   ]
  },
  {
   "cell_type": "markdown",
   "metadata": {},
   "source": [
    "`docker-compose.yml` を編集した後に、次のセルを実行すると編集の前後での差分を確認することができます。"
   ]
  },
  {
   "cell_type": "code",
   "execution_count": null,
   "metadata": {},
   "outputs": [],
   "source": [
    "show_local_docker_compose_diff(target_group)"
   ]
  },
  {
   "cell_type": "markdown",
   "metadata": {},
   "source": [
    "ここまでの変更に関する差分の表示例を以下に示します。\n",
    "\n",
    "```\n",
    "--- docker-compose.yml.orig\n",
    "+++ docker-compose.yml\n",
    "@@ -19,6 +19,11 @@\n",
    "       - --collation-server=utf8mb4_unicode_ci\n",
    "       - --explicit_defaults_for_timestamp=true\n",
    "       - --log-error=/var/log/mysql/error.log\n",
    "+    logging:\n",
    "+      driver: syslog\n",
    "+      options:\n",
    "+        syslog-address: \"tcp://syslog.example.org:514\"\n",
    "+        tag: mariadb\n",
    "   moodle:\n",
    "     image: harbor.vcloud.nii.ac.jp/vcp/moodle-simple:3.9\n",
    "     container_name: moodle\n",
    "@@ -48,3 +53,8 @@\n",
    "       DB_PASSWORD: \"moodle\"\n",
    "       MOODLE_REVERSEPROXY: \"true\"\n",
    "       WAIT_FOR: db:3306\n",
    "+    logging:\n",
    "+      driver: syslog\n",
    "+      options:\n",
    "+        syslog-address: \"tcp://syslog.example.org:514\"\n",
    "+        tag: moodle\n",
    "```"
   ]
  },
  {
   "cell_type": "markdown",
   "metadata": {},
   "source": [
    "次にMoodleコンテナのログファイル出力ディレクトリへのbind mountを無効にします。Dockerのロギングドライバでsyslogへの転送を行うには、MoodleコンテナのApache HTTP Serverのアクセスログなどをファイルとして出力するのではなく、コンテナのログとして扱えるようにする必要があります。Moodleコンテナでは `/var/log/httpd/` への bind mount を無効にすることによってファイル出力ではなくコンテナのログとして処理されます。これによりロギングドライバによる syslog への転送が可能となります。\n",
    "\n",
    "`docker-compose.yml` における `moodle` コンテナの `volumes` 設定から `/var/log/httpd` のエントリを削除してください。編集後に次のセルを実行すると編集の前後での差分を確認することができます。"
   ]
  },
  {
   "cell_type": "code",
   "execution_count": null,
   "metadata": {},
   "outputs": [],
   "source": [
    "show_local_docker_compose_diff(target_group)"
   ]
  },
  {
   "cell_type": "markdown",
   "metadata": {},
   "source": [
    "ここまでの変更に関する差分の表示例を以下に示します。\n",
    "\n",
    "```\n",
    "--- docker-compose.yml.orig\n",
    "+++ docker-compose.yml\n",
    "@@ -19,6 +19,11 @@\n",
    "       - --collation-server=utf8mb4_unicode_ci\n",
    "       - --explicit_defaults_for_timestamp=true\n",
    "       - --log-error=/var/log/mysql/error.log\n",
    "+    logging:\n",
    "+      driver: syslog\n",
    "+      options:\n",
    "+        syslog-address: \"tcp://syslog.example.org:514\"\n",
    "+        tag: mariadb\n",
    "   moodle:\n",
    "     image: harbor.vcloud.nii.ac.jp/vcp/moodle-simple:3.9\n",
    "     container_name: moodle\n",
    "@@ -32,7 +37,6 @@\n",
    "       - /srv/moodle/moodle/conf/httpd/conf.d:/etc/httpd/conf.d\n",
    "       - /srv/moodle/moodle/conf/httpd/conf.modules.d:/etc/httpd/conf.modules.d\n",
    "       - /srv/moodle/moodle/conf/ca-trust:/etc/pki/ca-trust/source/anchors\n",
    "-      - /var/log/httpd:/var/log/httpd\n",
    "     ports:\n",
    "       - 80:80\n",
    "     environment:\n",
    "@@ -48,3 +52,8 @@\n",
    "       DB_PASSWORD: \"moodle\"\n",
    "       MOODLE_REVERSEPROXY: \"true\"\n",
    "       WAIT_FOR: db:3306\n",
    "+    logging:\n",
    "+      driver: syslog\n",
    "+      options:\n",
    "+        syslog-address: \"tcp://syslog.example.org:514\"\n",
    "+        tag: moodle\n",
    "```"
   ]
  },
  {
   "cell_type": "markdown",
   "metadata": {},
   "source": [
    "最後にMariaDBのログ出力先をファイルからコンソールに変更するようにコマンドラインオプションの指定を行います。ログの出力先をファイルからコンソールに変更しコンテナのログとして扱えるようにします。\n",
    "\n",
    "`docker-compose.yml` における `db` コンテナの `command` 設定を変更します。`--log-error=` の行を削除し、替わりに `--console` の指定を追加してください。\n",
    "\n",
    "編集後に次のセルを実行すると編集の前後での差分を確認することができます。"
   ]
  },
  {
   "cell_type": "code",
   "execution_count": null,
   "metadata": {
    "scrolled": false
   },
   "outputs": [],
   "source": [
    "show_local_docker_compose_diff(target_group)"
   ]
  },
  {
   "cell_type": "markdown",
   "metadata": {},
   "source": [
    "ここまでの変更に関する差分の表示例を以下に示します。\n",
    "\n",
    "```\n",
    "--- docker-compose.yml.orig\n",
    "+++ docker-compose.yml\n",
    "@@ -18,7 +18,12 @@\n",
    "       - --character-set-server=utf8mb4\n",
    "       - --collation-server=utf8mb4_unicode_ci\n",
    "       - --explicit_defaults_for_timestamp=true\n",
    "-      - --log-error=/var/log/mysql/error.log\n",
    "+      - --console\n",
    "+    logging:\n",
    "+      driver: syslog\n",
    "+      options:\n",
    "+        syslog-address: \"tcp://syslog.example.org:514\"\n",
    "+        tag: mariadb\n",
    "@@ -32,7 +37,6 @@\n",
    "       - /srv/moodle/moodle/conf/httpd/conf.d:/etc/httpd/conf.d\n",
    "       - /srv/moodle/moodle/conf/httpd/conf.modules.d:/etc/httpd/conf.modules.d\n",
    "       - /srv/moodle/moodle/conf/ca-trust:/etc/pki/ca-trust/source/anchors\n",
    "-      - /var/log/httpd:/var/log/httpd\n",
    "     ports:\n",
    "       - 80:80\n",
    "     environment:\n",
    "@@ -48,3 +52,8 @@\n",
    "       DB_PASSWORD: \"moodle\"\n",
    "       MOODLE_REVERSEPROXY: \"true\"\n",
    "       WAIT_FOR: db:3306\n",
    "+    logging:\n",
    "+      driver: syslog\n",
    "+      options:\n",
    "+        syslog-address: \"tcp://syslog.example.org:514\"\n",
    "+        tag: moodle\n",
    "```"
   ]
  },
  {
   "cell_type": "markdown",
   "metadata": {},
   "source": [
    "## 編集した設定ファイルの反映\n",
    "\n",
    "設定ファイルの変更内容をコンテナに反映させ、実際にMoodleコンテナのロギングドライバをsyslogに変更します。\n",
    "\n",
    "![設定ファイルの反映](images/moodle-031-04.png)"
   ]
  },
  {
   "cell_type": "markdown",
   "metadata": {},
   "source": [
    "### 編集内容の反映\n",
    "\n",
    "前章で編集した`docker-compose.yml`を構築環境に配置して設定を反映させます。"
   ]
  },
  {
   "cell_type": "markdown",
   "metadata": {},
   "source": [
    "次のセルを実行すると、以下の手順が実行されます。\n",
    "\n",
    "1. 編集前と編集後の`docker-compose.yml`の差分を表示する\n",
    "2. 編集した`docker-compose.yml`を構築環境に配置する\n",
    "3. コンテナを再起動して変更した`docker-compose.yml`の反映を行う"
   ]
  },
  {
   "cell_type": "code",
   "execution_count": null,
   "metadata": {},
   "outputs": [],
   "source": [
    "apply_docker_compose(target_group)"
   ]
  },
  {
   "cell_type": "markdown",
   "metadata": {},
   "source": [
    "syslogサーバにコンテナのログが送信されるようになったことを確認してください。"
   ]
  }
 ],
 "metadata": {
  "kernelspec": {
   "display_name": "Python 3",
   "language": "python",
   "name": "python3"
  },
  "language_info": {
   "file_extension": ".py",
   "mimetype": "text/x-python",
   "name": "python",
   "nbconvert_exporter": "python",
   "pygments_lexer": "ipython3",
   "version": "3.7.3"
  },
  "toc": {
   "base_numbering": 1,
   "nav_menu": {},
   "number_sections": true,
   "sideBar": true,
   "skip_h1_title": true,
   "title_cell": "Table of Contents",
   "title_sidebar": "Contents",
   "toc_cell": false,
   "toc_position": {},
   "toc_section_display": true,
   "toc_window_display": true
  }
 },
 "nbformat": 4,
 "nbformat_minor": 2
}
